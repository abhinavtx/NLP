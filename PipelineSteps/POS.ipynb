{
 "cells": [
  {
   "cell_type": "code",
   "execution_count": 2,
   "metadata": {},
   "outputs": [],
   "source": [
    "import spacy "
   ]
  },
  {
   "cell_type": "code",
   "execution_count": 3,
   "metadata": {},
   "outputs": [],
   "source": [
    "# Commonly listed English parts of speech are \n",
    "# noun, verb, adjective, adverb, pronoun, preposition, conjunction, interjection, numeral, article, and determiner."
   ]
  },
  {
   "cell_type": "code",
   "execution_count": 4,
   "metadata": {},
   "outputs": [],
   "source": [
    "nlp = spacy.load(\"en_core_web_sm\")\n",
    "## This means to load the small part of english language pipeline"
   ]
  },
  {
   "cell_type": "code",
   "execution_count": 5,
   "metadata": {},
   "outputs": [
    {
     "name": "stdout",
     "output_type": "stream",
     "text": [
      "Wow | INTJ | interjection\n",
      "! | PUNCT | punctuation\n",
      "Dr. | PROPN | proper noun\n",
      "Strange | PROPN | proper noun\n",
      "made | VERB | verb\n",
      "265 | NUM | numeral\n",
      "million | NUM | numeral\n",
      "$ | NUM | numeral\n",
      "on | ADP | adposition\n",
      "the | DET | determiner\n",
      "very | ADV | adverb\n",
      "first | ADJ | adjective\n",
      "day | NOUN | noun\n"
     ]
    }
   ],
   "source": [
    "doc = nlp(\"Wow! Dr. Strange made 265 million $ on the very first day\")\n",
    "for token in doc:\n",
    "    print(token, \"|\", token.pos_, \"|\",spacy.explain(token.pos_))"
   ]
  },
  {
   "cell_type": "code",
   "execution_count": 6,
   "metadata": {},
   "outputs": [
    {
     "name": "stdout",
     "output_type": "stream",
     "text": [
      "Wow | UH | interjection\n",
      "! | . | punctuation mark, sentence closer\n",
      "Dr. | NNP | noun, proper singular\n",
      "Strange | NNP | noun, proper singular\n",
      "made | VBD | verb, past tense\n",
      "265 | CD | cardinal number\n",
      "million | CD | cardinal number\n",
      "$ | CD | cardinal number\n",
      "on | IN | conjunction, subordinating or preposition\n",
      "the | DT | determiner\n",
      "very | RB | adverb\n",
      "first | JJ | adjective (English), other noun-modifier (Chinese)\n",
      "day | NN | noun, singular or mass\n"
     ]
    }
   ],
   "source": [
    "## token.tag_  is used to give more detailed pos tagging version like NNm NNP, etc\n",
    "## If we use spacy.explain(token.tag_) -> it tells us about all the details of it\n",
    "for token in doc:\n",
    "    print(token, \"|\", token.tag_, \"|\",spacy.explain(token.tag_))"
   ]
  },
  {
   "cell_type": "code",
   "execution_count": 7,
   "metadata": {},
   "outputs": [
    {
     "name": "stdout",
     "output_type": "stream",
     "text": [
      "NOTE-> Spacy also helps in figuring out the tense used in the text\n"
     ]
    }
   ],
   "source": [
    "print(\"NOTE-> Spacy also helps in figuring out the tense used in the text\")"
   ]
  },
  {
   "cell_type": "code",
   "execution_count": 11,
   "metadata": {},
   "outputs": [
    {
     "name": "stdout",
     "output_type": "stream",
     "text": [
      "quited | VBN | verb, past participle\n"
     ]
    }
   ],
   "source": [
    "job = nlp(\"He has quited his job\")\n",
    "print(job[2].text, \"|\", job[2].tag_, \"|\", spacy.explain(job[2].tag_))"
   ]
  },
  {
   "cell_type": "markdown",
   "metadata": {},
   "source": [
    "### Removing Extra Characters and Punctuation Marks"
   ]
  },
  {
   "cell_type": "code",
   "execution_count": 13,
   "metadata": {},
   "outputs": [],
   "source": [
    "earnings_text = nlp(\"\"\"Microsoft Corp. today announced the following results for the quarter ended December 31, 2021, as compared to the corresponding period of last fiscal year:\n",
    "\n",
    "·         Revenue was $51.7 billion and increased 20%\n",
    "·         Operating income was $22.2 billion and increased 24%\n",
    "·         Net income was $18.8 billion and increased 21%\n",
    "·         Diluted earnings per share was $2.48 and increased 22%\n",
    "“Digital technology is the most malleable resource at the world’s disposal to overcome constraints and reimagine everyday work and life,” said Satya Nadella, chairman and chief executive officer of Microsoft. “As tech as a percentage of global GDP continues to increase, we are innovating and investing across diverse and growing markets, with a common underlying technology stack and an operating model that reinforces a common strategy, culture, and sense of purpose.”\n",
    "“Solid commercial execution, represented by strong bookings growth driven by long-term Azure commitments, increased Microsoft Cloud revenue to $22.1 billion, up 32% year over year” said Amy Hood, executive vice president and chief financial officer of Microsoft.\"\"\")"
   ]
  },
  {
   "cell_type": "code",
   "execution_count": 14,
   "metadata": {},
   "outputs": [
    {
     "name": "stdout",
     "output_type": "stream",
     "text": [
      "Microsoft | PROPN\n",
      "Corp. | PROPN\n",
      "today | NOUN\n",
      "announced | VERB\n",
      "the | DET\n",
      "following | VERB\n",
      "results | NOUN\n",
      "for | ADP\n",
      "the | DET\n",
      "quarter | NOUN\n",
      "ended | VERB\n",
      "December | PROPN\n",
      "31 | NUM\n",
      ", | PUNCT\n",
      "2021 | NUM\n",
      ", | PUNCT\n",
      "as | SCONJ\n",
      "compared | VERB\n",
      "to | ADP\n",
      "the | DET\n",
      "corresponding | ADJ\n",
      "period | NOUN\n",
      "of | ADP\n",
      "last | ADJ\n",
      "fiscal | ADJ\n",
      "year | NOUN\n",
      ": | PUNCT\n",
      "\n",
      "\n",
      " | SPACE\n",
      "· | PUNCT\n",
      "         | SPACE\n",
      "Revenue | NOUN\n",
      "was | AUX\n",
      "$ | SYM\n",
      "51.7 | NUM\n",
      "billion | NUM\n",
      "and | CCONJ\n",
      "increased | VERB\n",
      "20 | NUM\n",
      "% | NOUN\n",
      "\n",
      " | SPACE\n",
      "· | PUNCT\n",
      "         | SPACE\n",
      "Operating | VERB\n",
      "income | NOUN\n",
      "was | AUX\n",
      "$ | SYM\n",
      "22.2 | NUM\n",
      "billion | NUM\n",
      "and | CCONJ\n",
      "increased | VERB\n",
      "24 | NUM\n",
      "% | NOUN\n",
      "\n",
      " | SPACE\n",
      "· | PUNCT\n",
      "         | SPACE\n",
      "Net | ADJ\n",
      "income | NOUN\n",
      "was | AUX\n",
      "$ | SYM\n",
      "18.8 | NUM\n",
      "billion | NUM\n",
      "and | CCONJ\n",
      "increased | VERB\n",
      "21 | NUM\n",
      "% | NOUN\n",
      "\n",
      " | SPACE\n",
      "· | PUNCT\n",
      "         | SPACE\n",
      "Diluted | VERB\n",
      "earnings | NOUN\n",
      "per | ADP\n",
      "share | NOUN\n",
      "was | AUX\n",
      "$ | SYM\n",
      "2.48 | NUM\n",
      "and | CCONJ\n",
      "increased | VERB\n",
      "22 | NUM\n",
      "% | NOUN\n",
      "\n",
      " | SPACE\n",
      "“ | PUNCT\n",
      "Digital | PROPN\n",
      "technology | NOUN\n",
      "is | AUX\n",
      "the | DET\n",
      "most | ADV\n",
      "malleable | ADJ\n",
      "resource | NOUN\n",
      "at | ADP\n",
      "the | DET\n",
      "world | NOUN\n",
      "’s | PART\n",
      "disposal | NOUN\n",
      "to | PART\n",
      "overcome | VERB\n",
      "constraints | NOUN\n",
      "and | CCONJ\n",
      "reimagine | VERB\n",
      "everyday | ADJ\n",
      "work | NOUN\n",
      "and | CCONJ\n",
      "life | NOUN\n",
      ", | PUNCT\n",
      "” | PUNCT\n",
      "said | VERB\n",
      "Satya | PROPN\n",
      "Nadella | PROPN\n",
      ", | PUNCT\n",
      "chairman | NOUN\n",
      "and | CCONJ\n",
      "chief | ADJ\n",
      "executive | ADJ\n",
      "officer | NOUN\n",
      "of | ADP\n",
      "Microsoft | PROPN\n",
      ". | PUNCT\n",
      "“ | PUNCT\n",
      "As | ADV\n",
      "tech | NOUN\n",
      "as | ADP\n",
      "a | DET\n",
      "percentage | NOUN\n",
      "of | ADP\n",
      "global | ADJ\n",
      "GDP | PROPN\n",
      "continues | VERB\n",
      "to | PART\n",
      "increase | VERB\n",
      ", | PUNCT\n",
      "we | PRON\n",
      "are | AUX\n",
      "innovating | VERB\n",
      "and | CCONJ\n",
      "investing | VERB\n",
      "across | ADP\n",
      "diverse | ADJ\n",
      "and | CCONJ\n",
      "growing | VERB\n",
      "markets | NOUN\n",
      ", | PUNCT\n",
      "with | ADP\n",
      "a | DET\n",
      "common | ADJ\n",
      "underlying | VERB\n",
      "technology | NOUN\n",
      "stack | NOUN\n",
      "and | CCONJ\n",
      "an | DET\n",
      "operating | NOUN\n",
      "model | NOUN\n",
      "that | PRON\n",
      "reinforces | VERB\n",
      "a | DET\n",
      "common | ADJ\n",
      "strategy | NOUN\n",
      ", | PUNCT\n",
      "culture | NOUN\n",
      ", | PUNCT\n",
      "and | CCONJ\n",
      "sense | NOUN\n",
      "of | ADP\n",
      "purpose | NOUN\n",
      ". | PUNCT\n",
      "” | PUNCT\n",
      "\n",
      " | SPACE\n",
      "“ | PUNCT\n",
      "Solid | ADJ\n",
      "commercial | ADJ\n",
      "execution | NOUN\n",
      ", | PUNCT\n",
      "represented | VERB\n",
      "by | ADP\n",
      "strong | ADJ\n",
      "bookings | NOUN\n",
      "growth | NOUN\n",
      "driven | VERB\n",
      "by | ADP\n",
      "long | ADJ\n",
      "- | PUNCT\n",
      "term | NOUN\n",
      "Azure | ADJ\n",
      "commitments | NOUN\n",
      ", | PUNCT\n",
      "increased | VERB\n",
      "Microsoft | PROPN\n",
      "Cloud | PROPN\n",
      "revenue | NOUN\n",
      "to | ADP\n",
      "$ | SYM\n",
      "22.1 | NUM\n",
      "billion | NUM\n",
      ", | PUNCT\n",
      "up | ADV\n",
      "32 | NUM\n",
      "% | NOUN\n",
      "year | NOUN\n",
      "over | ADP\n",
      "year | NOUN\n",
      "” | PUNCT\n",
      "said | VERB\n",
      "Amy | PROPN\n",
      "Hood | PROPN\n",
      ", | PUNCT\n",
      "executive | ADJ\n",
      "vice | NOUN\n",
      "president | NOUN\n",
      "and | CCONJ\n",
      "chief | ADJ\n",
      "financial | ADJ\n",
      "officer | NOUN\n",
      "of | ADP\n",
      "Microsoft | PROPN\n",
      ". | PUNCT\n"
     ]
    }
   ],
   "source": [
    "for token in earnings_text:\n",
    "    print(token, \"|\",token.pos_)"
   ]
  },
  {
   "cell_type": "code",
   "execution_count": 20,
   "metadata": {},
   "outputs": [],
   "source": [
    "## Now from pos some of the tags are such that which are space, punctation or something like that\n",
    "filteredText = list()\n",
    "uniquePos = set()\n",
    "for token in earnings_text:\n",
    "    uniquePos.add(spacy.explain(token.pos_))\n",
    "    if(token.pos_ not in [\"SPACE\", \"PUNCT\", \"X\"]):\n",
    "        filteredText.append(token)"
   ]
  },
  {
   "cell_type": "code",
   "execution_count": 21,
   "metadata": {},
   "outputs": [
    {
     "data": {
      "text/plain": [
       "[Microsoft,\n",
       " Corp.,\n",
       " today,\n",
       " announced,\n",
       " the,\n",
       " following,\n",
       " results,\n",
       " for,\n",
       " the,\n",
       " quarter,\n",
       " ended,\n",
       " December,\n",
       " 31,\n",
       " 2021,\n",
       " as,\n",
       " compared,\n",
       " to,\n",
       " the,\n",
       " corresponding,\n",
       " period,\n",
       " of,\n",
       " last,\n",
       " fiscal,\n",
       " year,\n",
       " Revenue,\n",
       " was,\n",
       " $,\n",
       " 51.7,\n",
       " billion,\n",
       " and,\n",
       " increased,\n",
       " 20,\n",
       " %,\n",
       " Operating,\n",
       " income,\n",
       " was,\n",
       " $,\n",
       " 22.2,\n",
       " billion,\n",
       " and,\n",
       " increased,\n",
       " 24,\n",
       " %,\n",
       " Net,\n",
       " income,\n",
       " was,\n",
       " $,\n",
       " 18.8,\n",
       " billion,\n",
       " and,\n",
       " increased,\n",
       " 21,\n",
       " %,\n",
       " Diluted,\n",
       " earnings,\n",
       " per,\n",
       " share,\n",
       " was,\n",
       " $,\n",
       " 2.48,\n",
       " and,\n",
       " increased,\n",
       " 22,\n",
       " %,\n",
       " Digital,\n",
       " technology,\n",
       " is,\n",
       " the,\n",
       " most,\n",
       " malleable,\n",
       " resource,\n",
       " at,\n",
       " the,\n",
       " world,\n",
       " ’s,\n",
       " disposal,\n",
       " to,\n",
       " overcome,\n",
       " constraints,\n",
       " and,\n",
       " reimagine,\n",
       " everyday,\n",
       " work,\n",
       " and,\n",
       " life,\n",
       " said,\n",
       " Satya,\n",
       " Nadella,\n",
       " chairman,\n",
       " and,\n",
       " chief,\n",
       " executive,\n",
       " officer,\n",
       " of,\n",
       " Microsoft,\n",
       " As,\n",
       " tech,\n",
       " as,\n",
       " a,\n",
       " percentage,\n",
       " of,\n",
       " global,\n",
       " GDP,\n",
       " continues,\n",
       " to,\n",
       " increase,\n",
       " we,\n",
       " are,\n",
       " innovating,\n",
       " and,\n",
       " investing,\n",
       " across,\n",
       " diverse,\n",
       " and,\n",
       " growing,\n",
       " markets,\n",
       " with,\n",
       " a,\n",
       " common,\n",
       " underlying,\n",
       " technology,\n",
       " stack,\n",
       " and,\n",
       " an,\n",
       " operating,\n",
       " model,\n",
       " that,\n",
       " reinforces,\n",
       " a,\n",
       " common,\n",
       " strategy,\n",
       " culture,\n",
       " and,\n",
       " sense,\n",
       " of,\n",
       " purpose,\n",
       " Solid,\n",
       " commercial,\n",
       " execution,\n",
       " represented,\n",
       " by,\n",
       " strong,\n",
       " bookings,\n",
       " growth,\n",
       " driven,\n",
       " by,\n",
       " long,\n",
       " term,\n",
       " Azure,\n",
       " commitments,\n",
       " increased,\n",
       " Microsoft,\n",
       " Cloud,\n",
       " revenue,\n",
       " to,\n",
       " $,\n",
       " 22.1,\n",
       " billion,\n",
       " up,\n",
       " 32,\n",
       " %,\n",
       " year,\n",
       " over,\n",
       " year,\n",
       " said,\n",
       " Amy,\n",
       " Hood,\n",
       " executive,\n",
       " vice,\n",
       " president,\n",
       " and,\n",
       " chief,\n",
       " financial,\n",
       " officer,\n",
       " of,\n",
       " Microsoft]"
      ]
     },
     "execution_count": 21,
     "metadata": {},
     "output_type": "execute_result"
    }
   ],
   "source": [
    "filteredText"
   ]
  },
  {
   "cell_type": "code",
   "execution_count": 23,
   "metadata": {},
   "outputs": [
    {
     "name": "stdout",
     "output_type": "stream",
     "text": [
      "adposition adverb particle auxiliary symbol proper noun coordinating conjunction punctuation pronoun verb noun determiner adjective numeral space subordinating conjunction "
     ]
    }
   ],
   "source": [
    "for i in uniquePos:\n",
    "    print(i, end = \" \")\n",
    "## Printing all types of unique pos in this"
   ]
  },
  {
   "cell_type": "code",
   "execution_count": 26,
   "metadata": {},
   "outputs": [
    {
     "data": {
      "text/plain": [
       "{91: 1, 97: 1, 96: 2, 100: 1, 93: 3, 85: 1, 90: 1, 86: 1, 84: 1, 92: 1}"
      ]
     },
     "execution_count": 26,
     "metadata": {},
     "output_type": "execute_result"
    }
   ],
   "source": [
    "countPOS = doc.count_by(spacy.attrs.POS)\n",
    "countPOS"
   ]
  },
  {
   "cell_type": "code",
   "execution_count": 28,
   "metadata": {},
   "outputs": [
    {
     "name": "stdout",
     "output_type": "stream",
     "text": [
      "interjection  |  1\n",
      "punctuation  |  1\n",
      "proper noun  |  2\n",
      "verb  |  1\n",
      "numeral  |  3\n",
      "adposition  |  1\n",
      "determiner  |  1\n",
      "adverb  |  1\n",
      "adjective  |  1\n",
      "noun  |  1\n"
     ]
    }
   ],
   "source": [
    "## These numbers are the vocabulary index of pos\n",
    "for key,val in countPOS.items():\n",
    "    print(spacy.explain(earnings_text.vocab[key].text), \" | \", val)"
   ]
  },
  {
   "cell_type": "markdown",
   "metadata": {},
   "source": [
    "### Now using an external file for pos tagging"
   ]
  },
  {
   "cell_type": "code",
   "execution_count": 29,
   "metadata": {},
   "outputs": [
    {
     "name": "stdout",
     "output_type": "stream",
     "text": [
      "Inflation rose again in April, continuing a climb that has pushed consumers to the brink and is threatening the economic expansion, the Bureau of Labor Statistics reported Wednesday.\n",
      "\n",
      "The consumer price index, a broad-based measure of prices for goods and services, increased 8.3% from a year ago, higher than the Dow Jones estimate for an 8.1% gain. That represented a slight ease from Marchâ€™s peak but was still close to the highest level since the summer of 1982.\n",
      "\n",
      "Removing volatile food and energy prices, so-called core CPI still rose 6.2%, against expectations for a 6% gain, clouding hopes that inflation had peaked in March.\n",
      "\n",
      "The month-over-month gains also were higher than expectations â€” 0.3% on headline CPI versus the 0.2% estimate and a 0.6% increase for core, against the outlook for a 0.4% gain.\n",
      "\n",
      "The price gains also meant that workers continued to lose ground. Real wages adjusted for inflation decreased 0.1% on the month despite a nominal increase of 0.3% in average hourly earnings. Over the past year, real earnings have dropped 2.6% even though average hourly earnings are up 5.5%.\n",
      "\n",
      "Inflation has been the single biggest threat to a recovery that began early in the Covid pandemic and saw the economy in 2021 stage its biggest single-year growth level since 1984. Rising prices at the pump and in grocery stores have been one problem, but inflation has spread beyond those two areas into housing, auto sales and a host of other areas.\n",
      "\n",
      "Federal Reserve officials have responded to the problem with two interest rate hikes so far this year and pledges of more until inflation comes down to the central bankâ€™s 2% goal. However, Wednesdayâ€™s data shows that the Fed has a big job ahead.\n",
      "\n",
      "Credits: cnbc.com\n"
     ]
    }
   ],
   "source": [
    "with open('news_story.txt', 'r') as file:\n",
    "    newStory = file.read()\n",
    "\n",
    "print(newStory)"
   ]
  },
  {
   "cell_type": "code",
   "execution_count": 31,
   "metadata": {},
   "outputs": [
    {
     "name": "stdout",
     "output_type": "stream",
     "text": [
      "[Inflation, climb, consumers, brink, expansion, consumer, price, index, measure, prices, goods, services, %, year, estimate, %, gain, ease, Marchâ€, ™, peak, level, summer, food, energy, prices, core, %, expectations, %, gain, hopes, inflation, month, month, gains, expectations, %, headline, %, estimate, %, increase, core, outlook, %, gain, price, gains, workers, ground, wages, inflation, %, month, increase, %, earnings, year, earnings, %, earnings, %, Inflation, threat, recovery, pandemic, economy, stage, year, growth, level, prices, pump, grocery, stores, problem, inflation, areas, housing, auto, sales, host, areas, officials, problem, interest, rate, hikes, year, pledges, inflation, %, goal, ™, data, job, Credits]\n",
      "[8.3, 8.1, 1982, 6.2, 6, â€, 0.3, 0.2, 0.6, 0.4, 0.1, 0.3, 2.6, 5.5, 2021, 1984, one, two, two, 2]\n"
     ]
    }
   ],
   "source": [
    "newStory = nlp(newStory)\n",
    "noun_story = list()\n",
    "numbers = list()\n",
    "for token in newStory:\n",
    "    if token.pos_ == 'NOUN':\n",
    "        noun_story.append(token)\n",
    "    elif token.pos_ == 'NUM':\n",
    "        numbers.append(token)\n",
    "print(noun_story)\n",
    "print(numbers)"
   ]
  },
  {
   "cell_type": "code",
   "execution_count": null,
   "metadata": {},
   "outputs": [],
   "source": []
  }
 ],
 "metadata": {
  "kernelspec": {
   "display_name": "Python 3",
   "language": "python",
   "name": "python3"
  },
  "language_info": {
   "codemirror_mode": {
    "name": "ipython",
    "version": 3
   },
   "file_extension": ".py",
   "mimetype": "text/x-python",
   "name": "python",
   "nbconvert_exporter": "python",
   "pygments_lexer": "ipython3",
   "version": "3.9.2rc1"
  }
 },
 "nbformat": 4,
 "nbformat_minor": 2
}
