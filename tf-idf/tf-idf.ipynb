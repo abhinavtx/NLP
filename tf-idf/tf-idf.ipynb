{
 "cells": [
  {
   "cell_type": "code",
   "execution_count": 38,
   "metadata": {},
   "outputs": [],
   "source": [
    "import numpy as np \n",
    "import pandas as pd \n",
    "from sklearn.feature_extraction.text import TfidfVectorizer"
   ]
  },
  {
   "cell_type": "markdown",
   "metadata": {},
   "source": [
    "### What is TF-IDF?\n",
    "\n",
    "- TF stands for **Term Frequency** and denotes the ratio of  number of times a particular word appeared in a Document to total number of words in the document.\n",
    "          \n",
    "         Term Frequency(TF) = [number of times word appeared / total no of words in a document]\n",
    " \n",
    "- Term Frequency values ranges between 0 and 1. If a word occurs more number of times, then it's value will be close to 1.\n",
    "\n",
    "\n",
    "- IDF stands for **Inverse Document Frequency** and denotes the log of ratio of total number of documents/datapoints in the whole dataset to the number of documents that contains the particular word.\n",
    "\n",
    "         Inverse Document Frequency(IDF) = [log(Total number of documents / number of documents that contains the word)]\n",
    "        \n",
    "- In IDF, if a word occured in more number of documents and is common across all documents, then it's value will be less and ratio will approaches to 0. \n",
    "\n",
    "\n",
    "- Finally:\n",
    "         \n",
    "         TF-IDF = Term Frequency(TF) * Inverse Document Frequency(IDF)"
   ]
  },
  {
   "cell_type": "code",
   "execution_count": 39,
   "metadata": {},
   "outputs": [],
   "source": [
    "corpus = [\n",
    "    \"Thor eating pizza, Loki is eating pizza, Ironman ate pizza already\",\n",
    "    \"Apple is announcing new iphone tomorrow\",\n",
    "    \"Tesla is announcing new model-3 tomorrow\",\n",
    "    \"Google is announcing new pixel-6 tomorrow\",\n",
    "    \"Microsoft is announcing new surface tomorrow\",\n",
    "    \"Amazon is announcing new eco-dot tomorrow\",\n",
    "    \"I am eating biryani and you are eating grapes\"\n",
    "]"
   ]
  },
  {
   "cell_type": "code",
   "execution_count": 40,
   "metadata": {},
   "outputs": [],
   "source": [
    "v = TfidfVectorizer()\n",
    "TransformedOutput = v.fit_transform(corpus)"
   ]
  },
  {
   "cell_type": "code",
   "execution_count": 41,
   "metadata": {},
   "outputs": [],
   "source": [
    "arr = np.array(TransformedOutput[0].toarray())"
   ]
  },
  {
   "cell_type": "code",
   "execution_count": 42,
   "metadata": {},
   "outputs": [],
   "source": [
    "arr = arr.reshape(-1)"
   ]
  },
  {
   "cell_type": "code",
   "execution_count": 43,
   "metadata": {},
   "outputs": [
    {
     "data": {
      "text/plain": [
       "['Thor',\n",
       " 'eating',\n",
       " 'pizza,',\n",
       " 'Loki',\n",
       " 'is',\n",
       " 'eating',\n",
       " 'pizza,',\n",
       " 'Ironman',\n",
       " 'ate',\n",
       " 'pizza',\n",
       " 'already']"
      ]
     },
     "execution_count": 43,
     "metadata": {},
     "output_type": "execute_result"
    }
   ],
   "source": [
    "word = corpus[0].split()\n",
    "word"
   ]
  },
  {
   "cell_type": "code",
   "execution_count": 44,
   "metadata": {},
   "outputs": [
    {
     "name": "stdout",
     "output_type": "stream",
     "text": [
      "Thor  :  0.2426654728284301\n",
      "eating  :  0.0\n",
      "pizza,  :  0.0\n",
      "Loki  :  0.0\n",
      "is  :  0.0\n",
      "eating  :  0.0\n",
      "pizza,  :  0.0\n",
      "Ironman  :  0.2426654728284301\n",
      "ate  :  0.0\n",
      "pizza  :  0.0\n",
      "already  :  0.40286636477562926\n"
     ]
    }
   ],
   "source": [
    "for i in range(len(word)):\n",
    "    print(word[i], \" : \", arr[i])"
   ]
  },
  {
   "cell_type": "code",
   "execution_count": 45,
   "metadata": {},
   "outputs": [
    {
     "name": "stdout",
     "output_type": "stream",
     "text": [
      "{'thor': 25, 'eating': 10, 'pizza': 22, 'loki': 17, 'is': 16, 'ironman': 15, 'ate': 7, 'already': 0, 'apple': 5, 'announcing': 4, 'new': 20, 'iphone': 14, 'tomorrow': 26, 'tesla': 24, 'model': 19, 'google': 12, 'pixel': 21, 'microsoft': 18, 'surface': 23, 'amazon': 2, 'eco': 11, 'dot': 9, 'am': 1, 'biryani': 8, 'and': 3, 'you': 27, 'are': 6, 'grapes': 13}\n"
     ]
    }
   ],
   "source": [
    "print(v.vocabulary_)"
   ]
  },
  {
   "cell_type": "code",
   "execution_count": 48,
   "metadata": {},
   "outputs": [
    {
     "name": "stdout",
     "output_type": "stream",
     "text": [
      "For 'already' the idf is: '2.386294361119891'\n",
      "For 'am' the idf is: '2.386294361119891'\n",
      "For 'amazon' the idf is: '2.386294361119891'\n",
      "For 'and' the idf is: '2.386294361119891'\n",
      "For 'announcing' the idf is: '1.2876820724517808'\n",
      "For 'apple' the idf is: '2.386294361119891'\n",
      "For 'are' the idf is: '2.386294361119891'\n",
      "For 'ate' the idf is: '2.386294361119891'\n",
      "For 'biryani' the idf is: '2.386294361119891'\n",
      "For 'dot' the idf is: '2.386294361119891'\n",
      "For 'eating' the idf is: '1.9808292530117262'\n",
      "For 'eco' the idf is: '2.386294361119891'\n",
      "For 'google' the idf is: '2.386294361119891'\n",
      "For 'grapes' the idf is: '2.386294361119891'\n",
      "For 'iphone' the idf is: '2.386294361119891'\n",
      "For 'ironman' the idf is: '2.386294361119891'\n",
      "For 'is' the idf is: '1.1335313926245225'\n",
      "For 'loki' the idf is: '2.386294361119891'\n",
      "For 'microsoft' the idf is: '2.386294361119891'\n",
      "For 'model' the idf is: '2.386294361119891'\n",
      "For 'new' the idf is: '1.2876820724517808'\n",
      "For 'pixel' the idf is: '2.386294361119891'\n",
      "For 'pizza' the idf is: '2.386294361119891'\n",
      "For 'surface' the idf is: '2.386294361119891'\n",
      "For 'tesla' the idf is: '2.386294361119891'\n",
      "For 'thor' the idf is: '2.386294361119891'\n",
      "For 'tomorrow' the idf is: '1.2876820724517808'\n",
      "For 'you' the idf is: '2.386294361119891'\n"
     ]
    }
   ],
   "source": [
    "featureNames = v.get_feature_names_out()\n",
    "\n",
    "for word in featureNames:\n",
    "    ind = v.vocabulary_.get(word)\n",
    "    print(\"For '{}' the idf is: '{}'\".format(word, v.idf_[ind]))"
   ]
  },
  {
   "cell_type": "markdown",
   "metadata": {},
   "source": [
    "### Problem Statement: Given a description about a product sold on e-commerce website, classify it in one of the 4 categories\n",
    "\n",
    "Dataset Credits: https://www.kaggle.com/datasets/saurabhshahane/ecommerce-text-classification\n",
    "\n",
    "\n",
    "- This data consists of two columns.\n",
    "\n",
    "| Text | Label | \n",
    "| --- | --- |\n",
    "| Indira Designer Women's Art Mysore Silk Saree With Blouse Piece (Star-Red) This Saree Is Of Art Mysore Silk & Comes With Blouse Piece. | Clothing & Accessories | \n",
    "|IO Crest SY-PCI40010 PCI RAID Host Controller Card Brings new life to any old desktop PC. Connects up to 4 SATA II high speed SATA hard disk drives. Supports Windows 8 and Server 2012|Electronics|\n",
    "|Operating Systems in Depth About the Author Professor Doeppner is an associate professor of computer science at Brown University. His research interests include mobile computing in education, mobile and ubiquitous computing, operating systems and distribution systems, parallel computing, and security.|Books|\n",
    "\n",
    "- ***Text***: Description of an item sold on e-commerce website\n",
    "- ***Label***: Category of that item. Total 4 categories: \"Electronics\", \"Household\", \"Books\" and \"Clothing & Accessories\", which almost cover 80% of any E-commerce website.\n"
   ]
  },
  {
   "cell_type": "code",
   "execution_count": 49,
   "metadata": {},
   "outputs": [
    {
     "data": {
      "text/html": [
       "<div>\n",
       "<style scoped>\n",
       "    .dataframe tbody tr th:only-of-type {\n",
       "        vertical-align: middle;\n",
       "    }\n",
       "\n",
       "    .dataframe tbody tr th {\n",
       "        vertical-align: top;\n",
       "    }\n",
       "\n",
       "    .dataframe thead th {\n",
       "        text-align: right;\n",
       "    }\n",
       "</style>\n",
       "<table border=\"1\" class=\"dataframe\">\n",
       "  <thead>\n",
       "    <tr style=\"text-align: right;\">\n",
       "      <th></th>\n",
       "      <th>Text</th>\n",
       "      <th>label</th>\n",
       "    </tr>\n",
       "  </thead>\n",
       "  <tbody>\n",
       "    <tr>\n",
       "      <th>0</th>\n",
       "      <td>Urban Ladder Eisner Low Back Study-Office Comp...</td>\n",
       "      <td>Household</td>\n",
       "    </tr>\n",
       "    <tr>\n",
       "      <th>1</th>\n",
       "      <td>Contrast living Wooden Decorative Box,Painted ...</td>\n",
       "      <td>Household</td>\n",
       "    </tr>\n",
       "    <tr>\n",
       "      <th>2</th>\n",
       "      <td>IO Crest SY-PCI40010 PCI RAID Host Controller ...</td>\n",
       "      <td>Electronics</td>\n",
       "    </tr>\n",
       "    <tr>\n",
       "      <th>3</th>\n",
       "      <td>ISAKAA Baby Socks from Just Born to 8 Years- P...</td>\n",
       "      <td>Clothing &amp; Accessories</td>\n",
       "    </tr>\n",
       "    <tr>\n",
       "      <th>4</th>\n",
       "      <td>Indira Designer Women's Art Mysore Silk Saree ...</td>\n",
       "      <td>Clothing &amp; Accessories</td>\n",
       "    </tr>\n",
       "  </tbody>\n",
       "</table>\n",
       "</div>"
      ],
      "text/plain": [
       "                                                Text                   label\n",
       "0  Urban Ladder Eisner Low Back Study-Office Comp...               Household\n",
       "1  Contrast living Wooden Decorative Box,Painted ...               Household\n",
       "2  IO Crest SY-PCI40010 PCI RAID Host Controller ...             Electronics\n",
       "3  ISAKAA Baby Socks from Just Born to 8 Years- P...  Clothing & Accessories\n",
       "4  Indira Designer Women's Art Mysore Silk Saree ...  Clothing & Accessories"
      ]
     },
     "execution_count": 49,
     "metadata": {},
     "output_type": "execute_result"
    }
   ],
   "source": [
    "df = pd.read_csv('Ecommerce_data.csv')\n",
    "df.head()"
   ]
  },
  {
   "cell_type": "code",
   "execution_count": 52,
   "metadata": {},
   "outputs": [
    {
     "data": {
      "text/plain": [
       "label\n",
       "Household                 6000\n",
       "Electronics               6000\n",
       "Clothing & Accessories    6000\n",
       "Books                     6000\n",
       "Name: count, dtype: int64"
      ]
     },
     "execution_count": 52,
     "metadata": {},
     "output_type": "execute_result"
    }
   ],
   "source": [
    "df['label'].value_counts()"
   ]
  },
  {
   "cell_type": "code",
   "execution_count": 53,
   "metadata": {},
   "outputs": [],
   "source": [
    "df['label_Code'] = df['label'].map({\n",
    "    'Household' : 0, \n",
    "    'Books': 1, \n",
    "    'Electronics': 2, \n",
    "    'Clothing & Accessories': 3\n",
    "})"
   ]
  },
  {
   "cell_type": "code",
   "execution_count": 59,
   "metadata": {},
   "outputs": [],
   "source": [
    "### utlity function for pre-processing the text\n",
    "import spacy\n",
    "\n",
    "nlp = spacy.load(\"en_core_web_sm\") \n",
    "\n",
    "def preprocess(text):\n",
    "    # remove stop words and lemmatize the text\n",
    "    doc = nlp(text)\n",
    "    filtered_tokens = []\n",
    "    for token in doc:\n",
    "        if not (token.is_stop or token.is_punct):\n",
    "            filtered_tokens.append(token.lemma_)\n",
    "    \n",
    "    return \" \".join(filtered_tokens) "
   ]
  },
  {
   "cell_type": "code",
   "execution_count": 60,
   "metadata": {},
   "outputs": [],
   "source": [
    "df['Preprocessed_Text'] = df['Text'].apply(preprocess)"
   ]
  },
  {
   "cell_type": "code",
   "execution_count": 63,
   "metadata": {},
   "outputs": [],
   "source": [
    "from sklearn.model_selection import train_test_split\n",
    "x = df['Preprocessed_Text']\n",
    "y = df['label_Code']\n",
    "x_train, x_test, y_train, y_test = train_test_split(x,y, test_size=0.2, stratify = y, random_state = True)"
   ]
  },
  {
   "cell_type": "code",
   "execution_count": 64,
   "metadata": {},
   "outputs": [
    {
     "data": {
      "text/plain": [
       "label_Code\n",
       "0    4800\n",
       "2    4800\n",
       "1    4800\n",
       "3    4800\n",
       "Name: count, dtype: int64"
      ]
     },
     "execution_count": 64,
     "metadata": {},
     "output_type": "execute_result"
    }
   ],
   "source": [
    "y_train.value_counts()"
   ]
  },
  {
   "cell_type": "code",
   "execution_count": 65,
   "metadata": {},
   "outputs": [],
   "source": [
    "from sklearn.neighbors import KNeighborsClassifier\n",
    "from sklearn.naive_bayes import MultinomialNB\n",
    "from sklearn.ensemble import RandomForestClassifier\n",
    "from sklearn.pipeline import Pipeline\n",
    "from sklearn.metrics import classification_report, accuracy_score, confusion_matrix"
   ]
  },
  {
   "cell_type": "code",
   "execution_count": 66,
   "metadata": {},
   "outputs": [
    {
     "data": {
      "text/plain": [
       "'Urban Ladder Eisner low Study Office Computer Chair(Black study simple Eisner study chair firm foam cushion make long hour desk comfortable flexible mesh design air circulation support lean curved arm provide ergonomic forearm support adjust height gas lift find comfortable position nylon castor easy space chrome leg refer image dimension detail assembly require UL team time delivery indoor use'"
      ]
     },
     "execution_count": 66,
     "metadata": {},
     "output_type": "execute_result"
    }
   ],
   "source": [
    "df['Preprocessed_Text'][0]"
   ]
  },
  {
   "cell_type": "code",
   "execution_count": 84,
   "metadata": {},
   "outputs": [
    {
     "name": "stdout",
     "output_type": "stream",
     "text": [
      "The classification report is: \n",
      "               precision    recall  f1-score   support\n",
      "\n",
      "           0       0.97      0.97      0.97      1200\n",
      "           1       0.99      0.98      0.98      1200\n",
      "           2       0.99      0.98      0.98      1200\n",
      "           3       0.98      0.99      0.98      1200\n",
      "\n",
      "    accuracy                           0.98      4800\n",
      "   macro avg       0.98      0.98      0.98      4800\n",
      "weighted avg       0.98      0.98      0.98      4800\n",
      "\n",
      "\n",
      "The accuracy score is: \n",
      " 0.9810416666666667\n"
     ]
    }
   ],
   "source": [
    "## Now making a pipeline \n",
    "pipeRF = Pipeline([\n",
    "    ('vectorizerTfIDF', TfidfVectorizer()),\n",
    "    ('Random_Forest', RandomForestClassifier())\n",
    "])\n",
    "\n",
    "pipeRF.fit(x_train, y_train)\n",
    "RFpred = pipeRF.predict(x_test)\n",
    "\n",
    "print(\"The classification report is: \\n\", classification_report(y_test, RFpred))\n",
    "print(\"\\nThe accuracy score is: \\n\", accuracy_score(y_test, RFpred))"
   ]
  },
  {
   "cell_type": "code",
   "execution_count": 86,
   "metadata": {},
   "outputs": [
    {
     "data": {
      "text/plain": [
       "Text(8.222222222222223, 0.5, 'Truth')"
      ]
     },
     "execution_count": 86,
     "metadata": {},
     "output_type": "execute_result"
    },
    {
     "data": {
      "image/png": "[encoded data removed]",
      "text/plain": [
       "<Figure size 300x300 with 2 Axes>"
      ]
     },
     "metadata": {},
     "output_type": "display_data"
    }
   ],
   "source": [
    "from matplotlib import pyplot as plt\n",
    "import seaborn as sn\n",
    "plt.figure(figsize = (3,3))\n",
    "sn.heatmap(confusion_matrix(y_test, RFpred), annot=True, fmt='d')\n",
    "plt.xlabel('Prediction')\n",
    "plt.ylabel('Truth')"
   ]
  },
  {
   "cell_type": "code",
   "execution_count": 68,
   "metadata": {},
   "outputs": [],
   "source": [
    "## There is a feature in pipeline by which we can use the intermediate step of a pipeline\n",
    "## So using the result of tf-idf vectorizer\n",
    "x_trainIDF = pipeRF.named_steps['vectorizerTfIDF'].transform(x_train)\n",
    "x_testIDF = pipeRF.named_steps['vectorizerTfIDF'].transform(x_test)"
   ]
  },
  {
   "cell_type": "code",
   "execution_count": 73,
   "metadata": {},
   "outputs": [
    {
     "name": "stdout",
     "output_type": "stream",
     "text": [
      "The classification report is: \n",
      "               precision    recall  f1-score   support\n",
      "\n",
      "           0       0.95      0.96      0.95      1200\n",
      "           1       0.97      0.95      0.96      1200\n",
      "           2       0.98      0.97      0.98      1200\n",
      "           3       0.97      0.98      0.98      1200\n",
      "\n",
      "    accuracy                           0.97      4800\n",
      "   macro avg       0.97      0.97      0.97      4800\n",
      "weighted avg       0.97      0.97      0.97      4800\n",
      "\n",
      "\n",
      "The accuracy score is: \n",
      " 0.966875\n",
      "\n",
      "The confusion matrix is: \n",
      " [[1151   18   16   15]\n",
      " [  34 1146    8   12]\n",
      " [  15   10 1170    5]\n",
      " [  15    6    5 1174]]\n"
     ]
    }
   ],
   "source": [
    "knn = KNeighborsClassifier()\n",
    "knn.fit(x_trainIDF, y_train)\n",
    "knnPred = knn.predict(x_testIDF)\n",
    "\n",
    "print(\"The classification report is: \\n\", classification_report(y_test, knnPred))\n",
    "print(\"\\nThe accuracy score is: \\n\", accuracy_score(y_test, knnPred))\n",
    "print(\"\\nThe confusion matrix is: \\n\", confusion_matrix(y_test, knnPred))"
   ]
  },
  {
   "cell_type": "code",
   "execution_count": 74,
   "metadata": {},
   "outputs": [
    {
     "name": "stdout",
     "output_type": "stream",
     "text": [
      "The classification report is: \n",
      "               precision    recall  f1-score   support\n",
      "\n",
      "           0       0.95      0.96      0.95      1200\n",
      "           1       0.97      0.95      0.96      1200\n",
      "           2       0.98      0.97      0.98      1200\n",
      "           3       0.97      0.98      0.98      1200\n",
      "\n",
      "    accuracy                           0.97      4800\n",
      "   macro avg       0.97      0.97      0.97      4800\n",
      "weighted avg       0.97      0.97      0.97      4800\n",
      "\n",
      "\n",
      "The accuracy score is: \n",
      " 0.966875\n",
      "\n",
      "The confusion matrix is: \n",
      " [[1151   18   16   15]\n",
      " [  34 1146    8   12]\n",
      " [  15   10 1170    5]\n",
      " [  15    6    5 1174]]\n"
     ]
    }
   ],
   "source": [
    "nb = MultinomialNB()\n",
    "nb.fit(x_trainIDF, y_train)\n",
    "nbPred = knn.predict(x_testIDF)\n",
    "\n",
    "print(\"The classification report is: \\n\", classification_report(y_test, nbPred))\n",
    "print(\"\\nThe accuracy score is: \\n\", accuracy_score(y_test, nbPred))\n",
    "print(\"\\nThe confusion matrix is: \\n\", confusion_matrix(y_test, nbPred))"
   ]
  },
  {
   "cell_type": "code",
   "execution_count": null,
   "metadata": {},
   "outputs": [],
   "source": []
  }
 ],
 "metadata": {
  "kernelspec": {
   "display_name": "Python 3",
   "language": "python",
   "name": "python3"
  },
  "language_info": {
   "codemirror_mode": {
    "name": "ipython",
    "version": 3
   },
   "file_extension": ".py",
   "mimetype": "text/x-python",
   "name": "python",
   "nbconvert_exporter": "python",
   "pygments_lexer": "ipython3",
   "version": "3.9.2rc1"
  }
 },
 "nbformat": 4,
 "nbformat_minor": 2
}
