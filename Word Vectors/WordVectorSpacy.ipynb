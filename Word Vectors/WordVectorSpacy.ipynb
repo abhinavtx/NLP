{
 "cells": [
  {
   "cell_type": "code",
   "execution_count": 3,
   "metadata": {},
   "outputs": [],
   "source": [
    "import spacy\n",
    "## In spacy to use word vectors we shall have to load the large model\n",
    "nlp = spacy.load('en_core_web_lg')"
   ]
  },
  {
   "cell_type": "code",
   "execution_count": 9,
   "metadata": {},
   "outputs": [
    {
     "name": "stdout",
     "output_type": "stream",
     "text": [
      "Doc  vector: True ,OOV:  False\n",
      "cat  vector: True ,OOV:  False\n",
      "banana  vector: True ,OOV:  False\n",
      "abcfd  vector: False ,OOV:  True\n"
     ]
    }
   ],
   "source": [
    "doc = nlp(\"Doc cat banana abcfd\")\n",
    "\n",
    "for token in doc:\n",
    "    print(token.text, \" vector:\", token.has_vector, \",OOV: \", token.is_oov)\n",
    "## Here OOV means out of the vocabulary"
   ]
  },
  {
   "cell_type": "code",
   "execution_count": 11,
   "metadata": {},
   "outputs": [
    {
     "name": "stdout",
     "output_type": "stream",
     "text": [
      "bread <-> bread : 0.9999999744752309\n",
      "sandwich <-> bread : 0.6341067010130894\n",
      "burger <-> bread : 0.47520687769584247\n",
      "food <-> bread : 0.5305724715965219\n",
      "eat <-> bread : 0.4318561916283459\n",
      "wheat <-> bread : 0.6150360888607199\n",
      "human <-> bread : 0.2151154210812192\n",
      "tiger <-> bread : 0.04764611675903374\n",
      "cow <-> bread : 0.27604178355613374\n",
      "car <-> bread : 0.06451533308853552\n",
      "plant <-> bread : 0.24543560438425058\n",
      "earth <-> bread : 0.3304980494685745\n"
     ]
    }
   ],
   "source": [
    "baseToken = nlp(\"bread\")\n",
    "\n",
    "sandwhich = nlp(\"bread sandwich burger food eat wheat human tiger cow car plant earth\")\n",
    "for tok in sandwhich:\n",
    "    print(f'{tok.text} <-> {baseToken.text} : {tok.similarity(baseToken)}')\n",
    "    "
   ]
  },
  {
   "cell_type": "code",
   "execution_count": 12,
   "metadata": {},
   "outputs": [],
   "source": [
    "## Here above closer to 1 means more similar and closer to 0 means not similar"
   ]
  },
  {
   "cell_type": "code",
   "execution_count": null,
   "metadata": {},
   "outputs": [],
   "source": []
  }
 ],
 "metadata": {
  "kernelspec": {
   "display_name": "Python 3",
   "language": "python",
   "name": "python3"
  },
  "language_info": {
   "codemirror_mode": {
    "name": "ipython",
    "version": 3
   },
   "file_extension": ".py",
   "mimetype": "text/x-python",
   "name": "python",
   "nbconvert_exporter": "python",
   "pygments_lexer": "ipython3",
   "version": "3.9.2rc1"
  }
 },
 "nbformat": 4,
 "nbformat_minor": 2
}
