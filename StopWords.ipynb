{
 "cells": [
  {
   "cell_type": "code",
   "execution_count": 92,
   "metadata": {},
   "outputs": [],
   "source": [
    "import spacy\n",
    "from spacy.lang.en.stop_words import STOP_WORDS   "
   ]
  },
  {
   "cell_type": "code",
   "execution_count": null,
   "metadata": {},
   "outputs": [],
   "source": []
  },
  {
   "cell_type": "code",
   "execution_count": 93,
   "metadata": {},
   "outputs": [
    {
     "name": "stdout",
     "output_type": "stream",
     "text": [
      "The number of stop words is:  325\n",
      "{'across', 'other', 're', 'made', 'upon', 'seem', 'thereafter', 'whoever', 'yourselves', 'noone', 'thence', 'bottom', 'for', 'everything', 'am', 'ca', 'third', 'nothing', 'after', 'also', 'yet', 'somewhere', 'seeming', 'unless', 'using', 'were', 'out', 'my', 'somehow', 'such', 'well', 'some', 'perhaps', 'been', 'sixty', 'whom', 'due', 'are', 'via', 'hereby', 'three', 'nevertheless', 'me', 'call', 'hereafter', '‘m', 'he', '‘ve', 'throughout', 'ever', 'whereby', 'as', 'used', 'or', 'your', 'who', 'else', 'in', 'latter', 'whereupon', 'besides', 'any', 'more', 'on', \"'s\", 'everyone', 'since', 'thereupon', 'them', 'around', 'something', 'have', 'wherein', 'she', 'several', 'has', 'make', 'mostly', 'therein', 'up', 'hers', 'against', 'forty', 'nobody', 'become', 'five', 'afterwards', 'wherever', 'whose', 'through', 'we', 'onto', 'various', 'would', 'almost', 'always', 'keep', 'ten', 'at', 'seemed', 'will', 'none', 'twenty', 'n’t', 'serious', 'thru', 'to', 'that', 'him', '‘d', 'whereafter', 'name', 'between', '’ll', 'if', 'it', 'alone', 'six', 'anyway', 'its', 'now', 'very', 'side', 'yourself', 'much', 'give', 'go', 'whole', 'down', 'less', 'than', 'otherwise', 'regarding', 'whereas', 'eleven', 'does', 'empty', 'do', 'n‘t', 'again', 'everywhere', 'towards', 'nor', '’d', \"'ve\", 'see', 'ourselves', 'each', 'might', 'nine', 'amongst', 'further', '‘re', 'below', 'fifteen', 'together', 'with', 'until', 'therefore', '’m', 'show', 'why', 'toward', 'but', 'how', 'others', 'over', 'hereupon', 'per', \"'ll\", 'yours', 'whatever', 'becomes', 'formerly', 'becoming', 'whither', 'namely', 'enough', 'herein', 'must', 'all', 'many', 'take', 'next', 'during', 'i', 'full', 'hundred', 'both', 'get', 'is', 'except', 'itself', 'move', '’re', 'often', 'back', 'their', 'never', 'hence', 'became', 'his', 'whence', 'front', 'fifty', 'our', 'so', 'quite', 'an', 'still', 'here', 'above', 'when', \"'re\", 'whenever', 'indeed', 'anyone', 'beyond', 'a', '‘ll', 'then', 'her', 'though', 'most', 'anywhere', 'where', 'may', 'rather', 'themselves', 'being', 'could', 'latterly', 'these', 'just', 'put', 'behind', 'although', '’s', 'neither', 'please', 'cannot', 'and', 'did', 'two', 'first', 'twelve', 'should', '‘s', 'beside', 'there', 'once', 'which', \"'d\", 'be', 'no', 'another', 'former', 'herself', 'had', \"n't\", 'thus', 'either', 'about', 'say', \"'m\", 'anything', 'done', 'sometime', 'before', 'top', 'moreover', 'along', 'even', 'part', 'off', 'however', 'few', 'ours', 'four', 'one', 'mine', 'you', 'anyhow', 'really', 'whether', 'amount', 'meanwhile', 'from', 'elsewhere', 'thereby', 'himself', 'of', 'those', 'beforehand', 'already', 'by', 'nowhere', 'this', 'doing', 'without', 'under', 'every', 'seems', 'they', 'only', '’ve', 'what', 'last', 'among', 'least', 'into', 'myself', 'the', 'can', 'because', 'own', 'sometimes', 'was', 'us', 'too', 'someone', 'while', 'same', 'within', 'eight'}\n",
      "False\n"
     ]
    }
   ],
   "source": [
    "print(\"The number of stop words is: \", len(STOP_WORDS))\n",
    "print(STOP_WORDS)\n",
    "print('not' in STOP_WORDS)"
   ]
  },
  {
   "cell_type": "code",
   "execution_count": 94,
   "metadata": {},
   "outputs": [],
   "source": [
    "nlp = spacy.load(\"en_core_web_sm\")"
   ]
  },
  {
   "cell_type": "code",
   "execution_count": 95,
   "metadata": {},
   "outputs": [],
   "source": [
    "# ## Now removing 'not' stop word from default stop words\n",
    "# defaultStop = nlp.Defaults.stop_words\n",
    "# defaultStop.remove('not')\n",
    "# print('not' in STOP_WORDS)"
   ]
  },
  {
   "cell_type": "code",
   "execution_count": 96,
   "metadata": {},
   "outputs": [
    {
     "name": "stdout",
     "output_type": "stream",
     "text": [
      "my\n",
      "name\n",
      "is\n",
      "I\n",
      "have\n",
      "my\n",
      "with\n"
     ]
    }
   ],
   "source": [
    "doc = nlp(\"Hi my name is Abhinav, I have opened my wings lets fly with red bull\")\n",
    "for tok in doc:\n",
    "    if tok.is_stop:\n",
    "        print(tok)"
   ]
  },
  {
   "cell_type": "code",
   "execution_count": 97,
   "metadata": {},
   "outputs": [],
   "source": [
    "def StopWordRem(data):\n",
    "    doc = nlp(data)\n",
    "    NoStop = [token.text for token in doc if not (token.is_stop or token.is_punct)]\n",
    "    ## NoStop is a list\n",
    "    return \" \".join(NoStop)\n",
    "    # Here with the usage of join keyword we have made it into a string\n",
    "    "
   ]
  },
  {
   "cell_type": "code",
   "execution_count": 98,
   "metadata": {},
   "outputs": [
    {
     "data": {
      "text/plain": [
       "'Hi Abhinav opened wings lets fly red bull'"
      ]
     },
     "execution_count": 98,
     "metadata": {},
     "output_type": "execute_result"
    }
   ],
   "source": [
    "StopWordRem(\"Hi my name is Abhinav, I have opened my wings lets fly with red bull\")"
   ]
  },
  {
   "cell_type": "code",
   "execution_count": 99,
   "metadata": {},
   "outputs": [
    {
     "name": "stdout",
     "output_type": "stream",
     "text": [
      "['Hi', 'Abhinav', 'opened', 'wings', 'lets', 'fly', 'red', 'bull']\n"
     ]
    }
   ],
   "source": [
    "NoStop = [token.text for token in doc if not (token.is_stop or token.is_punct)]\n",
    "print(NoStop)"
   ]
  },
  {
   "cell_type": "code",
   "execution_count": 100,
   "metadata": {},
   "outputs": [],
   "source": [
    "import numpy as np \n",
    "import pandas as pd"
   ]
  },
  {
   "cell_type": "code",
   "execution_count": 101,
   "metadata": {},
   "outputs": [],
   "source": [
    "df = pd.read_json('doj_press.json', lines = True)"
   ]
  },
  {
   "cell_type": "code",
   "execution_count": 102,
   "metadata": {},
   "outputs": [
    {
     "data": {
      "text/html": [
       "<div>\n",
       "<style scoped>\n",
       "    .dataframe tbody tr th:only-of-type {\n",
       "        vertical-align: middle;\n",
       "    }\n",
       "\n",
       "    .dataframe tbody tr th {\n",
       "        vertical-align: top;\n",
       "    }\n",
       "\n",
       "    .dataframe thead th {\n",
       "        text-align: right;\n",
       "    }\n",
       "</style>\n",
       "<table border=\"1\" class=\"dataframe\">\n",
       "  <thead>\n",
       "    <tr style=\"text-align: right;\">\n",
       "      <th></th>\n",
       "      <th>id</th>\n",
       "      <th>title</th>\n",
       "      <th>contents</th>\n",
       "      <th>date</th>\n",
       "      <th>topics</th>\n",
       "      <th>components</th>\n",
       "    </tr>\n",
       "  </thead>\n",
       "  <tbody>\n",
       "    <tr>\n",
       "      <th>0</th>\n",
       "      <td>None</td>\n",
       "      <td>Convicted Bomb Plotter Sentenced to 30 Years</td>\n",
       "      <td>PORTLAND, Oregon. – Mohamed Osman Mohamud, 23,...</td>\n",
       "      <td>2014-10-01T00:00:00-04:00</td>\n",
       "      <td>[]</td>\n",
       "      <td>[National Security Division (NSD)]</td>\n",
       "    </tr>\n",
       "    <tr>\n",
       "      <th>1</th>\n",
       "      <td>12-919</td>\n",
       "      <td>$1 Million in Restitution Payments Announced t...</td>\n",
       "      <td>WASHINGTON – North Carolina’s Waccamaw River...</td>\n",
       "      <td>2012-07-25T00:00:00-04:00</td>\n",
       "      <td>[]</td>\n",
       "      <td>[Environment and Natural Resources Division]</td>\n",
       "    </tr>\n",
       "    <tr>\n",
       "      <th>2</th>\n",
       "      <td>11-1002</td>\n",
       "      <td>$1 Million Settlement Reached for Natural Reso...</td>\n",
       "      <td>BOSTON– A $1-million settlement has been...</td>\n",
       "      <td>2011-08-03T00:00:00-04:00</td>\n",
       "      <td>[]</td>\n",
       "      <td>[Environment and Natural Resources Division]</td>\n",
       "    </tr>\n",
       "    <tr>\n",
       "      <th>3</th>\n",
       "      <td>10-015</td>\n",
       "      <td>10 Las Vegas Men Indicted \\r\\nfor Falsifying V...</td>\n",
       "      <td>WASHINGTON—A federal grand jury in Las Vegas...</td>\n",
       "      <td>2010-01-08T00:00:00-05:00</td>\n",
       "      <td>[]</td>\n",
       "      <td>[Environment and Natural Resources Division]</td>\n",
       "    </tr>\n",
       "    <tr>\n",
       "      <th>4</th>\n",
       "      <td>18-898</td>\n",
       "      <td>$100 Million Settlement Will Speed Cleanup Wor...</td>\n",
       "      <td>The U.S. Department of Justice, the U.S. Envir...</td>\n",
       "      <td>2018-07-09T00:00:00-04:00</td>\n",
       "      <td>[Environment]</td>\n",
       "      <td>[Environment and Natural Resources Division]</td>\n",
       "    </tr>\n",
       "  </tbody>\n",
       "</table>\n",
       "</div>"
      ],
      "text/plain": [
       "        id                                              title  \\\n",
       "0     None       Convicted Bomb Plotter Sentenced to 30 Years   \n",
       "1  12-919   $1 Million in Restitution Payments Announced t...   \n",
       "2  11-1002  $1 Million Settlement Reached for Natural Reso...   \n",
       "3   10-015  10 Las Vegas Men Indicted \\r\\nfor Falsifying V...   \n",
       "4   18-898  $100 Million Settlement Will Speed Cleanup Wor...   \n",
       "\n",
       "                                            contents  \\\n",
       "0  PORTLAND, Oregon. – Mohamed Osman Mohamud, 23,...   \n",
       "1    WASHINGTON – North Carolina’s Waccamaw River...   \n",
       "2        BOSTON– A $1-million settlement has been...   \n",
       "3    WASHINGTON—A federal grand jury in Las Vegas...   \n",
       "4  The U.S. Department of Justice, the U.S. Envir...   \n",
       "\n",
       "                        date         topics  \\\n",
       "0  2014-10-01T00:00:00-04:00             []   \n",
       "1  2012-07-25T00:00:00-04:00             []   \n",
       "2  2011-08-03T00:00:00-04:00             []   \n",
       "3  2010-01-08T00:00:00-05:00             []   \n",
       "4  2018-07-09T00:00:00-04:00  [Environment]   \n",
       "\n",
       "                                     components  \n",
       "0            [National Security Division (NSD)]  \n",
       "1  [Environment and Natural Resources Division]  \n",
       "2  [Environment and Natural Resources Division]  \n",
       "3  [Environment and Natural Resources Division]  \n",
       "4  [Environment and Natural Resources Division]  "
      ]
     },
     "execution_count": 102,
     "metadata": {},
     "output_type": "execute_result"
    }
   ],
   "source": [
    "df.head()"
   ]
  },
  {
   "cell_type": "code",
   "execution_count": 103,
   "metadata": {},
   "outputs": [
    {
     "name": "stdout",
     "output_type": "stream",
     "text": [
      "before :  (13087, 6)\n",
      "After :  (4688, 6)\n"
     ]
    }
   ],
   "source": [
    "print(\"before : \", df.shape)\n",
    "df = df[df[\"topics\"].str.len() != 0]\n",
    "print(\"After : \",  df.shape)"
   ]
  },
  {
   "cell_type": "code",
   "execution_count": 104,
   "metadata": {},
   "outputs": [],
   "source": [
    "df = df.head(150)"
   ]
  },
  {
   "cell_type": "code",
   "execution_count": 105,
   "metadata": {},
   "outputs": [],
   "source": [
    "df[\"contents_New\"] = df['contents'].apply(StopWordRem)"
   ]
  },
  {
   "cell_type": "code",
   "execution_count": 106,
   "metadata": {},
   "outputs": [
    {
     "data": {
      "text/plain": [
       "'U.S. Department Justice U.S. Environmental Protection Agency EPA Rhode Island Department Environmental Management RIDEM announced today subsidiaries Stanley Black Decker Inc.—Emhart Industries Inc. Black Decker Inc.—have agreed clean dioxin contaminated sediment soil Centredale Manor Restoration Project Superfund Site North Providence Johnston Rhode Island \\xa0  pleased reach resolution collaborative work responsible parties EPA stakeholders said \\xa0 Acting Assistant Attorney General Jeffrey H. Wood Justice Department \\xa0 Environment Natural Resources Division Today settlement ends protracted litigation allows important work underway restore healthy environment citizens living Centredale Manor Site Woonasquatucket River settlement demonstrates tremendous progress achieving working responsible parties states federal partners expedite sites entire Superfund remediation process said EPA Acting Administrator Andrew Wheeler Centredale Manor Site National Priorities List 18 years taking charge ensuring Agency makes good promise clean betterment environment communities affected Successfully concluding settlement paves way EPA good commitment aggressively pursue cleaning Centredale Manor Superfund Site said EPA New England Regional Administrator Alexandra Dunn excited work cleanup site closer goal fully utilized North Providence Johnston communities pleased collective efforts State Rhode Island EPA DOJ negotiations concluded major milestone cleanup Centredale Manor Restoration Superfund site consistent long standing efforts polluter pay said RIDEM Director Janet Coit settlement speed remedy protects public health river environment moves closer day reclaim recreational uses beautiful river resource settlement includes cleanup work Woonasquatucket River River bordering residential commercial properties River requires companies perform remedy selected EPA Site 2012 estimated cost approximately $ 100 million resolves longstanding litigation cleanup remedy includes excavation contaminated sediment floodplain soil Woonasquatucket River including adjacent residential properties cleanup remedy completed access Woonasquatucket River restored local citizens cleanup step State goal fishable swimmable river work include upgrading caps contaminated soil peninsula area Site currently house high rise apartment buildings settlement ensures long term monitoring maintenance site directed remedy implemented ensure public health protected \\xa0  settlement Emhart Black Decker reimburse EPA approximately $ 42 million past costs incurred Site companies reimburse EPA State Rhode Island future costs incurred agencies overseeing work required settlement settlement include payments behalf federal agencies resolve claims agencies payments prior settlements related Site result 100 percent recovery United States past future response costs related Site Litigation related Site ongoing nearly years Federal District Court found Black Decker Emhart liable hazardous waste responsible conduct cleanup Site ruled EPA needed reconsider certain aspects cleanup EPA appealed decision requiring reconsider aspects cleanup settlement entered District Court resolve litigation United States Rhode Island Emhart Black Decker allowing cleanup Site begin Site spans half mile stretch Woonasquatucket River encompasses acre peninsula ponds significant forested wetland 1940s early 1970s Emhart predecessor operated chemical manufacturing facility peninsula raw material contaminated 2,3,7,8 tetrachlorodibenzo p dioxin toxic form dioxin Site property previously barrel refurbisher Elevated levels dioxins contaminants detected soil groundwater sediment surface water fish \\xa0  Site added National Priorities List NPL 2000 December 2017 EPA included Centredale Manor Restoration Project Superfund Site list Superfund sites targeted immediate intense attention short term actions previously performed Site address immediate threats residents minimize potential erosion downstream transport contaminated soil sediment settlement latest agreement EPA reached Site listed NPL Prior agreements addressed performance recovery costs past environmental investigations interim cleanup actions Emhart barrel reconditioning company current owners peninsula portion Site potentially responsible parties Consent Decree lodged U.S. District Court Rhode Island posted Federal Register available public comment period 30 days Consent Decree viewed Justice Department website \\xa0 www.justice.gov/enrd/Consent_Decrees.html \\xa0  EPA information Centredale Manor Superfund Site \\xa0 www.epa.gov/superfund/centredale'"
      ]
     },
     "execution_count": 106,
     "metadata": {},
     "output_type": "execute_result"
    }
   ],
   "source": [
    "df.iloc[0,-1]"
   ]
  },
  {
   "cell_type": "code",
   "execution_count": 107,
   "metadata": {},
   "outputs": [],
   "source": [
    "## Now doing another exercise for stop words removal"
   ]
  },
  {
   "cell_type": "code",
   "execution_count": 108,
   "metadata": {},
   "outputs": [],
   "source": [
    "text = '''\n",
    "Thor: Love and Thunder is a 2022 American superhero film based on Marvel Comics featuring the character Thor, produced by Marvel Studios and \n",
    "distributed by Walt Disney Studios Motion Pictures. It is the sequel to Thor: Ragnarok (2017) and the 29th film in the Marvel Cinematic Universe (MCU).\n",
    "The film is directed by Taika Waititi, who co-wrote the script with Jennifer Kaytin Robinson, and stars Chris Hemsworth as Thor alongside Christian Bale, Tessa Thompson,\n",
    "Jaimie Alexander, Waititi, Russell Crowe, and Natalie Portman. In the film, Thor attempts to find inner peace, but must return to action and recruit Valkyrie (Thompson),\n",
    "Korg (Waititi), and Jane Foster (Portman)—who is now the Mighty Thor—to stop Gorr the God Butcher (Bale) from eliminating all gods.\n",
    "'''"
   ]
  },
  {
   "cell_type": "code",
   "execution_count": 109,
   "metadata": {},
   "outputs": [
    {
     "name": "stdout",
     "output_type": "stream",
     "text": [
      "767\n"
     ]
    }
   ],
   "source": [
    "print(len(text))"
   ]
  },
  {
   "cell_type": "code",
   "execution_count": 110,
   "metadata": {},
   "outputs": [],
   "source": [
    "docs = nlp(text)"
   ]
  },
  {
   "cell_type": "code",
   "execution_count": 111,
   "metadata": {},
   "outputs": [],
   "source": [
    "newText = StopWordRem(text)"
   ]
  },
  {
   "cell_type": "code",
   "execution_count": 112,
   "metadata": {},
   "outputs": [
    {
     "name": "stdout",
     "output_type": "stream",
     "text": [
      "The number of stop words and punctuation marks are:  165\n"
     ]
    }
   ],
   "source": [
    "print(\"The number of stop words and punctuation marks are: \", len(text) - len(newText))"
   ]
  },
  {
   "cell_type": "code",
   "execution_count": 114,
   "metadata": {},
   "outputs": [
    {
     "name": "stdout",
     "output_type": "stream",
     "text": [
      "3 Idiots good movie\n",
      "TOH not good movie\n"
     ]
    }
   ],
   "source": [
    "mov1 = \"3 Idiots is a good movie\"\n",
    "mov2 = \"TOH is not a good movie\"\n",
    "\n",
    "newMov1 = StopWordRem(mov1)\n",
    "newMov2 = StopWordRem(mov2)\n",
    "print(newMov1)\n",
    "print(newMov2)"
   ]
  },
  {
   "cell_type": "code",
   "execution_count": null,
   "metadata": {},
   "outputs": [],
   "source": []
  },
  {
   "cell_type": "code",
   "execution_count": null,
   "metadata": {},
   "outputs": [],
   "source": []
  }
 ],
 "metadata": {
  "kernelspec": {
   "display_name": "Python 3",
   "language": "python",
   "name": "python3"
  },
  "language_info": {
   "codemirror_mode": {
    "name": "ipython",
    "version": 3
   },
   "file_extension": ".py",
   "mimetype": "text/x-python",
   "name": "python",
   "nbconvert_exporter": "python",
   "pygments_lexer": "ipython3",
   "version": "3.9.2rc1"
  }
 },
 "nbformat": 4,
 "nbformat_minor": 2
}
