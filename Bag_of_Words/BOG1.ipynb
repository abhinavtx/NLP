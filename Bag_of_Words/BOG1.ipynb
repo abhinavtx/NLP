{
 "cells": [
  {
   "cell_type": "code",
   "execution_count": 41,
   "metadata": {},
   "outputs": [],
   "source": [
    "import numpy as np \n",
    "import pandas as pd "
   ]
  },
  {
   "cell_type": "code",
   "execution_count": 42,
   "metadata": {},
   "outputs": [],
   "source": [
    "df = pd.read_csv('spam.csv')"
   ]
  },
  {
   "cell_type": "code",
   "execution_count": 43,
   "metadata": {},
   "outputs": [
    {
     "data": {
      "text/html": [
       "<div>\n",
       "<style scoped>\n",
       "    .dataframe tbody tr th:only-of-type {\n",
       "        vertical-align: middle;\n",
       "    }\n",
       "\n",
       "    .dataframe tbody tr th {\n",
       "        vertical-align: top;\n",
       "    }\n",
       "\n",
       "    .dataframe thead th {\n",
       "        text-align: right;\n",
       "    }\n",
       "</style>\n",
       "<table border=\"1\" class=\"dataframe\">\n",
       "  <thead>\n",
       "    <tr style=\"text-align: right;\">\n",
       "      <th></th>\n",
       "      <th>Category</th>\n",
       "      <th>Message</th>\n",
       "    </tr>\n",
       "  </thead>\n",
       "  <tbody>\n",
       "    <tr>\n",
       "      <th>0</th>\n",
       "      <td>ham</td>\n",
       "      <td>Go until jurong point, crazy.. Available only ...</td>\n",
       "    </tr>\n",
       "    <tr>\n",
       "      <th>1</th>\n",
       "      <td>ham</td>\n",
       "      <td>Ok lar... Joking wif u oni...</td>\n",
       "    </tr>\n",
       "    <tr>\n",
       "      <th>2</th>\n",
       "      <td>spam</td>\n",
       "      <td>Free entry in 2 a wkly comp to win FA Cup fina...</td>\n",
       "    </tr>\n",
       "    <tr>\n",
       "      <th>3</th>\n",
       "      <td>ham</td>\n",
       "      <td>U dun say so early hor... U c already then say...</td>\n",
       "    </tr>\n",
       "    <tr>\n",
       "      <th>4</th>\n",
       "      <td>ham</td>\n",
       "      <td>Nah I don't think he goes to usf, he lives aro...</td>\n",
       "    </tr>\n",
       "  </tbody>\n",
       "</table>\n",
       "</div>"
      ],
      "text/plain": [
       "  Category                                            Message\n",
       "0      ham  Go until jurong point, crazy.. Available only ...\n",
       "1      ham                      Ok lar... Joking wif u oni...\n",
       "2     spam  Free entry in 2 a wkly comp to win FA Cup fina...\n",
       "3      ham  U dun say so early hor... U c already then say...\n",
       "4      ham  Nah I don't think he goes to usf, he lives aro..."
      ]
     },
     "execution_count": 43,
     "metadata": {},
     "output_type": "execute_result"
    }
   ],
   "source": [
    "df.head()"
   ]
  },
  {
   "cell_type": "code",
   "execution_count": 44,
   "metadata": {},
   "outputs": [
    {
     "data": {
      "text/plain": [
       "Category\n",
       "ham     4825\n",
       "spam     747\n",
       "Name: count, dtype: int64"
      ]
     },
     "execution_count": 44,
     "metadata": {},
     "output_type": "execute_result"
    }
   ],
   "source": [
    "df['Category'].value_counts()"
   ]
  },
  {
   "cell_type": "code",
   "execution_count": 45,
   "metadata": {},
   "outputs": [],
   "source": [
    "df['spam'] = df['Category'].apply(lambda x : 1 if x == 'spam' else 0)"
   ]
  },
  {
   "cell_type": "code",
   "execution_count": 46,
   "metadata": {},
   "outputs": [],
   "source": [
    "import sklearn"
   ]
  },
  {
   "cell_type": "code",
   "execution_count": 47,
   "metadata": {},
   "outputs": [],
   "source": [
    "x = df['Message']\n",
    "y = df['spam']\n",
    "from sklearn.model_selection import train_test_split\n",
    "x_train, x_test, y_train, y_test = train_test_split(x, y, test_size = 0.2, random_state = 42)"
   ]
  },
  {
   "cell_type": "code",
   "execution_count": 48,
   "metadata": {},
   "outputs": [
    {
     "data": {
      "text/plain": [
       "(1115,)"
      ]
     },
     "execution_count": 48,
     "metadata": {},
     "output_type": "execute_result"
    }
   ],
   "source": [
    "x_test.shape"
   ]
  },
  {
   "cell_type": "code",
   "execution_count": 49,
   "metadata": {},
   "outputs": [],
   "source": [
    "from sklearn.feature_extraction.text import CountVectorizer\n",
    "v = CountVectorizer()\n",
    "\n",
    "x_trainCV = v.fit_transform(x_train.values) ## This will make a bag of words\n",
    " "
   ]
  },
  {
   "cell_type": "code",
   "execution_count": 50,
   "metadata": {},
   "outputs": [
    {
     "data": {
      "text/plain": [
       "scipy.sparse._csr.csr_matrix"
      ]
     },
     "execution_count": 50,
     "metadata": {},
     "output_type": "execute_result"
    }
   ],
   "source": [
    "type(x_trainCV)"
   ]
  },
  {
   "cell_type": "code",
   "execution_count": 51,
   "metadata": {},
   "outputs": [],
   "source": [
    "x_testCV = v.transform(x_test.values)"
   ]
  },
  {
   "cell_type": "code",
   "execution_count": 52,
   "metadata": {},
   "outputs": [],
   "source": [
    "x_trainNP =  x_trainCV.toarray()\n",
    "x_testNP =  x_trainCV.toarray()"
   ]
  },
  {
   "cell_type": "code",
   "execution_count": 53,
   "metadata": {},
   "outputs": [
    {
     "data": {
      "text/plain": [
       "numpy.ndarray"
      ]
     },
     "execution_count": 53,
     "metadata": {},
     "output_type": "execute_result"
    }
   ],
   "source": [
    "type(x_trainNP)"
   ]
  },
  {
   "cell_type": "code",
   "execution_count": 54,
   "metadata": {},
   "outputs": [
    {
     "name": "stdout",
     "output_type": "stream",
     "text": [
      "{'reply': 5687, 'to': 6888, 'win': 7474, '100': 258, 'weekly': 7396, 'where': 7437, 'will': 7471, 'the': 6773, '2006': 354, 'fifa': 2805, 'world': 7555, 'cup': 2106, 'be': 1271, 'held': 3364, 'send': 5980, 'stop': 6460, '87239': 694, 'end': 2568, 'service': 5999, 'hello': 3369, 'sort': 6304, 'of': 4854, 'out': 4976, 'in': 3603, 'town': 6959, 'already': 924, 'that': 6770, 'so': 6252, 'dont': 2395, 'rush': 5825, 'home': 3441, 'am': 934, 'eating': 2504, 'nachos': 4650, 'let': 4057, 'you': 7662, 'know': 3926, 'eta': 2627, 'how': 3487, 'come': 1902, 'guoyang': 3258, 'go': 3140, 'tell': 6711, 'her': 3384, 'then': 6784, 'told': 6904, 'hey': 3392, 'sathya': 5881, 'till': 6856, 'now': 4808, 'we': 7372, 'dint': 2323, 'meet': 4392, 'not': 4797, 'even': 2638, 'single': 6147, 'time': 6857, 'can': 1629, 'saw': 5894, 'situation': 6164, 'orange': 4945, 'brings': 1509, 'ringtones': 5763, 'from': 2993, 'all': 911, 'chart': 1733, 'heroes': 3387, 'with': 7502, 'free': 2958, 'hit': 3411, 'each': 2485, 'week': 7393, 'pics': 5172, 'on': 4898, 'wap': 7337, 'receiving': 5603, 'these': 6792, 'tips': 6863, 'sitting': 6163, 'mu': 4604, 'waiting': 7311, 'for': 2910, 'everyone': 2650, 'get': 3094, 'my': 4639, 'suite': 6549, 'take': 6650, 'shower': 6096, 'finish': 2834, 'liao': 4063, 'urgent': 7162, 'your': 7667, 'mobile': 4515, 'no': 4763, '07808726822': 39, 'was': 7346, 'awarded': 1171, '000': 1, 'bonus': 1427, 'caller': 1612, 'prize': 5394, '02': 8, '09': 163, '03': 14, 'this': 6811, 'is': 3712, 'our': 4975, '2nd': 410, 'attempt': 1128, 'contact': 1972, 'call': 1606, '0871': 98, '872': 693, '9758': 733, 'box95qu': 1469, 'probably': 5399, 'still': 6450, 'going': 3152, 'over': 4992, 'some': 6266, 'stuff': 6503, 'here': 3385, 'wah': 7301, 'lucky': 4226, 'man': 4301, 'save': 5890, 'money': 4542, 'hee': 3360, 'at': 1119, 'gym': 3264, 'oh': 4875, 'lk': 4128, 'tt': 7023, 'den': 2231, 'one': 4904, 'ends': 2572, 'cine': 1810, 'lor': 4176, 'dun': 2472, 'wan': 7327, 'yogasana': 7659, 'oso': 4967, 'ok': 4879, 'if': 3566, 'havent': 3333, 'collected': 1887, 'dough': 2415, 'pls': 5226, 'me': 4373, 'place': 5197, 'sent': 5988, 'it': 3724, 'control': 1985, 'number': 4821, 'stupid': 6509, 'its': 3732, 'possible': 5296, 'have': 3330, 'secret': 5946, 'admirer': 824, 'reveal': 5737, 'who': 7448, 'thinks': 6806, 'special': 6337, '09065174042': 226, 'opt': 4936, '50': 535, 'per': 5113, 'msg': 4588, 'recd': 5597, 'cust': 2115, 'care': 1654, '07821230901': 41, 'amazing': 936, 'rearrange': 5586, 'letters': 4060, 'gives': 3124, 'same': 5860, 'meaning': 4377, 'dormitory': 2405, 'dirty': 2332, 'room': 5787, 'astronomer': 1116, 'moon': 4555, 'starer': 6413, 'eyes': 2720, 'they': 6797, 'see': 5955, 'election': 2546, 'results': 5726, 'lies': 4069, 'lets': 4058, 'recount': 5616, 'mother': 4565, 'law': 4009, 'woman': 7529, 'hitler': 3412, 'eleven': 2549, 'plus': 5231, 'two': 7046, 'twelve': 7039, '09090900040': 245, 'listen': 4112, 'extreme': 2716, 'live': 4122, 'chat': 1738, 'office': 4865, 'right': 5754, 'total': 6950, 'privacy': 5390, 'knows': 3929, 'sic': 6117, 'listening': 4114, '60p': 572, 'min': 4452, '24': 369, '7mp': 628, '0870753331018': 92, 'which': 7442, 'why': 7456, 'never': 4724, 'wanted': 7334, 'any': 995, 'short': 6081, 'and': 961, 'edge': 2512, 'as': 1086, 'late': 3994, 'are': 1051, 'when': 7433, 'wil': 7468, 'reach': 5562, 'yeah': 7635, 'diet': 2302, 'just': 3841, 'flew': 2864, 'window': 7477, 'shit': 6066, 'thought': 6822, 'trip': 6995, 'loooooool': 4172, 'makes': 4292, 'much': 4606, 'more': 4557, 'sense': 5984, 'grins': 3224, 'sofa': 6256, 'reference': 5626, 'sleep': 6185, 'couch': 2019, 'link': 4100, 'wasn': 7348, 'went': 7411, 'didn': 2296, 'babe': 1189, 'celebration': 1700, 'rents': 5678, 'sending': 5982, 'greetings': 3221, 'joy': 3821, 'happiness': 3311, 'do': 2362, 'gr8': 3193, 'evening': 2639, 'armand': 1065, 'says': 5899, 'ass': 1105, 'epsilon': 2605, 'aiyah': 887, 'did': 2294, 'lar': 3987, 'nydc': 4833, 'wheellock': 7432, 'don': 2391, 'he': 3339, 'watching': 7358, 'film': 2821, 'computer': 1935, 'but': 1573, 'heard': 3349, 'abt': 767, 'tat': 6674, 'oops': 4920, 'sorry': 6303, 'check': 1748, 'mind': 4455, 'picking': 5170, 'up': 7140, 'tomo': 6913, 'half': 3280, 'eight': 2535, 'station': 6428, 'would': 7566, 'anytime': 1006, 'friendship': 2980, 'poem': 5255, 'dear': 2179, 'near': 4688, 'hear': 3348, 'fear': 2774, 'cheer': 1755, 'tear': 6697, 'always': 932, 'gud': 3245, 'ni8': 4738, 'yar': 7627, 'else': 2552, 'll': 4129, 'thk': 6812, 'sorts': 6307, 'funny': 3023, 'things': 6801, 'love': 4197, 'isn': 3719, 'decision': 2192, 'feeling': 2783, 'could': 2022, 'decide': 2188, 'life': 4070, 'simpler': 6138, 'less': 4053, 'magical': 4277, 'those': 6818, 'were': 7413, 'exact': 2671, 'intentions': 3668, 'erm': 2611, 'woodland': 7541, 'avenue': 1161, 'somewhere': 6281, 'parish': 5051, 'magazine': 4274, 'his': 3409, 'telephone': 6709, 'there': 6790, 'every': 2645, 'day': 2166, 'use': 7176, 'after': 854, 'lt': 4219, 'gt': 3240, 'only': 4910, 'jus': 3840, 'hope': 3457, 'true': 7005, 'missin': 4483, 'cos': 2012, 'really': 5582, 'him': 3404, 'haven': 3332, 'done': 2393, 'anything': 1004, 'feel': 2781, 'guilty': 3255, 'about': 760, 'yet': 7649, 'yup': 7685, 'paragon': 5042, 'decided': 2189, 'whether': 7441, 'cut': 2121, 'hmv': 3425, '500': 536, 'pounds': 5310, 'genuine': 3089, 'vouchers': 7282, 'won': 7532, 'answer': 984, 'easy': 2500, 'questions': 5500, 'play': 5209, '86688': 684, 'info': 3635, 'www': 7596, '100percent': 262, 'real': 5573, 'com': 1896, 'final': 2824, 'chance': 1716, 'claim': 1816, 'ur': 7158, '150': 304, 'worth': 7562, 'discount': 2340, 'today': 6894, 'text': 6744, 'yes': 7646, '85023': 675, 'savamob': 5889, 'member': 4406, 'offers': 4864, 'cs': 2086, 'pobox84': 5247, 'm263uz': 4249, '00': 0, 'subs': 6518, '16': 316, 'sarcasm': 5873, 'nt': 4812, 'scarcasim': 5903, 'wherre': 7440, 'boytoy': 1476, 'mr': 4583, 'sheffield': 6047, 'wanna': 7330, 'game': 3045, 'okay': 4880, 're': 5561, 'boss': 1445, 'nanny': 4665, 'give': 3122, 'raise': 5523, 'prepare': 5354, 'pleasured': 5222, 'able': 758, 'friday': 2975, 'find': 2828, 'an': 958, 'alternative': 929, 'yr': 7676, 'term': 6728, 'good': 3165, 'morning': 4561, 'im': 3579, 'suffering': 6539, 'fever': 2795, 'dysentry': 2484, 'cash': 1673, 'balance': 1211, 'currently': 2111, 'maximize': 4362, '150p': 306, 'cc': 1693, '08718720201': 143, 'po': 5236, 'box': 1457, '114': 273, '14': 296, 'tcr': 6688, 'w1': 7287, 'forwarded': 2936, 'message': 4424, 'back': 1196, 'thanks': 6762, 'them': 6780, 'accenture': 776, 'confirm': 1951, 'want': 7332, 'buy': 1577, 'dating': 2163, 'cal': 1600, '09064012103': 216, 'box334sk38ch': 1464, 'foreign': 2914, 'stamps': 6407, 'whatever': 7427, 'off': 4856, 'haha': 3272, 'receipt': 5598, 'sound': 6311, 'gd': 3074, 'luck': 4224, 'chikku': 1776, 'ya': 7620, 'like': 4081, 'seconds': 5945, 'cant': 1640, 'think': 6802, 'anyone': 999, 'spare': 6330, 'top': 6937, 'head': 3340, 'sex': 6012, 'sexy': 6016, 'pic': 5167, 'jordan': 3816, '88600': 701, 'wk': 7512, 'celeb': 1698, 'pocketbabe': 5251, 'co': 1865, 'uk': 7074, '087016248': 81, 'college': 1891, 'atten': 1129, 'class': 1823, 'freephone': 2965, '0800': 48, '542': 555, '0578': 19, 'worry': 7559, 'finished': 2836, 'by': 1589, 'march': 4320, 'ish': 3715, '88066': 698, 'lost': 4183, '12': 280, 'help': 3372, 'crickiting': 2071, 'great': 3214, 'fujitsu': 3009, 'series': 5994, 'lifebook': 4071, 'arr': 1071, 'birthday': 1370, 'wish': 7494, 'oscar': 4966, 'gonna': 3163, 'say': 5895, 'normal': 4789, 'starting': 6420, 'panic': 5028, 'again': 860, 'seeing': 5957, 'tuesday': 7026, 'problem': 5400, 'renewal': 5673, 'away': 1172, 'details': 2266, 'very': 7229, 'bad': 1198, 'girl': 3116, 'or': 4941, 'lady': 3962, 'actually': 808, 'guys': 3261, 'sunoco': 6565, 'howard': 3488, 'should': 6089, 'way': 7368, 'prolly': 5421, 'download': 2417, 'fring': 2982, 'app': 1020, 'machan': 4260, 'once': 4902, 'completely': 1927, 'form': 2926, 'clark': 1821, 'also': 927, 'utter': 7187, 'waste': 7350, 'got': 3182, 'start': 6418, 'howz': 3493, 'pain': 5021, 'down': 2416, 'said': 5845, 'ystrday': 7678, 'ice': 3549, 'medicine': 4389, 'hmm': 3421, 'shall': 6030, 'bring': 1507, 'bottle': 1450, 'wine': 7480, 'keep': 3876, 'us': 7172, 'amused': 956, 'joking': 3812, 'red': 5620, 'white': 7446, 'tomorrow': 6915, 'takin': 6654, 'linear': 4095, 'algebra': 905, 'aww': 1175, 'first': 2845, 'missed': 4482, 'without': 7506, 'asking': 1099, 'maybe': 4366, 'reboot': 5593, 'ym': 7655, 'seen': 5962, 'buzz': 1583, 'hi': 3395, 'darlin': 2154, 'london': 4158, 'been': 1295, 'smashed': 6216, 'into': 3680, 'another': 981, 'driver': 2440, 'big': 1352, 'dent': 2235, 'missing': 4484, 'what': 7426, 'xxx': 7613, 'ned': 4698, 'toa': 6889, 'payoh': 5094, 'while': 7443, 'return': 5732, 'smth': 6236, 'wat': 7353, 'hero': 3386, 'leaving': 4034, 'qatar': 5486, 'tonite': 6925, 'apt': 1044, 'opportunity': 4932, 'touch': 6953, 'email': 2555, 'kerala': 3884, 'lol': 4154, 'forgot': 2923, 'eh': 2533, 'someone': 6270, 'has': 3322, 'conacted': 1938, 'entered': 2591, 'phone': 5154, 'because': 1282, 'fancy': 2748, 'landline': 3974, '09111030116': 254, 'pobox12n146tf15': 5241, 'mail': 4283, 'fredericksburg': 2957, 'telugu': 6716, 'movie': 4577, 'trying': 7015, 'last': 3992, 'weekends': 7395, 'draw': 2426, 'shows': 6102, '900': 721, 'guaranteed': 3243, '09061701851': 201, 'code': 1875, 'k61': 3847, 'valid': 7199, '12hours': 289, 've': 7216, 'reached': 5564, 'finally': 2826, 'little': 4121, 'pocy': 5253, 'bell': 1316, 'neft': 4705, 'transaction': 6971, 'rs': 5804, 'decimal': 2191, 'credited': 2064, 'beneficiary': 1325, 'account': 787, 'dollars': 2388, 'ill': 3575, '2mrw': 408, 'ninish': 4754, 'address': 817, 'icky': 3551, 'american': 939, 'freek': 2963, 'wont': 7539, 'callin': 1616, 'jen': 3778, 'pa': 5010, 'self': 5969, 'drive': 2439, 'sch': 5908, 'gram': 3199, 'usually': 7186, 'runs': 5824, 'eighth': 2536, 'smarter': 6215, 'though': 6821, 'gets': 3098, 'almost': 920, 'whole': 7450, 'second': 5943, 'smaller': 6212, 'capacity': 1643, 'quite': 5505, 'ex': 2670, 'bothering': 1449, 'trust': 7010, 'answers': 988, 'men': 4411, 'shorter': 6085, 'ladies': 3961, 'gaze': 3070, 'doctor': 2369, 'tiring': 6865, 'uni': 7111, 'starts': 6421, 'taking': 6655, 'modules': 4529, 'concentrating': 1940, 'project': 5419, 'official': 4867, 'england': 2580, 'poly': 5265, 'ringtone': 5761, 'colour': 1893, 'flag': 2854, 'yer': 7645, 'tonights': 6924, 'tone': 6917, '84199': 671, 'optout': 4940, 'txt': 7048, 'eng': 2576, 'box39822': 1466, 'w111wx': 7288, 'doing': 2383, 'settled': 6007, 'new': 4727, 'school': 5910, 'year': 7636, 'wishin': 7497, 'friends': 2979, 'em': 2554, 'someplace': 6272, 'tot': 6949, 'shirt': 6064, 'moved': 4575, 'in2': 3604, 'pub': 5456, 'cud': 2096, 'appt': 1040, 'fault': 2766, 'twice': 7041, 'networking': 4720, 'technical': 6702, 'support': 6579, 'associate': 1109, 'ho': 3426, 'type': 7061, 'words': 7548, 'wake': 7312, 'long': 4161, 'ago': 869, 'dunno': 2474, 'other': 4968, 'thing': 6800, 'moji': 4531, 'informed': 3638, 'saved': 5891, 'lives': 4126, 'pass': 5067, '69669': 589, 'collect': 1886, 'polyphonic': 5270, 'gprs': 3191, 'charges': 1729, 'apply': 1029, 'enjoy': 2582, 'tones': 6918, 'unable': 7084, 'bhaskar': 1346, 'deep': 2201, 'thanx': 6767, 'puttin': 5483, 'da': 2132, 'fone': 2898, 'cool': 1997, 'few': 2796, 'nice': 4740, 'ready': 5572, 'thursday': 6840, 'gautham': 3064, 'swhrt': 6617, 'dey': 2277, '2day': 388, 'miss': 4480, 'kicks': 3897, 'private': 5391, '2004': 352, 'statement': 6426, '07742676969': 30, '786': 623, 'unredeemed': 7130, 'points': 5257, '08719180248': 155, 'identifier': 3560, '45239': 504, 'expires': 2702, 'under': 7096, 'standing': 6410, 'need': 4699, 'coz': 2039, 'before': 1301, 'theatre': 6776, 'watch': 7354, 'unlimited': 7125, 'movies': 4578, 'pay': 5086, 'ful': 3010, 'song': 6288, 'lyrics': 4245, 'congrats': 1957, '3g': 462, 'videophones': 7241, 'yours': 7671, '09061744553': 206, 'videochat': 7240, 'wid': 7460, 'mates': 4346, 'java': 3766, 'games': 3046, 'dload': 2360, 'polyh': 5268, 'music': 4627, 'noline': 4776, 'rentl': 5677, 'bx420': 1587, 'ip4': 3697, '5we': 566, '150pm': 308, 'try': 7013, 'rebooting': 5594, 'senthil': 5990, 'group': 3232, 'company': 1917, 'apnt': 1014, '5pm': 563, 'dare': 2150, 'change': 1718, 'ring': 5758, 'baby': 1192, 'stretch': 6482, 'open': 4921, 'pussy': 5480, 'alright': 925, 'sure': 6586, 'sunshine': 6568, 'quiz': 5507, 'wkly': 7516, 'sony': 6290, 'dvd': 2482, 'player': 5211, 'country': 2028, 'algarve': 904, 'ansr': 983, '82277': 652, 'sp': 6323, 'tyrone': 7063, 'darren': 2157, 'considering': 1967, 'mah': 4278, 'ask': 1095, 'elsewhere': 2553, 'eat': 2501, 'testing': 6739, 'card': 1650, 'network': 4719, 'sis': 6155, 'bathing': 1249, 'bathe': 1248, 'disturb': 2350, 'cleaning': 1830, 'night': 4747, 'lemme': 4046, 'around': 1070, 'remember': 5661, 'whom': 7451, 'hurt': 3525, 'during': 2478, 'days': 2167, 'satanic': 5879, 'imposter': 3597, 'price': 5376, 'may': 4364, 'destiny': 2264, 'pray': 5338, 'sura': 6585, 'sun': 6559, 'tv': 7037, 'latest': 3998, 'scrounge': 5930, 'ammo': 945, 'ak': 891, 'part': 5056, 'checking': 1752, 'iq': 3702, 'left': 4037, 'orchard': 4948, 'battery': 1252, 'low': 4210, 'wherever': 7438, 'divorce': 2355, 'she': 6044, 'gep': 3091, 'bus': 1566, 'apples': 1027, 'pairs': 5024, 'malarky': 4297, 'va': 7194, 'todays': 6895, '800': 633, '09050000460': 167, 'land': 3972, 'line': 4094, 'j89': 3743, 'box245c2150pm': 1461, 'online': 4908, 'job': 3798, 'bday': 1270, 'april': 1042, 'oooh': 4917, 'bed': 1288, 'ridden': 5752, 'ey': 2717, 'thinking': 6805, 'hoping': 3463, 'langport': 3980, 'tonight': 6923, 'gnarls': 3137, 'barkleys': 1231, 'crazy': 2056, 'totally': 6951, 'auto': 1149, 'correct': 2008, 'yesterday': 7648, 'awaiting': 1168, 'collection': 1889, '09061702893': 202, 'acl03530150pm': 793, 'denying': 2240, 'please': 5218, 'bahamas': 1204, 'callfreefone': 1615, '08081560665': 62, 'speak': 6335, 'operator': 4928, 'either': 2539, 'cruise': 2081, '2000': 350, '18': 321, '07786200117': 34, 'pick': 5168, 'macha': 4259, 'upset': 7154, 'assume': 1111, 'mindset': 4457, 'believe': 1314, 'wonderful': 7536, 'plans': 5206, 'both': 1447, 'begin': 1306, 'later': 3997, '448712404000': 499, '08712404000': 112, 'immediately': 3589, 'look': 4165, 'dhanush': 2279, 'rocks': 5776, 'well': 7407, 'leave': 4032, 'wait': 7308, 'superior': 6572, 'shop': 6076, 'drop': 2445, '10k': 266, '5k': 559, 'travel': 6980, 'voucher': 7281, '09064011000': 215, 'ntt': 4815, 'cr01327bt': 2042, 'fixedline': 2852, 'cost': 2014, '150ppm': 310, 'vary': 7209, 'general': 3082, 'oz': 5009, 'dude': 2465, 'afraid': 850, 'coming': 1907, 'usf': 7181, 'guess': 3249, 'might': 4442, 'car': 1649, 'seems': 5961, 'unnecessarily': 7127, 'hostile': 3474, 'print': 5383, 'outs': 4984, 'consent': 1965, 'forms': 2930, 'vote': 7278, 'sing': 6145, 'along': 922, 'stars': 6416, 'karaoke': 3864, 'norm': 4787, '15': 303, 'st': 6398, 'tests': 6740, 'library': 4065, 'point': 5256, 'letter': 4059, 'access': 778, 'til': 6855, 'better': 1335, 'move': 4574, 'snowboarding': 6249, 'wondering': 7537, 'planning': 5205, 'together': 6898, 'befor': 1300, 'greet': 3219, 'kind': 3906, 'affair': 844, 'cheers': 1757, 'mins': 4466, 'accidentally': 782, 'deleted': 2220, 'resend': 5698, 'yo': 7657, 'carlos': 1663, 'soon': 6293, 'shirts': 6065, 'wear': 7375, 'nudist': 4818, 'themed': 6781, 'tease': 6699, 'make': 4291, 'cry': 2084, 'die': 2299, 'plz': 5233, 'rose': 5791, 'grave': 3209, 'bslvyl': 1531, 'barbie': 1226, 'comes': 1904, 'ken': 3881, 'talking': 6661, 'join': 3806, 'hun': 3516, 'ru': 5809, 'dates': 2162, 'guy': 3260, 'met': 4431, 'walkabout': 7317, 'far': 2753, 'hows': 3491, 'sux': 6600, 'snake': 6238, 'old': 4891, 'raiden': 5519, 'buff': 1546, 'sindu': 6144, 'birla': 1366, 'soft': 6257, 'didnt': 2297, 'holla': 3437, 'host': 3472, 'based': 1240, 'idps': 3564, 'linux': 4102, 'systems': 6635, 'topic': 6938, 'telling': 6712, 'many': 4315, 'sweets': 6616, 'fine': 2831, 'charge': 1727, 'happen': 3304, 'smile': 6222, 'crucial': 2078, 'sometimes': 6278, 'forget': 2918, 'noon': 4781, 'spoons': 6377, 'bugis': 1549, 'too': 6928, 'stressfull': 6481, 'laugh': 4001, 'add': 811, 'years': 7637, 'surely': 6587, 'adds': 818, 'swt': 6625, 'dreams': 2430, 'nothing': 4800, 'bit': 1372, 'bored': 1440, 'early': 2489, 'lot': 4184, 'happening': 3308, 'lindsay': 4093, 'sighs': 6122, 'bars': 1238, 'ptbo': 5455, 'blue': 1407, 'heron': 3388, 'something': 6276, 'happy': 3312, 'tel': 6707, 'wats': 7364, 'stayin': 6432, 'extra': 2714, 'next': 4736, 'wed': 7386, 'rugby': 5813, 'weekend': 7394, 'thinkin': 6804, 'drugs': 2452, 'sunday': 6561, 'holiday': 3436, 'work': 7549, 'luv': 4235, 'soo': 6292, 'understand': 7098, '2morrow': 405, 'current': 2110, 'leading': 4023, 'bid': 1350, '151': 312, 'pause': 5083, 'auction': 1135, 'customer': 2118, '08718726270': 145, 'infernal': 3633, 'bath': 1247, 'kick': 3894, 'coco': 1874, 'ate': 1120, 'slices': 6194, 'pizza': 5195, 'ugh': 7068, 'calls': 1619, 'messages': 4426, 'jd': 3772, 'cum': 2103, 'accounts': 788, 'executive': 2684, 'id': 3554, 'ryder': 5832, 'unsold': 7132, 'gibbs': 3107, 'mean': 4376, 'chase': 1735, 'stated': 6425, 'bought': 1452, 'test': 6738, 'ovulate': 4999, '2u': 419, '3wks': 476, 'fret': 2973, 'worried': 7557, 'relax': 5650, 'past': 5075, 'history': 3410, 'system': 6634, 'sh': 6019, 'chennai': 1763, 'textin': 6751, 'bout': 1453, 'asked': 1097, 'yavnt': 7630, 'tried': 6994, 'played': 5210, 'original': 4960, 'vodafone': 7270, 'numbers': 4822, 'ending': 2570, '4882': 511, 'selected': 5967, 'receive': 5600, '350': 448, 'award': 1170, 'matches': 4344, '09064019014': 222, 'mus': 4625, '1st': 338, 'lunch': 4231, 'ge': 3076, 'asap': 1088, 'symptoms': 6631, 'songs': 6289, 'stopped': 6464, 'name': 4657, 'beloved': 1322, 'angry': 967, 'mm': 4501, 'had': 3269, 'food': 2902, 'talks': 6662, 'ow': 5001, 'paid': 5020, '60': 568, '400thousad': 481, 'fill': 2817, 'abiola': 756, 'anna': 971, 'nagar': 4651, 'afternoon': 856, 'common': 1912, 'china': 1785, 'asia': 1092, 'expensive': 2697, 'hols': 3439, 'med': 4387, 'stamped': 6406, 'envelope': 2600, 'drinks': 2438, '113': 272, 'bray': 1486, 'wicklow': 7459, 'eire': 2538, 'saturday': 5886, 'unsub': 7134, 'being': 1313, 'build': 1550, 'snowman': 6250, 'snow': 6247, 'angels': 966, 'snowball': 6248, 'fights': 2812, 'watchin': 7357, 'lido': 4067, 'supose': 6575, 'mate': 4345, 'babysit': 1194, 'xx': 7610, '09061790121': 208, '3030': 431, '12hrs': 290, 'summers': 6557, 'flirt': 2870, 'singles': 6148, 'area': 1052, 'matched': 4343, 'summer': 6556, 'help08714742804': 3374, 'wesley': 7417, 'mark': 4325, 'works': 7554, 'house': 3484, 'afterwards': 857, 'mmm': 4502, 'yummy': 7680, 'jolt': 3814, 'suzy': 6601, 'westshore': 7422, 'hyde': 3536, 'park': 5052, 'village': 7249, 'dat': 2159, 'gals': 3042, 'coffee': 1876, 'animation': 969, 'behave': 1310, 'india': 3624, 'south': 6318, 'african': 852, 'soil': 6259, 'sucks': 6534, 'planned': 5204, 'valentine': 7197, 'aren': 1053, 'costa': 2015, 'del': 2217, 'sol': 6261, '5000': 537, 'await': 1167, '09050090044': 174, 'toclaim': 6893, 'sae': 5840, 'tc': 6687, 'pobox334': 5242, 'stockport': 6453, 'sk38xh': 6169, 'pm': 5234, 'max10mins': 4360, 'invite': 3689, 'anywhere': 1009, 'working': 7552, 'voice': 7272, 'process': 5408, 'spjanuary': 6362, 'male': 4298, 'sale': 5850, 'hot': 3475, 'gay': 3067, 'cheaper': 1744, '08709222922': 96, 'national': 4677, 'rate': 5545, '5p': 562, 'cheap': 1743, '8p': 717, 'peak': 5101, 'texts': 6755, '08712460324': 115, '10p': 267, 'princess': 5382, 'moan': 4512, 'goes': 3147, 'walking': 7320, 'police': 5262, 'abstract': 766, 'worries': 7558, 'lei': 4044, 'haf': 3271, 'bruce': 1528, 'amp': 951, 'fowler': 2943, 'mom': 4535, 'story': 6471, 'hiya': 3415, 'stu': 6493, 'wot': 7564, 'truble': 7003, 'moment': 4536, 'evone': 2663, 'hates': 3326, 'hell': 3367, 'av': 1151, 'bck': 1262, 'dan': 2142, 'lookatme': 4166, 'purchase': 5470, 'video': 7239, 'clip': 1840, 'charged': 1728, '35p': 450, 'mmsto': 4507, '32323': 444, 'chk': 1794, 'belovd': 1321, 'ms': 4587, 'dict': 2292, 'macedonia': 4258, 'goals': 3144, 'team': 6695, 'news': 4732, '87077': 689, 'eg': 2528, 'wales': 7314, 'scotland': 5920, '4txt': 529, 'ú1': 7700, '20': 348, 'poboxox36504w45wq': 5248, 'nvm': 4828, 'lakhs': 3967, 'ah': 871, 'sen': 5979, 'means': 4380, 'improve': 3601, 'posted': 5301, 'couple': 2031, 'fb': 2773, 'outside': 4985, 'waking': 7313, 'multimedia': 4612, 'winner': 7484, 'valued': 7203, 'receivea': 5601, 'reward': 5743, '09061701461': 200, 'kl341': 3919, 'hours': 3483, 'showing': 6099, 'jjc': 3795, 'tendencies': 6723, 'dream': 2429, 'derek': 2251, 'aight': 880, 'netflix': 4716, 'friend': 2978, 'smokes': 6230, 'spend': 6350, 'begging': 1305, 'smoke': 6228, 'gosh': 3179, 'spose': 6382, 'exe': 2683, 'arrived': 1077, 'awake': 1169, 'sounds': 6313, 'plan': 5201, 'cardiff': 1651, 'cold': 1881, 'radiator': 5513, 'lovely': 4200, 'wisheds': 7495, 'rock': 5775, 'cancer': 1636, 'moms': 4538, 'making': 4295, 'deal': 2175, 'regular': 5645, 'checkup': 1754, 'aka': 892, 'pap': 5035, 'smear': 6217, 'boltblue': 1423, 'mono': 4547, 'poly3': 5266, 'cha': 1711, 'slide': 6195, 'slow': 6204, 'jamz': 3755, 'toxic': 6960, 'put': 5481, 'amk': 942, 'drink': 2435, 'tea': 6690, 'exciting': 2679, 'adult': 834, 'tired': 6864, 'slept': 6192, 'nights': 4749, 'unni': 7128, 'thank': 6761, 'recharge': 5607, 'rakhesh': 5531, 'business': 1570, 'knackered': 3920, 'came': 1624, 'full': 3012, 'lark': 3990, '09058094454': 179, 'pple': 5317, '700': 610, 'excellent': 2675, 'location': 4139, 'wif': 7462, 'breakfast': 1491, 'hamper': 3287, 'noe': 4767, 'sells': 5974, '4d': 516, 'closes': 1848, 'entry': 2596, 'gr8prizes': 3195, 'comp': 1914, 'nokia': 4772, '8800': 696, 'psp': 5449, '250': 374, '80878': 644, 'http': 3501, '08715705022': 133, 'made': 4268, 'appointment': 1032, 'camera': 1625, 'sipix': 6151, 'digital': 2310, '09061221066': 198, 'fromm': 2994, 'delivery': 2226, 'within': 7505, '28': 381, 'looking': 4169, 'leh': 4043, 'gotta': 3187, 'leo': 4050, 'nope': 4783, 'juz': 3845, 'fuck': 3002, 'juswoke': 3844, 'boatin': 1416, 'docks': 2367, '25': 373, 'spinout': 6358, 'giv': 3121, 'gossip': 3181, 'l8r': 3949, 'usual': 7185, 'iam': 3540, 'shitload': 6068, 'diamonds': 2288, 'cutest': 2124, 'mrng': 4585, 'hav': 3328, 'chechi': 1747, 'drug': 2450, 'anymore': 998, 'paying': 5091, 'attention': 1132, 'kiss': 3914, 'awesome': 1173, 'doin': 2381, 'talk': 6657, 'major': 4290, 'roles': 5782, 'community': 1913, 'outreach': 4983, 'mel': 4402, 'steve': 6445, 'anyways': 1008, 'smiles': 6224, 'having': 3335, 'mystery': 4646, 'solved': 6265, 'opened': 4922, 'batch': 1245, 'sweetie': 6615, 'lover': 4202, 'slave': 6184, 'teasing': 6700, 'across': 796, 'sea': 5937, 'someonone': 6271, 'via': 7232, '09064015307': 218, 'rcv': 5557, 'msgs': 4594, 'svc': 6602, 'hardcore': 3314, 'services': 6000, '69988': 597, 'must': 4630, 'age': 863, 'verify': 7225, 'display': 2347, 'internal': 3674, 'extract': 2715, 'voda': 7269, '1225': 284, '50award': 539, 'match': 4342, '08712300220': 102, 'quoting': 5510, '3100': 439, 'standard': 6409, 'rates': 5546, 'driving': 2442, 'raining': 5522, 'caught': 1686, 'mrt': 4586, 'midnight': 4440, 'scream': 5925, 'hsbc': 3499, 'upgrdcentre': 7149, 'upgrade': 7147, 'loyalty': 4213, '0207': 9, '153': 313, '9153': 724, 'offer': 4861, '26th': 380, 'july': 3835, 'available': 1154, 'sub': 6513, 'tmr': 6882, '930': 727, 'captain': 1647, 'vijaykanth': 7246, 'comedy': 1903, 'drunken': 2455, 'grand': 3202, 'prix': 5392, '10': 257, '09061221061': 197, '28days': 382, 'box177': 1460, 'm221bp': 4246, '2yr': 424, 'warranty': 7344, '99': 735, 'weeks': 7397, 'become': 1284, 'slob': 6201, 'philosophy': 5151, 'round': 5794, 'gf': 3104, 'looked': 4167, 'addie': 815, 'monday': 4540, 'hanks': 3300, 'lotsly': 4187, 'others': 4969, 'sir': 6153, 'depends': 2244, 'individual': 3628, 'hair': 3276, 'dresser': 2434, 'pretty': 5370, 'parents': 5049, 'gong': 3162, 'kaypoh': 3872, 'collecting': 1888, 'saying': 5898, 'order': 4949, 'slippers': 6199, 'returning': 5734, 'hungry': 3520, '08718730555': 150, 'brought': 1521, 'aft': 853, 'lect': 4035, 'nobody': 4766, 'names': 4661, 'their': 6778, 'penis': 5109, 'girls': 3119, 'doesn': 2373, 'needs': 4702, 'slowly': 6207, 'vomit': 7275, 'texting': 6752, 'ticket': 6845, 'joined': 3807, 'league': 4027, 'people': 5111, 'times': 6858, 'personal': 5131, 'click': 1837, 'lists': 4117, 'list': 4110, 'pie': 5175, 'getting': 3102, 'enuff': 2599, 'minutes': 4470, 'anyway': 1007, 'meeting': 4394, 'dinner': 2321, 'xy': 7619, 'awkward': 1174, 'buying': 1580, 'meh': 4399, '15pm': 315, 'taunton': 6679, 'church': 1808, 'antibiotic': 994, 'used': 7177, 'chest': 1768, 'abdomen': 752, 'gynae': 3265, 'infections': 3632, 'bone': 1425, 'birthdate': 1369, 'certificate': 1710, 'date': 2161, 'publish': 5458, 'treat': 6986, 'wishes': 7496, 'cmon': 1860, 'horny': 3466, 'turn': 7033, 'fantasy': 2752, 'sticky': 6447, 'replies': 5686, 'cancel': 1633, 'software': 6258, 'than': 6758, 'bb': 1256, 'wife': 7463, 'madam': 4267, 'happened': 3306, 'interview': 3676, 'imma': 3587, 'cause': 1687, 'jay': 3767, 'wants': 7336, 'rp176781': 5800, 'further': 3026, 'regalportfolio': 5636, '08717205546': 135, 'macho': 4262, 'budget': 1544, 'bold': 1421, 'foley': 2890, 'ipod': 3701, 'prizes': 5396, 'eye': 2718, 'visit': 7260, '82050': 649, 'jesus': 3785, 'christ': 1804, 'bitch': 1373, 'fucking': 3005, 'trouble': 7001, 'stranger': 6476, 'dave': 2164, 'sorted': 6305, 'bloke': 1399, 'gona': 3160, 'mum': 4614, '2getha': 393, 'tessy': 6737, 'favor': 2769, 'convey': 1990, 'nimya': 4753, 'dnt': 2361, 'shijas': 6056, 'unique': 7116, 'enough': 2588, '30th': 437, 'august': 1140, 'areyouunique': 1057, 'doesnt': 2374, 'bother': 1448, 'ip': 3696, 'minecraft': 4459, 'server': 5998, 'thts': 6838, 'god': 3146, 'gift': 3109, 'birds': 1365, 'humans': 3515, 'natural': 4680, 'frm': 2984, 'reverse': 5740, 'cheating': 1746, 'mathematics': 4348, 'marry': 4331, 'lovers': 4204, 'becz': 1287, 'undrstndng': 7103, 'avoids': 1166, 'problems': 5402, 'dis': 2333, 'person': 5130, 'best': 1330, 'break': 1489, 'chain': 1713, 'suffer': 6538, 'frnds': 2987, 'whn': 7447, 'read': 5568, 'difficult': 2306, 'simple': 6137, 'enter': 2590, 'elaine': 2544, 'confirmed': 1953, 'onum': 4914, 'ela': 2541, 'cartons': 1670, 'pleased': 5219, 'shelves': 6050, 'february': 2778, 'stay': 6430, 'hustle': 3530, 'forth': 2931, 'audition': 1137, 'season': 5940, 'since': 6142, 'sister': 6156, 'harlem': 3319, 'theory': 6787, 'book': 1429, '21': 360, 'jiayin': 3792, 'isnt': 3720, 'fifteen': 2806, 'texted': 6750, 'showered': 6097, 'er': 2607, 'ything': 7679, 'freemsg': 2964, 'wow': 7570, 'cam': 1622, 'moby': 4524, 'w8in': 7296, '4utxt': 531, 'rply': 5802, '82242': 651, 'hlp': 3418, '08712317606': 104, 'msg150p': 4589, '2rcv': 415, 'practice': 5325, 'smart': 6213, '200': 349, '85222': 677, 'winnersclub': 7485, '84': 667, 'm26': 4248, '3uz': 475, 'gbp1': 3072, 'anthony': 992, 'bringing': 1508, 'fees': 2786, 'rent': 5675, 'thats': 6772, 'cultures': 2102, 'module': 4528, 'plenty': 5223, 'seem': 5959, 'mob': 4513, 'nok': 4771, '87021': 686, 'txtin': 7052, 'hl': 3416, '4info': 522, 'died': 2300, 'family': 2744, 'str': 6472, 'request': 5693, 'maangalyam': 4255, 'alaipayuthe': 896, 'set': 6003, 'callertune': 1614, 'callers': 1613, 'press': 5365, 'copy': 2004, '0776xxxxxxx': 32, 'invited': 3690, 'xchat': 7603, 'msgrcvdhg': 4593, 'suite342': 6550, '2lands': 400, 'row': 5797, 'w1j6hl': 7292, 'ldn': 4018, '18yrs': 325, 'audrie': 1139, 'lousy': 4194, 'autocorrect': 1150, 'quit': 5504, 'shd': 6043, 'hr': 3496, 'oni': 4906, 'confuses': 1956, 'wrong': 7584, 'tho': 6817, 'called': 1611, 'dad': 2135, 'oredi': 4952, 'boy': 1471, 'father': 2762, 'power': 5314, 'frndship': 2988, 'otherwise': 4970, 'nalla': 4655, 'adi': 820, 'entey': 2593, 'nattil': 4679, 'kittum': 3917, 'yep': 7644, 'studying': 6502, 'plaza': 5216, 'threats': 6827, 'sales': 5851, 'shifad': 6055, 'raised': 5524, 'complaint': 1924, 'against': 861, 'str8': 6473, '8007': 636, 'classic': 1825, 'polys': 5271, '200p': 356, 'pity': 5192, 'mood': 4554, 'suggestions': 6548, 'space': 6324, 'everything': 2654, 'furniture': 3025, 'lock': 4142, 'locks': 4143, 'key': 3887, 'jenne': 3779, 'running': 5823, 'admit': 826, 'mad': 4264, 'correction': 2009, 'run': 5822, 'fighting': 2810, 'lose': 4178, 'bt': 1535, 'fightng': 2811, 'some1': 6267, 'close': 1844, 'dificult': 2308, 'whats': 7428, 'ay': 1180, 'wana': 7329, 'sat': 5878, 'wkg': 7515, 'mmmmm': 4504, 'sooooo': 6298, 'mmmm': 4503, 'lion': 4103, 'devouring': 2276, 'apologize': 1018, 'apologetic': 1016, 'fallen': 2739, 'actin': 799, 'spoilt': 6372, 'child': 1777, 'badly': 1200, 'specially': 6341, '1000': 259, 'flights': 2866, 'inc': 3605, '0871277810810': 118, 'side': 6120, 'vomitin': 7276, 'din': 2315, '420': 489, 'important': 3593, 'announcement': 976, 'premier': 5352, 'promotion': 5426, '8714714': 692, 'city': 1813, 'shopping': 6078, 'spree': 6386, 'store': 6467, '88039': 697, 'skilgme': 6170, 'tscs087147403231winawk': 7020, 'age16': 864, '50perwksub': 543, 'themob': 6783, 'newest': 4729, 'selection': 5968, 'content': 1976, 'babes': 1190, 'sport': 6379, 'fit': 2848, 'funky': 3022, '82468': 653, 'teams': 6696, 'players': 5212, 'word': 7547, '87066': 687, 'tscs': 7018, 'idew': 3561, 'skillgame': 6171, '1winaweek': 344, '150ppermesssubscription': 309, 'partner': 5061, '1000s': 260, '62220cncl': 576, 'stopcs': 6463, '08717890890': 139, 'sweet': 6612, 'ummifying': 7080, 'bye': 1591, 'okie': 4884, 'ouch': 4974, 'stayed': 6431, 'longer': 4162, 'alter': 928, '11': 270, 'intrepid': 3681, 'duo': 2475, 'tau': 6677, 'sar': 5870, 'piah': 5166, 'leona': 4051, 'ben': 1323, '2003': 351, '07808': 37, 'xxxxxx': 7616, 'un': 7083, 'redeemed': 5622, '08719899217': 160, '41685': 487, '07': 21, '04': 15, 'willing': 7472, 'remove': 5671, 'teeth': 6705, 'painful': 5022, 'maintaining': 4289, 'sms': 6232, 'ac': 772, 'blind': 1395, '4u': 530, 'rodds1': 5777, 'aberdeen': 753, 'united': 7117, 'kingdom': 3910, 'img': 3585, 'icmb3cktz8r7': 3552, 'hide': 3397, 'putting': 5484, 'ad': 809, 'ignoring': 3570, 'wiskey': 7500, 'brandy': 1482, 'rum': 5818, 'gin': 3115, 'beer': 1297, 'vodka': 7271, 'scotch': 5919, 'shampain': 6032, 'kudi': 3943, 'yarasu': 7628, 'dhina': 2280, 'vaazhthukkal': 7195, 'horrible': 3467, 'bf': 1342, 'field': 2803, 'prashanthettan': 5336, 'passed': 5068, 'fool': 2903, 'cthen': 2090, 'conclusion': 1945, 'contents': 1979, 'pg': 5144, 'references': 5627, 'cover': 2036, 'fingers': 2833, 'bruv': 1530, 'rewarding': 5744, 'semester': 5976, 'nxt': 4830, 'vl': 7268, 'completing': 1929, 'smoked': 6229, 'calling': 1617, 'urself': 7171, 'freaky': 2956, 'geeeee': 3079, 'internet': 3675, 'range': 5541, 'does': 2372, 'interfued': 3673, 'blackberry': 1381, 'towards': 6958, 'net': 4714, 'crave': 2053, 'sozi': 6322, 'culdnt': 2101, 'talkbut': 6658, 'wannatell': 7331, 'wenwecan': 7412, 'properly': 5432, 'dang': 2147, 'beauty': 1279, 'pimples': 5184, 'yelling': 7640, 'scrappy': 5923, 'lonely': 4160, 'spoke': 6373, 'maneesha': 4311, 'satisfied': 5882, 'experience': 2698, 'toll': 6908, 'wrkin': 7579, 'role': 5781, 'playing': 5214, 'drinkin': 2436, 'dancin': 2144, 'eatin': 2503, 'cinema': 1811, 'biz': 1378, 'polo': 5264, 'ltd': 4220, '373': 454, 'w1j': 7291, '6hl': 599, 'busy': 1572, 'wright': 7575, 'brother': 1520, 'fly': 2885, 'course': 2034, 'simply': 6139, 'prey': 5375, 'loving': 4207, 'understanding': 7099, 'muz': 4636, 'respond': 5713, 'question': 5498, 'plm': 5224, 'malaria': 4296, 'bani': 1219, 'especially': 2623, 'b4': 1183, 'stripes': 6486, 'skirt': 6176, 'goodmorning': 3170, 'representative': 5692, '0808': 60, '145': 299, '4742': 508, 'between': 1338, '9am': 738, '11pm': 279, 'lay': 4010, 'bimbo': 1361, 'ugo': 7069, 'appreciate': 1034, 'safe': 5842, 'east': 2497, 'coast': 1867, 'yourself': 7672, 'cute': 2122, 'prove': 5440, 'trek': 6991, 'site': 6159, 'simulate': 6141, 'tough': 6955, 'readiness': 5570, 'club': 1851, 'choose': 1799, 'quality': 5492, '09063458130': 213, 'polyph': 5269, 'surrender': 6595, 'toot': 6933, 'fringe': 2983, 'ahmad': 875, 'continued': 1982, 'president': 5363, 'ans': 982, '80082': 637, 'plural': 5230, 'noun': 4805, 'research': 5697, 'silently': 6133, 'least': 4031, 'drms': 2444, 'shesil': 6052, 'wonder': 7535, 'gone': 3161, 'cafe': 1596, 'recharged': 5608, 'fyi': 3031, 'quick': 5501, 'atm': 1125, 'register': 5640, 'licks': 4066, 'center': 1704, 'tootsie': 6936, 'pop': 5279, 'warned': 7341, 'sprint': 6388, 'dead': 2174, 'catch': 1682, 'strong': 6488, 'hands': 3293, 'pathaya': 5079, 'enketa': 2585, 'maraikara': 4318, 'railway': 5520, 'imagine': 3582, 'sink': 6149, 'through': 6832, 'paces': 5011, 'cage': 1597, 'cock': 1872, 'surrounded': 6596, 'water': 7359, 'reminding': 5668, 'owns': 5007, 'cuck': 2095, 'andros': 965, 'etc': 2628, 'british': 1511, 'hotels': 3477, 'dial': 2284, 'bx526': 1588, 'sw73ss': 6604, 'profile': 5413, 'bpo': 1477, 'hamster': 3288, '1pm': 337, 'paper': 5036, 'morn': 4559, 'japanese': 3763, 'proverb': 5441, 'none': 4779, 'indian': 3625, 'version': 7227, 'strike': 6485, 'information': 3637, 'ar': 1046, 'praveesh': 5337, 'log': 4146, 'face': 2723, 'delicious': 2222, 'storming': 6470, 'wen': 7409, 'lift': 4075, 'phne': 5152, 'knw': 3930, 'wt': 7587, 'margaret': 4322, 'girlfrnd': 3117, 'grahmbell': 3198, 'invnted': 3692, 'telphone': 6715, 'moral': 4556, '4get': 519, 'yay': 7633, 'constant': 1970, '80086': 638, 'txttowin': 7058, 'aiyo': 889, 'poor': 5277, 'call09050000327': 1607, 'rstm': 5805, 'sw7': 6603, '3ss': 474, 'flaked': 2855, 'seriously': 5996, 'goin': 3150, 'roommate': 5788, 'ard': 1050, 'wun': 7595, 'drivin': 2441, 'crossing': 2076, 'street': 6478, 'deny': 2239, 'small': 6211, 'hour': 3481, 'stock': 6451, 'lunchtime': 4232, 'organise': 4956, 'rest': 5718, 'mylife': 4641, 'accept': 777, 'dear1': 2180, 'best1': 1331, 'clos1': 1843, 'lvblefrnd': 4240, 'jstfrnd': 3827, 'cutefrnd': 2123, 'lifpartnr': 4074, 'swtheart': 6626, 'bstfrnd': 1534, 'enemy': 2574, 'lib': 4064, 'loan': 4136, 'purpose': 5475, '75': 615, 'homeowners': 3442, 'tenants': 6722, 'welcome': 7405, 'previously': 5374, 'refused': 5634, '1956669': 327, 'rushing': 5826, 'scared': 5904, 'loud': 4192, 'exams': 2674, 'campus': 1627, 'hourish': 3482, '09058094599': 186, 'rofl': 5779, 'hppnss': 3495, 'sorrow': 6301, 'heart': 3351, 'mine': 4458, 'forevr': 2916, 'goodfriend': 3167, 'knew': 3922, 'yest': 7647, 'hmmm': 3422, 'opener': 4923, 'swollen': 6623, 'glands': 3127, 'throat': 6831, 'arithmetic': 1063, 'percentages': 5114, 'level': 4061, 'record': 5612, 'cheesy': 1760, 'frosty': 2998, 'swimming': 6618, 'starve': 6422, 'pound': 5309, 'eaten': 2502, 'staring': 6414, 'juicy': 3830, 'meds': 4390, 'ruining': 5815, 'tap': 6668, 'spile': 6356, 'seven': 6009, 'gas': 3060, 'broad': 1514, 'canal': 1631, '07734396839': 29, 'ibh': 3542, 'nokia6600': 4773, 'txtauction': 7051, '81151': 646, '4t': 527, 'hate': 3325, 'turns': 7035, 'fun': 3015, 'annoying': 978, 'dog': 2375, 'cell': 1702, 'canteen': 1642, 'cream': 2059, 'pictures': 5174, 'bright': 1503, 'light': 4077, 'nearly': 4691, 'jez': 3789, 'iscoming': 3714, 'todo': 6896, 'workand': 7550, 'whilltake': 7444, 'forever': 2915, 'prestige': 5368, 'dice': 2290, 'art': 1080, 'thru': 6835, 'idea': 3556, 'freezing': 2966, 'craving': 2054, 'fml': 2887, 'whatsup': 7429, '087018728737': 82, 'toppoly': 6941, 'tune': 7031, 'subpoly': 6517, '81618': 648, 'pole': 5261, '08718727870': 149, 'urgnt': 7165, 'wating': 7362, 'merry': 4421, 'christmas': 1805, 'kisses': 3915, 'officially': 4868, 'philosophical': 5150, 'hole': 3435, 'escape': 2619, 'bridge': 1500, 'lager': 3965, 'real1': 5574, 'pushbutton': 5478, 'dontcha': 2396, 'babygoodbye': 1193, 'golddigger': 3155, 'webeburnin': 7383, 'valuable': 7201, 'situations': 6165, 'loosing': 4175, 'absolutly': 765, 'performed': 5119, 'logo': 4149, 'name1': 4658, 'name2': 4659, 'mobno': 4520, 'adam': 810, 'eve': 2636, '07123456789': 26, 'yahoo': 7622, 'pobox36504w45wq': 5243, 'txtno': 7054, 'ads': 832, 'soooo': 6297, 'omg': 4896, 'provider': 5443, 'tming': 6880, 'converted': 1988, 'search': 5938, 'main': 4287, 'sources': 6317, 'unhappiness': 7109, 'pleasure': 5221, 'pours': 5312, 'rain': 5521, 'sum1': 6555, 'hurts': 3527, 'becoz': 1286, 'loves': 4205, 'smiling': 6226, 'broke': 1515, 'amount': 950, 'sim': 6135, 'lim': 4089, 'mp3': 4581, 'esplanade': 2624, 'waqt': 7338, 'se': 5936, 'pehle': 5104, 'naseeb': 4670, 'zyada': 7698, 'kisi': 3913, 'ko': 3931, 'kuch': 3942, 'nahi': 4653, 'milta': 4451, 'zindgi': 7693, 'wo': 7524, 'jo': 3796, 'hum': 3513, 'sochte': 6254, 'hai': 3274, 'ham': 3286, 'jeetey': 3776, 'high': 3400, 'duchess': 2463, 'cornwall': 2005, '008704050406': 3, 'arrow': 1078, 'ke': 3874, 'qi': 5489, 'izzit': 3741, 'suddenly': 6536, 'reunion': 5736, 'mobiles': 4516, '89545': 711, '2optout': 412, '087187262701': 146, '50gbp': 540, 'mtmsg18': 4601, 'sad': 5839, 'printing': 5386, 'handing': 3291, 'fri': 2974, 'miwa': 4495, 'argument': 1061, 'wins': 7487, 'loses': 4180, 'argue': 1060, 'wan2': 7328, 'westlife': 7420, 'm8': 4251, 'tour': 6957, 'unbreakable': 7086, 'untamed': 7137, 'unkempt': 7122, '83049': 656, '50p': 541, 'std': 6435, 'tee': 6703, 'lecture': 4036, 'cheery': 1758, '7250i': 613, '86021': 681, 'hg': 3393, 'w1jhl': 7293, 'buffy': 1548, 'satisfy': 5883, 'alone': 921, 'randy': 5539, 'pix': 5193, 'qlynnbv': 5491, 'help08700621170150p': 3373, 'txts': 7055, 'remind': 5665, 'sight': 6123, 'remain': 5658, 'maintain': 4288, 'jas': 3764, 'include': 3610, 'mcfly': 4371, 'ab': 750, 'sara': 5871, 'jorge': 3817, 'shock': 6071, 'smith': 6227, 'switch': 6622, 'follow': 2892, 'instructions': 3663, 'sao': 5868, 'excuse': 2680, 'lazy': 4014, 'jog': 3803, 'sleeping': 6187, 'nap': 4667, 'caring': 1661, 'brainy': 1480, 'select': 5966, 'o2': 4838, 'added': 813, 'benefits': 1326, 'trained': 6967, 'advisors': 842, 'dialling': 2285, '402': 482, 'holder': 3433, 'pc': 5096, 'wtlp': 7591, 'ts': 7016, 'posh': 5289, 'chaps': 1724, 'user': 7180, 'trial': 6993, 'prods': 5410, 'champneys': 1715, 'dob': 2363, 'ta': 6638, 'brainless': 1479, 'doll': 2386, 'vehicle': 7220, 'sariyag': 5875, 'madoke': 4269, 'barolla': 1233, 'frnd': 2986, 'merely': 4419, 'relationship': 5649, 'silent': 6132, 'promise': 5423, 'wherevr': 7439, 'whenevr': 7435, 'gudnyt': 3248, 'onam': 4899, 'sirji': 6154, 'remembered': 5662, 'insurance': 3664, 'insha': 3652, 'allah': 912, 'tata': 6675, 'aig': 879, 'tissco': 6870, 'tayseer': 6684, 'mb': 4367, 'throw': 6833, 'smoking': 6231, 'sip': 6150, 'cappuccino': 1645, 'skype': 6179, 'umma': 7079, 'vava': 7213, 'claims': 1817, '09050005321': 173, 'ref': 5625, 'k718': 3848, 'arrive': 1076, '09065069120': 223, 'prin': 5379, 'kate': 3867, 'buz': 1581, 'wedlunch': 7389, 'outsomewhere': 4987, 'adrink': 831, '2watershd': 420, 'ppl': 5316, 'fromwrk': 2995, 'bthere': 1536, 'petexxx': 5141, 'hypertension': 3538, 'dine': 2316, 'meant': 4381, 'opposed': 4933, 'twinks': 7043, 'bears': 1275, 'scallies': 5901, 'skins': 6174, 'jocks': 3801, '08712466669': 116, 'nat': 4672, 'cbe': 1692, 'mokka': 4533, 'rajini': 5528, 'byatch': 1590, 'whassup': 7425, 'convenience': 1986, 'nordstrom': 4786, 'blank': 1386, 'serious': 5995, 'joanna': 3797, 'freaking': 2955, 'photos': 5161, 'myspace': 4645, 'logged': 4147, 'monkey': 4544, 'asshole': 1107, 'changes': 1720, '6hrs': 600, 'appendix': 1024, 'however': 3490, 'impossible': 3596, 'chill': 1782, 'jp': 3823, 'mofo': 4530, 'unfortunately': 7107, 'obviously': 4845, 'arent': 1054, 'cakes': 1599, 'kinda': 3907, 'werethe': 7416, 'monkeespeople': 4543, 'monkeyaround': 4545, 'howdy': 3489, 'gorgeous': 3178, 'howu': 3492, 'foundurself': 2939, 'jobyet': 3800, 'sausage': 5888, 'took': 6929, 'garage': 3053, 'centre': 1705, 'exhaust': 2686, 'replacing': 5684, 'ordered': 4950, 'fixed': 2851, 'shoes': 6073, 'instead': 3661, 'lovable': 4196, 'bcums': 1268, 'most': 4563, 'childish': 1778, 'affection': 846, 'kettoda': 3886, 'manda': 4307, 'nowadays': 4809, 'showrooms': 6101, 'shaping': 6037, 'mailed': 4285, 'varma': 7208, 'kept': 3883, 'regarding': 5638, 'membership': 4408, 'serving': 6001, 'virtual': 7257, 'hug': 3505, 'looks': 4170, 'kappa': 3863, 'comin': 1906, 'scores': 5917, 'sophas': 6299, 'secondary': 5944, 'application': 1028, 'schools': 5911, 'applying': 1031, 'joke': 3808, 'ogunrinde': 4874, 'ones': 4905, 'kothi': 3940, 'marandratha': 4319, 'effect': 2525, 'irritation': 3710, 'ignore': 3569, 'juliana': 3833, 'andrews': 964, 'wednesday': 7390, 'physics': 5165, 'facebook': 2724, '3650': 451, '09066382422': 238, 'ave': 1158, '3mins': 468, '300603': 429, 'post': 5297, 'bcm4284': 1264, 'wc1n3xx': 7371, 'sentence': 5989, 'concentrate': 1939, 'educational': 2518, 'career': 1657, 'whenever': 7434, 'hook': 3453, 'honeymoon': 3448, 'outfit': 4979, 'praps': 5333, 'goodo': 3174, 'hrishi': 3497, 'fuuuuck': 3029, 'sleepin': 6186, 'sup': 6570, 'train': 6966, 'worc': 7546, 'foregate': 2913, 'shrub': 6106, 'hill': 3402, 'honeybee': 3447, 'sweetest': 6613, 'laughed': 4002, 'havnt': 3337, 'reading': 5571, 'crack': 2045, 'jokes': 3810, 'gm': 3134, 'gn': 3136, 'spun': 6390, 'spk': 6363, 'mo': 4511, 'wrld': 7582, 'nytho': 4835, 'tx': 7047, 'fonin': 2901, 'hon': 3443, '2mwen': 409, 'bk': 1379, 'frmcloud': 2985, 'queen': 5495, 'royal': 5799, 'wedding': 7388, 'genius': 3084, 'sec': 5942, 'clothes': 1849, 'jewelry': 3788, 'trips': 6997, 'arm': 1064, 'weak': 7373, 'cuz': 2126, 'shot': 6087, 'incredible': 3619, 'learn': 4029, 'truly': 7008, 'blow': 1405, 'o2fwd': 4839, '18p': 324, 'lit': 4118, 'fire': 2840, 'knocking': 3925, 'door': 2402, 'shuhui': 6110, 'suntec': 6569, 'steamboat': 6438, 'buns': 1558, 'adore': 827, 'loverboy': 4203, 'meatballs': 4385, 'answering': 987, 'everyones': 2651, 'babysitting': 1195, 'forced': 2912, 'myself': 4644, 'slice': 6193, 'sick': 6118, 'astrology': 1115, 'workin': 7551, 'overtime': 4997, 'nigpun': 4750, 'prakesh': 5332, 'teju': 6706, 'ttyl': 7024, '4eva': 517, 'until': 7138, 'pilates': 5181, 'meanwhile': 4382, 'twins': 7044, 'honey': 3446, 'sweetheart': 6614, 'darling': 2155, 'sugar': 6544, 'plum': 5227, 'smacks': 6210, 'lions': 4106, 'lionm': 4104, 'lionp': 4105, '3gbp': 463, 'handset': 3294, '750': 616, 'rental': 5676, 'camcorder': 1623, '08000930705': 52, 'barred': 1234, 'stores': 6468, 'twat': 7038, 'dungerees': 2473, 'decking': 2195, 'punch': 5465, 'neva': 4722, 'na': 4649, 'tuition': 7027, 'death': 2183, 'note': 4798, 'robs': 5774, 'avenge': 1159, '530': 553, 'forfeit': 2917, 'university': 7120, 'florida': 2876, 'depressed': 2247, 'sittin': 6162, 'waitin': 7310, 'wind': 7476, 'drops': 2447, 'scary': 5905, 'ryan': 5831, 'iron': 3706, 'cann': 1637, 'asa': 1087, 'advice': 839, 'ma': 4254, 'aaooooright': 748, 'itself': 3733, 'suggest': 6546, 'stays': 6434, 'ors': 4962, 'stool': 6459, 'future': 3028, 'swing': 6620, 'wee': 7391, 'ever': 2644, 'figure': 2813, 'hahaha': 3273, 'brain': 1478, '09061213237': 196, 'luxury': 4238, 'canary': 1632, 'islands': 3718, '177': 320, 'm227xy': 4247, 'chickened': 1774, 'messaged': 4425, 'woould': 7544, 'congratulations': 1958, 'xmas': 7606, '08718726978': 148, 'minute': 4469, 'weather': 7379, 'dismay': 2345, 'olol': 4893, 'printed': 5384, 'forum': 2933, 'prob': 5398, 'gpu': 3192, 'replacement': 5683, 'hopefully': 3459, 'hurting': 3526, 'meaningful': 4378, 'lines': 4098, 'compromised': 1932, 'mornin': 4560, 'idk': 3563, 'butting': 1576, 'heads': 3344, 'freedom': 2960, 'vs': 7285, 'responsibility': 5716, 'barely': 1229, 'keeping': 3877, 'ride': 5753, 'equally': 2606, 'uneventful': 7105, 'pesky': 5138, 'cyclists': 2129, 'model': 4526, 'ericson': 2609, 'der': 2250, 'luks': 4230, 'modl': 4527, 'naughty': 4683, 'flash': 2858, 'yijue': 7654, 'gek1510': 3080, 'realy': 5584, 'recognise': 5611, 'confused': 1955, 'credits': 2065, 'topped': 6940, 'bubbletext': 1539, 'pin': 5185, 'tgxxrz': 6756, 'created': 2060, 'gap': 3051, 'fills': 2820, 'gaps': 3052, 'holding': 3434, 'hand': 3289, 'pod': 5254, '80182': 641, '08452810073': 71, 'signing': 6129, 'textpod': 6754, '40gb': 486, '84128': 670, 'custcare': 2116, '08712405020': 113, 'kallis': 3857, 'odi': 4853, 'adding': 816, 'zeros': 7691, 'savings': 5893, 'bloody': 1404, 'surname': 6592, 'clue': 1856, 'spanish': 6329, 'begins': 1307, 'accidant': 780, 'tookplace': 6930, 'ghodbandar': 3105, 'rd': 5559, 'traffic': 6965, 'moves': 4576, 'slovely': 6203, 'slip': 6198, 'hdd': 3338, 'casing': 1677, 'training': 6968, 'shrek': 6104, '3d': 461, 'natalja': 4676, 'inviting': 3691, '440': 496, 'nat27081980': 4673, '62468': 578, 'melle': 4403, 'oru': 4964, 'minnaminunginte': 4464, 'nurungu': 4824, 'vettam': 7230, 'diddy': 2295, 'neighbor': 4707, 'toothpaste': 6935, 'green': 3218, 'quote': 5509, 'jerry': 3782, 'cartoon': 1671, 'irritates': 3709, 'vry': 7284, 'fails': 2732, 'express': 2709, 'nyt': 4834, 'beerage': 1298, 'except': 2676, 'ummmmmaah': 7082, 'returns': 5735, 'strict': 6484, 'teacher': 6692, 'bcoz': 1265, 'teaches': 6693, 'lesson': 4055, 'conducts': 1948, 'exam': 2673, 'lessons': 4056, 'guessin': 3251, 'ain': 881, 'losers': 4179, 'tirupur': 6868, 'started': 6419, 'truro': 7009, 'hospital': 3470, 'ext': 2712, 'channel': 1722, 'addicted': 814, 'msging': 4590, 'dependents': 2243, 'proof': 5429, 'allow': 917, 'tms': 6884, 'widelive': 7461, 'index': 3623, 'wml': 7521, '1b6a5ecef91ff9': 329, '37819': 456, 'true18': 7006, '0430': 16, 'jul': 3831, '05': 17, 'ditto': 2353, 'peace': 5098, 'neighbors': 4708, 'adventuring': 838, 'bird': 1364, 'antelope': 990, 'toplay': 6939, 'fieldof': 2804, 'selfindependence': 5970, 'flower': 2878, 'contention': 1978, 'grow': 3233, 'random': 5536, 'supports': 6580, 'srt': 6396, 'thnk': 6815, 'ps3': 5448, 'usb': 7174, 'clean': 1829, 'blood': 1403, 'ten': 6721, 'miracle': 4472, 'jess': 3784, 'reality': 5578, 'show': 6095, '08707509020': 91, '20p': 359, '1327': 294, 'croydon': 2077, 'cr9': 2043, '5wb': 565, '0870': 73, 'kg': 3890, 'mon': 4539, 'hip': 3407, 'hop': 3456, 'weigh': 7398, 'alrite': 926, 'jod': 3802, 'revision': 5742, 'keris': 3885, 'bin': 1362, 'smidgin': 6221, 'alian': 908, 'roger': 5780, 'gent': 3085, '09064012160': 217, 'k52': 3846, 'liked': 4082, 'erutupalam': 2617, 'thandiyachu': 6759, 'jason': 3765, 'months': 4553, 'entitled': 2595, 'update': 7145, '08002986030': 56, 'elaborating': 2543, 'safety': 5843, 'aspects': 1104, 'issues': 3722, 'bishan': 1371, 'nearer': 4690, 'flirting': 2871, 'paperwork': 5038, 'nervous': 4712, 'knowing': 3927, 'fired': 2841, 'misundrstud': 4491, 'truth': 7012, 'wtf': 7588, 'teaching': 6694, 'damn': 2141, 'tomarrow': 6910, 'court': 2035, 'stand': 6408, 'takes': 6653, 'wrc': 7571, 'rally': 5532, 'lucozade': 4227, 'energy': 2575, 'le': 4020, '61200': 574, '25p': 377, 'packs': 5015, 'itcould': 3726, 'soiree': 6260, 'june': 3837, '3rd': 473, 'recently': 5605, '07090298926': 24, 'schedule': 5909, '9307622': 728, 'sickness': 6119, 'mathews': 4349, 'tait': 6647, 'edwards': 2520, 'anderson': 962, 'tagged': 6644, 'seemed': 5960, 'count': 2025, 'panren': 5030, 'paru': 5065, 'voicemail': 7273, '08719181503': 157, 'pen': 5106, 'beyond': 1341, 'biro': 1367, 'masters': 4340, 'friendships': 2981, 'probs': 5406, 'doinat': 2382, 'shame': 6031, 'blame': 1385, 'sabarish': 5834, 'jamster': 3754, 'wallpaper': 7323, '88888': 705, '08701213186': 76, 'browsin': 1527, 'compulsory': 1933, 'alive': 910, 'sign': 6124, 'track': 6963, 'women': 7531, '08715203694': 130, '40533': 485, '31': 438, 'clear': 1831, 'sarcastic': 5874, 'pose': 5288, 'comb': 1899, 'dryer': 2457, 'dubsack': 2462, 'complete': 1925, 'lots': 4186, 'beautiful': 1278, 'sometext': 6274, 'boo': 1428, 'write': 7576, 'dictionary': 2293, 'mode': 4525, 'screen': 5928, 'gently': 3088, 'interesting': 3671, 'mistake': 4489, 'double': 2409, 'linerental': 4097, 'bluetooth': 1408, 'mobileupd8': 4519, '08000839402': 51, 'call2optout': 1608, 'lf56': 4062, 'ola': 4887, 'direct': 2326, 'cars': 1669, 'bids': 1351, 'arrange': 1072, 'shipping': 6063, 'partnership': 5062, 'invest': 3686, 'wud': 7592, 'reliant': 5653, 'pink': 5186, 'nah': 4652, 'dub': 2461, 'je': 3773, 'loads': 4135, 'social': 6255, 'inspection': 3655, 'nursery': 4823, 'sn': 6237, '1hr': 332, 'kay': 3871, 'wnt': 7523, 'bmw': 1413, 'urgently': 7163, 'hv': 3532, 'shortage': 6082, 'lacs': 3959, 'source': 6316, 'arng': 1067, 'amt': 955, 'dearly': 2182, 'month': 4550, 'kotees': 3939, 'tscs08714740323': 7019, '1winawk': 345, '50perweeksub': 542, 'inches': 3607, 'fast': 2757, 'searching': 5939, 'goodnoon': 3173, 'parking': 5055, 'collapsed': 1884, '30': 426, 'somethin': 6275, 'ortxt': 4963, 'practising': 5328, 'curtsey': 2113, 'hen': 3381, 'galileo': 3041, 'dobby': 2364, 'stash': 6424, 'ran': 5535, 'dry': 2456, 'msn': 4595, 'hotmail': 3478, 'mobs': 4521, 'title': 6871, 'breathe1': 1496, 'titles': 6872, 'crazyin': 2057, 'sleepingwith': 6188, 'finest': 2832, 'ymca': 7656, 'getzed': 3103, 'pobox365o4w45wq': 5244, '300p': 430, 'asleep': 1102, 'failed': 2730, 'belive': 1315, 'youi': 7664, 'ne': 4687, 'wknd': 7517, 'wahala': 7302, 'sd': 5933, 'la': 3952, 'butt': 1574, 'sore': 6300, 'misbehaved': 4475, 'slap': 6183, 'basically': 1242, 'woke': 7527, 'blur': 1411, 'morphine': 4562, 'investigate': 3687, 'submitting': 6516, 'rite': 5768, 'gail': 3036, 'l8tr': 3951, 'yaxxx': 7632, 'crashing': 2052, 'univ': 7119, 'western': 7419, 'chinese': 1788, 'prefer': 5348, 'cr': 2041, 'bill': 1355, 'millers': 4448, 'google': 3176, 'maps': 4317, 'dorm': 2404, 'lucy': 4228, 'hubby': 3503, 'meetins': 4395, 'hotel': 3476, 'cumin': 2104, '09099726395': 251, 'minmobsmorelkpobox177hp51fl': 4462, 'huh': 3510, 'computational': 1934, 'science': 5912, 'push': 5477, 'onbus': 4900, '2go': 395, '4a': 514, 'meal': 4374, 'donyt': 2400, 'hes': 3390, 'latelyxxx': 3996, 'hard': 3313, '2p': 413, 'germany': 3093, '08448350055': 66, 'planettalkinstant': 5203, 'update_now': 7146, '12mths': 291, '400mins': 480, 'j5q': 3742, 'askin': 1098, 'shoul': 6088, 'pleasant': 5217, 'surprise': 6593, 'checked': 1750, 'statements': 6427, 'acc': 774, 'falling': 2740, 'force': 2911, 'fall': 2738, 'smeone': 6220, 'hold': 3432, 'hugging': 3507, 'soul': 6310, 'spark': 6332, 'flame': 2857, 'rawring': 5551, 'xoxo': 7607, 'murder': 4622, 'exactly': 2672, 'fuckin': 3004, 'thurs': 6839, 'pre': 5342, 'booked': 1430, 'cancelled': 1635, 'sacked': 5837, 'dropped': 2446, 'omw': 4897, 'messenger': 4429, 'sha': 6020, 'cheat': 1745, 'sam': 5857, 'eachother': 2486, 'tampa': 6666, 'preferably': 5349, 'kegger': 3879, 'freefone': 2962, '08006344447': 59, 'notified': 4803, 'marketing': 4326, '84122': 669, '08450542832': 69, 'drunk': 2453, 'idiot': 3562, 'bak': 1208, 'girlie': 3118, 'ambrith': 938, 'madurai': 4271, 'arun': 1085, 'dha': 2278, 'marrge': 4328, 'remembr': 5663, 'iz': 3740, 'yellow': 7641, 'misscall': 4481, 'frndz': 2990, '6missed': 602, 'bluff': 1410, 'lab': 3955, 'necesity': 4692, 'witout': 7509, 'hw': 3535, 'colleg': 1890, 'wth': 7589, 'functions': 3017, 'events': 2642, 'espe': 2622, 'cared': 1656, 'irritated': 3708, '4wrd': 533, 'wthout': 7590, 'jst': 3826, 'takecare': 6651, 'okies': 4885, 'yan': 7626, 'jiu': 3794, 'skip': 6175, 'blah': 1383, 'sell': 5972, 'tons': 6926, 'coins': 1880, 'paypal': 5095, 'voila': 7274, 'pockets': 5252, 'necessarily': 4693, 'expect': 2694, 'headin': 3342, 'treasure': 6985, 'uncomfortable': 7089, 'fullonsms': 3013, 'liverpool': 4125, 'mid': 4438, 'alex': 902, 'mids': 4441, 'ffffffffff': 2799, 'sooner': 6294, '2nite': 411, 'annie': 972, 'dialogue': 2286, 'reltnship': 5656, 'body': 1418, 'wipe': 7489, 'tears': 6698, '09061209465': 195, 'suprman': 6584, 'matrix3': 4353, 'starwars3': 6423, 'jokin': 3811, 'poop': 5276, 'laptop': 3986, 'accommodation': 783, 'various': 7207, 'global': 3130, 'locations': 4140, 'phb1': 5147, 'ph': 5145, '08700435505150p': 74, 'kent': 3882, 'vale': 7196, 'significant': 6127, 'flight': 2865, 'sdryb8i': 5935, 'legal': 4040, 'gary': 3059, 'split': 6368, 'ceri': 1708, 'rebel': 5592, 'dreamz': 2431, 'buddy': 1542, '2moro': 402, 'blokes': 1400, 'requests': 5694, '1stchoice': 340, '08707808226': 93, 'hurry': 3524, '21870000': 361, 'mailbox': 4284, 'messaging': 4427, 'alert': 900, '40': 478, '09056242159': 175, 'retrieve': 5731, 'cc100p': 1694, 'fr': 2946, 'que': 5494, 'pases': 5066, 'buen': 1545, 'tiempo': 6848, 'notice': 4801, 'mirror': 4473, 'youre': 7668, 'turning': 7034, 'freak': 2953, 'treadmill': 6984, 'found': 2938, 'craigslist': 2046, 'selling': 5973, 'btw': 1537, '4th': 528, 'commit': 1911, 'easier': 2494, 'successful': 6530, 'italian': 3725, 'dress': 2432, 'panties': 5033, 'normally': 4790, 'asus': 1117, 'randomly': 5538, 'reformat': 5630, 'prospects': 5438, 'enjoyin': 2584, 'indians': 3626, 'sall': 5853, 'hehe': 3362, 'shexy': 6053, 'pete': 5140, 'maths': 4350, 'chapter': 1725, '121': 283, 'connect': 1959, '09094646899': 247, 'biggest': 1354, 'vu': 7286, 'bcm1896wc1n3xx': 1263, '08715205273': 131, '447801259231': 498, '09058094597': 185, 'woken': 7528, 'photoshop': 5162, 'shut': 6112, 'property': 5433, 'passionate': 5071, 'bognor': 1420, 'splendid': 6367, 'capital': 1644, '32000': 442, 'legitimat': 4041, 'efreefone': 2527, 'jobs': 3799, 'study': 6501, 'positions': 5291, 'kama': 3859, 'sutra': 6599, 'four': 2940, 'no1': 4764, 'txting': 7053, 'pobox': 5238, '36504': 452, 'w45wq': 7295, 'norm150p': 4788, 'gonnamissu': 3164, 'il': 3573, 'postcard': 5299, 'buttheres': 1575, 'aboutas': 761, 'merememberin': 4420, 'asthere': 1113, 'ofsi': 4871, 'breakin': 1492, 'contract': 1983, 'yaxx': 7631, 'intro': 3682, 'covers': 2038, 'trends': 6992, 'pros': 5437, 'cons': 1963, 'brief': 1502, 'description': 2253, 'nuclear': 4817, 'fusion': 3027, 'iter': 3728, 'jet': 3786, 'pages': 5018, 'subscriber': 6522, 'delivered': 2224, 'exp': 2693, '30apr': 432, 'jan': 3756, 'loved': 4198, 'nit': 4756, 'natalie': 4674, '165': 317, 'natalie2k9': 4675, 'sometme': 6279, 'spent': 6352, '2geva': 394, 'mint': 4467, 'xxxx': 7614, 'supplies': 6577, 'sleepwell': 6190, 'wiv': 7510, 'walked': 7318, 'gravity': 3210, 'carefully': 1659, 'feels': 2785, 'heavy': 3358, 'leaves': 4033, 'yetunde': 7651, 'returned': 5733, 'january': 3760, 'period': 5122, 'ended': 2569, '09066649731from': 240, 'complimentary': 1930, 'ibiza': 3544, '434': 494, 'sk3': 6168, '8wp': 720, 'persons': 5134, 'purity': 5473, 'evng': 2661, 'different': 2305, 'grinule': 3225, 'fran': 2947, 'janx': 3761, 'dads': 2137, 'credit': 2063, 'attended': 1131, 'result': 5725, '08708800282': 95, 'rooms': 5790, 'activities': 805, 'pierre': 5178, 'cardin': 1652, 'costs': 2017, 'bhaji': 1345, 'cricketer': 2070, 'sachin': 5836, 'wallet': 7322, 'romantic': 5784, 'paris': 5050, '79': 625, '08704439680ts': 88, 'kaiez': 3851, 'gee': 3077, 'option': 4939, 'beta': 1333, 'received': 5602, 'understood': 7100, 'acted': 798, 'upon': 7152, 'opposite': 4934, 'ffffuuuuuuu': 2800, '1172': 276, 'removal': 5670, '08708034412': 94, 'resizing': 5706, 'gentleman': 3087, 'dignity': 2312, 'respect': 5710, 'hanging': 3299, 'eurodisinc': 2634, 'trav': 6979, 'aco': 795, 'entry41': 2597, '87121': 690, 'morefrmmob': 4558, 'shracomorsglsuplt': 6103, 'ls1': 4215, '3aj': 460, 'randomlly': 5537, '5min': 560, 'opening': 4925, 'frens': 2970, 'staying': 6433, 'waliking': 7315, '087147123779am': 121, '7pm': 630, 'swatch': 6610, '116': 275, 'opinion': 4929, 'billy': 1359, 'jogging': 3804, 'concert': 1944, 'wit': 7501, 'kids': 3900, 'colleagues': 1885, 'jane': 3758, 'wrk': 7578, 'lst': 4218, 'nite': 4757, 'foned': 2899, 'chuck': 1807, 'nw': 4829, 'providing': 5444, 'assistance': 1108, '600': 569, 'landmark': 3977, 'bob': 1417, 'barry': 1237, '83738': 666, 'hme': 3420, 'di': 2283, 'jackpot': 3747, '81010': 645, 'dbuk': 2171, 'lccltd': 4015, '4403ldnw1a7rw18': 497, 'supposed': 6582, 'motorola': 4569, 'sonyericsson': 6291, '4qf2': 526, 'impatient': 3592, 'belligerent': 1318, 'stalking': 6405, 'dual': 2460, 'temales': 6717, 'esaplanade': 2618, 'glad': 3126, 'wasted': 7351, 'applebees': 1026, 'inclusive': 3613, 'gotto': 3189, 'comuk': 1937, 'login': 4148, '3qxj9': 472, 'unsubscribe': 7135, '08702840625': 85, '220cm2': 365, '9ae': 737, 'fantasies': 2750, 'hides': 3398, 'thousands': 6824, 'secrets': 5948, 'n8': 4647, 'uncle': 7087, 'finance': 2827, 'skye': 6178, 'replied': 5685, 'management': 4305, 'bank': 1220, 'aids': 878, 'patent': 5077, 'piggy': 5180, 'bet': 1332, 'mayb': 4365, 'bag': 1202, 'goigng': 3149, 'perfume': 5120, 'wishing': 7498, 'speechless': 6344, 'easily': 2496, 'lengths': 4048, 'behalf': 1309, 'stunning': 6508, 'tells': 6713, 'chocolate': 1796, 'melt': 4405, 'sunlight': 6563, 'walk': 7316, 'loss': 4182, 'due': 2468, 'reserves': 5703, 'local': 4138, 'registered': 5641, 'flirtparty': 2872, 'replys150': 5689, 'newspapers': 4735, 'blake': 1384, 'boys': 1475, 'spell': 6348, 'nannys': 4666, '6months': 603, 'phones': 5158, 'n9dx': 4648, 'engin': 2579, 'errors': 2615, 'difficulties': 2307, 'yalru': 7624, 'lyfu': 4242, 'astne': 1114, 'innu': 3648, 'mundhe': 4620, 'lyf': 4241, 'ali': 907, 'halla': 3283, 'bilo': 1360, 'marriage': 4329, 'program': 5416, 'edhae': 2513, 'ovr': 4998, 'vargu': 7206, 'meow': 4418, 'printer': 5385, 'groovy': 3229, 'groovying': 3230, 'os': 4965, 'ubandu': 7066, 'installing': 3658, 'disk': 2343, 'files': 2816, 'repair': 5679, 'tyler': 7060, 'jada': 3750, 'kusruthi': 3944, 'spl': 6364, 'character': 1726, 'matured': 4357, 'stylish': 6511, 'chillin': 1784, '08714712412': 125, '10am': 265, 'dept': 2249, '13': 292, '08717507382': 137, 'owl': 5004, 'unconvinced': 7093, 'elaborate': 2542, 'willpower': 7473, 'desparate': 2259, 'recorded': 5613, 'desires': 2257, 'liver': 4124, 'managed': 4304, 'parked': 5053, 'sunroof': 6566, 'popped': 5281, 'party': 5064, 'contribute': 1984, 'greatly': 3216, 'appreciated': 1035, 'connection': 1961, 'refund': 5632, 'fudge': 3007, 'oreos': 4954, '07008009200': 22, 'responce': 5712, 'happend': 3305, 'welp': 7408, 'apparently': 1021, 'retired': 5730, 'justthought': 3843, 'sayhey': 5896, 'endof': 2571, 'offdam': 4859, 'nevamind': 4723, '2hook': 397, 'uwant': 7192, 'lovejen': 4199, 'apo': 1015, 'fact': 2725, 'although': 930, 'eventually': 2643, 'tolerance': 6906, 'fucked': 3003, 'hits': 3413, 'speed': 6345, 'survey': 6597, 'affairs': 845, 'gain': 3038, 'dai': 2138, 'resume': 5727, 'yrs': 7677, 'earlier': 2488, 'everybody': 2647, 'fren': 2968, 'misplaced': 4479, 'mcat': 4370, 'atlanta': 1122, 'using': 7183, 'subscription': 6523, 'msgrcvd': 4591, 'customercare': 2119, 'deduct': 2200, 'soup': 6315, 'jurong': 3839, 'buffet': 1547, 'amore': 949, 'spoken': 6374, 'regards': 5639, 'rebtel': 5595, 'firefox': 2842, 'lower': 4211, 'onion': 4907, 'roast': 5772, 'performance': 5118, 'calculated': 1601, 'package': 5013, '54': 554, 'resubmit': 5724, 'expiry': 2703, 'combine': 1901, 'parts': 5063, 'kalainar': 3855, 'thenampet': 6785, 'choices': 1798, 'toss': 6948, 'coin': 1878, 'settle': 6006, 'air': 883, 'gudni8': 3246, 'admin': 822, 'building': 1551, 'slightly': 6197, 'reaching': 5565, 'lingo': 4099, 'earth': 2493, 'hostel': 3473, '146tf150p': 300, 'warm': 7339, 'milk': 4447, 'magic': 4276, 'loose': 4174, 'weight': 7399, 'veggie': 7219, 'walmart': 7325, 'sake': 5846, 'tallahassee': 6664, 'coveragd': 2037, 'vasai': 7210, 'clock': 1841, 'fat': 2760, 'directly': 2327, 'behind': 1311, 'rows': 5798, 'answerin': 986, 'reasonable': 5588, 'sleepy': 6191, 'faster': 2758, 'soz': 6321, 'imat': 3583, 'mums': 4618, 'supply': 6578, 'cds': 1697, 'virgin': 7255, 'records': 5615, '09061104283': 194, 'smsco': 6233, '50pm': 544, 'approx': 1038, 'dammit': 2140, 'present': 5361, 'tex': 6741, 'mecause': 4386, 'werebored': 7414, 'okden': 4882, 'hunny': 3522, 'uin': 7072, 'likeyour': 4085, 'havin': 3334, 'gr8fun': 3194, 'updat': 7144, 'countinlots': 2027, 'loveme': 4201, 'xxxxx': 7615, 'yupz': 7686, 'slots': 6202, 'jide': 3793, 'visiting': 7261, 'taxi': 6680, 'ing': 3641, 'ree': 5624, 'anyplaces': 1001, '1mega': 335, 'pixels': 5194, '3optical': 470, '5digital': 556, 'dooms': 2401, 'journey': 3820, 'dhoni': 2281, 'beside': 1329, 'okey': 4883, 'doke': 2384, 'dressed': 2433, 'laying': 4012, 'completed': 1926, 'spreadsheet': 6385, 'whose': 7454, 'determine': 2267, 'entire': 2594, 'hunting': 3523, 'kills': 3905, 'referin': 5628, 'mei': 4400, 'somebody': 6268, 'shld': 6069, 'rich': 5750, 'onwards': 4915, 'sts': 6492, 'five': 2849, 'ahead': 873, 'jade': 3751, 'paul': 5082, 'barmed': 1232, 'minor': 4465, 'shindig': 6058, 'interested': 3670, 'wondarfull': 7534, 'uh': 7070, 'distance': 2348, 'step': 6441, 'foward': 2942, 'ruin': 5814, 'authorise': 1148, 'payment': 5092, 'caroline': 1666, 'favourite': 2772, 'bless': 1392, 'younger': 7666, 'babies': 1191, 'ba': 1185, 'dao': 2149, 'crap': 2049, 'borin': 1441, 'boggy': 1419, 'boring': 1442, 'biatch': 1349, 'soc': 6253, 'dusk': 2479, 'solve': 6264, 'puzzles': 5485, 'nose': 4794, 'essay': 2625, 'daily': 2139, 'favour': 2771, 'enufcredeit': 2598, 'tocall': 6892, 'ileave': 3574, 'yor': 7660, '88800': 702, '89034': 706, 'premium': 5353, '08718711108': 142, 'celebrate': 1699, 'ny': 4831, '89105': 709, 'films': 2822, 'tablets': 6640, 'reaction': 5567, 'uks': 7076, 'fastest': 2759, 'growing': 3234, 'rcvd': 5558, '83021': 654, 'wamma': 7326, 'laid': 3966, 'doggin': 2377, 'largest': 3989, 'dogging': 2378, 'dogs': 2380, '69696': 590, 'ec2a': 2506, '3lp': 466, 'grocers': 3227, 'attraction': 1133, 'thoughts': 6823, 'breath': 1494, 'named': 4660, 'sorrows': 6302, 'fight': 2809, 'craziest': 2055, 'proove': 5430, 'planet': 5202, 'singing': 6146, 'praises': 5329, 'chicken': 1773, 'curry': 2112, 'makiing': 4293, 'sambar': 5859, 'tape': 6669, 'feb': 2777, 'evn': 2660, 'married': 4330, 'evr': 2664, 'weird': 7401, 'bein': 1312, 'woah': 7525, 'realising': 5577, 'salon': 5855, 'website': 7385, '3pound': 471, 'rajitha': 5529, 'raj': 5525, 'ranju': 5543, 'baaaaaaaabe': 1187, 'yourjob': 7670, 'gettin': 3101, 'ure': 7160, 'llspeak': 4131, 'soonlots': 6295, 'delay': 2218, 'expired': 2701, 'monoc': 4548, 'monos': 4549, 'polyc': 5267, 'stream': 6477, '0871212025016': 101, 'olowoyey': 4894, 'usc': 7175, 'edu': 2516, 'argentina': 1058, 'secretary': 5947, 'blessing': 1394, 'props': 5435, 'awww': 1176, 'indeed': 3622, 'obey': 4841, 'rgent': 5747, '1250': 286, '09071512433': 242, '050703': 18, 'csbcm4235wc1n3xx': 2087, 'callcost': 1610, 'mobilesvary': 4518, 'max': 4359, '08714712379': 122, 'salary': 5849, 'de': 2173, 'beach': 1272, 'expected': 2695, '8th': 719, 'fifty': 2808, 'u4': 7065, 'knickers': 3923, 'beg': 1303, '01223585236': 6, 'nikiyu4': 4752, 'nic': 4739, 'checkin': 1751, 'shy': 6113, '09058091870': 178, 'revealed': 5738, 'greatest': 3215, 'courage': 2032, 'bear': 1274, 'defeat': 2207, 'losing': 4181, 'apology': 1019, 'siva': 6166, 'aha': 872, '1030': 264, 'basic': 1241, 'yoga': 7658, 'picked': 5169, 'gimmi': 3114, 'goss': 3180, 'tmrw': 6883, 'finishing': 2838, 'doors': 2403, 'approve': 1036, 'panalam': 5026, 'posts': 5304, 'reache': 5563, 'auntie': 1142, 'huai': 3502, 'juan': 3829, 'lavender': 4008, 'december': 2186, '11mths': 278, '08002986906': 57, 'heading': 3343, 'alibi': 909, 'cutting': 2125, 'purchases': 5471, 'kb': 3873, 'lodging': 4145, 'reg': 5635, 'pract': 5323, 'flung': 2882, 'advance': 836, 'voted': 7279, 'laready': 3988, 'fifth': 2807, 'woozles': 7545, 'weasels': 7378, 'exeter': 2685, 'patty': 5081, 'haul': 3327, 'temp': 6718, 'unmits': 7126, 'squeezed': 6393, 'bucks': 1540, 'menu': 4417, 'scraped': 5922, 'barrel': 1235, 'misfits': 4477, 'likely': 4083, '2morro': 404, 'passion': 5070, '09099726481': 253, 'dena': 2232, 'hui': 3511, 'xin': 7605, 'thinkthis': 6807, 'dangerous': 2148, 'everywhere': 2656, 'dirt': 2330, 'floor': 2874, 'windows': 7478, 'mouth': 4573, 'flowing': 2880, 'chores': 1802, 'exist': 2689, 'hail': 3275, 'mist': 4488, '08718738034': 154, 'raviyog': 5550, 'peripherals': 5123, 'bhayandar': 1347, 'cruisin': 2082, 'jenny': 3780, '1million': 336, 'ppt150x3': 5320, 'box403': 1467, 'w1t1jy': 7294, '08718723815': 144, 'receipts': 5599, 'hmph': 3424, 'baller': 1213, 'theyre': 6798, 'places': 5200, 'hospitals': 3471, 'medical': 4388, '08712402902': 110, 'splash': 6365, 'priya': 5393, 'slp': 6208, 'muah': 4605, 'fix': 2850, 'reminder': 5667, 'postcode': 5300, 'inform': 3636, 'beads': 1273, 'signal': 6125, 'neither': 4710, 'unusual': 7139, 'case': 1672, 'hugs': 3509, 'snogs': 6245, 'derp': 2252, 'worse': 7560, 'three': 6828, 'abusers': 771, 'potential': 5306, 'talent': 6656, 'distract': 2349, 'isaiah': 3713, 'onluy': 4909, 'matters': 4355, 'offcampus': 4858, 'difference': 2304, 'versus': 7228, 'hrs': 3498, 'tomorro': 6914, 'spys': 6391, 'replying': 5688, 'mails': 4286, 'naked': 4654, '69698': 591, 'presents': 5362, 'nicky': 4743, 'funk': 3021, 'tones2u': 6919, 'tm': 6879, 'laughs': 4004, '08719899230': 162, 'darlings': 2156, 'avalarr': 1155, 'hollalater': 3438, 'transfered': 6974, 'changed': 1719, 'club4mobiles': 1853, '87070': 688, 'club4': 1852, 'box1146': 1458, 'mk45': 4499, '2wt': 422, 'star': 6412, '09066364349': 235, 'box434sk38wp150ppm18': 1468, 'ikea': 3572, 'explicit': 2705, 'secs': 5949, '02073162414': 11, '09095350301': 248, 'erotic': 2613, 'ecstacy': 2509, 'aunt': 1141, 'flow': 2877, 'developed': 2272, 'ovarian': 4990, 'cysts': 2130, 'bc': 1260, 'shrink': 6105, 'quarter': 5493, '09064018838': 221, 'cro1327': 2073, 'abj': 757, 'textbuddy': 6748, 'gaytextbuddy': 3069, '89693': 713, '08715500022': 132, 'rpl': 5801, 'cnl': 1862, 'ques': 5497, 'suits': 6552, '88877': 704, 'textcomp': 6749, 'spontaneously': 6375, 'goodevening': 3166, 'initiate': 3643, 'swiss': 6621, 'directors': 2329, 'lac': 3957, 'crore': 2074, 'deposited': 2246, 'banks': 1221, 'taxless': 6681, 'delhi': 2221, 'lane': 3979, 'roads': 5771, 'suply': 6574, 'projects': 5420, 'citizen': 1812, 'monthly': 4551, 'imf': 3584, 'blocked': 1397, 'politicians': 5263, 'rights': 5756, 'corrupt': 2011, 'itna': 3730, 'forward': 2935, 'karo': 3866, 'ki': 3892, 'pura': 5469, 'padhe': 5016, 'stomach': 6455, 'trauma': 6978, 'swear': 6611, 'lou': 4191, 'lancaster': 3971, 'neway': 4728, 'couldn': 2024, 'catching': 1684, '33': 446, '65': 581, 'feathery': 2775, 'bowa': 1454, 'smell': 6218, 'tobacco': 6890, 'mental': 4413, 'ability': 755, 'taste': 6672, 'holy': 3440, 'weren': 7415, 'kidding': 3899, 'bud': 1541, 'unless': 7124, 'rayman': 5552, 'golf': 3158, 'arcade': 1049, 'settings': 6005, 'activ8': 802, 'termsapply': 6731, 'noice': 4769, 'possibility': 5295, 'thanks2': 6763, 'taxt': 6682, 'massage': 4337, 'tie': 6847, 'pos': 5287, 'argh': 1059, 'lool': 4171, 'chatting': 1742, 'idc': 3555, 'weaseling': 7377, 'terrible': 6733, 'phone750': 5155, '08000776320': 50, 'zac': 7687, 'ive': 3737, 'uncles': 7088, 'reasons': 5589, 'faggy': 2729, '09065171142': 225, 'stopsms': 6465, '08': 47, 'shaking': 6029, 'booty': 1437, 'dance': 2143, 'handle': 3292, 'victoria': 7236, 'island': 3717, 'album': 898, 'becomes': 1285, 'habit': 3268, 'rejected': 5646, 'hopeso': 3461, 'amnow': 946, 'feelin': 2782, 'ithink': 3729, 'tonsolitusaswell': 6927, 'layin': 4011, 'bedreal': 1290, 'lotsof': 4188, 'bloo': 1402, 'bowl': 1455, 'biola': 1363, 'fne': 2888, 'massages': 4338, 'oil': 4878, 'fave': 2768, 'position': 5290, 'straight': 6474, '07815296484': 40, '08718738001': 152, '41782': 488, 'apps': 1039, '83370': 662, 'trivia': 7000, '1x150p': 346, 'thanku': 6765, 'ashwini': 1091, 'happens': 3309, 'vegas': 7217, 'oranges': 4946, 'upd8': 7143, '2stoptx': 417, 'bedroom': 1292, 'missy': 4487, 'airport': 884, 'lounge': 4193, 'passes': 5069, '08704439680': 87, 'booking': 1432, 'hiding': 3399, 'outstanding': 4988, 'commercial': 1910, 'hasbro': 3323, 'jump': 3836, 'hoops': 3455, 'goal': 3143, 'arsenal': 1079, 'henry': 3382, 'yards': 7629, 'bergkamp': 1328, 'margin': 4323, '78': 622, 'pongal': 5272, 'placed': 5198, 'loans': 4137, 'checkmate': 1753, 'chess': 1767, 'persian': 5128, 'phrase': 5164, 'shah': 6024, 'maat': 4256, 'king': 3909, 'lie': 4068, 'hardly': 3316, 'reason': 5587, 'risk': 5767, 'pdate_now': 5097, 'tariffs': 6670, 'yhl': 7652, 'lovin': 4206, 'buzy': 1582, 'cd': 1695, 'tnc': 6886, 'ldew': 4017, 'com1win150ppmx3age16subscription': 1898, 'tom': 6909, 'mentionned': 4416, 'goggles': 3148, 'aathi': 749, '08712402050': 107, '10ppm': 268, 'ag': 859, 'promo': 5425, '169': 319, '6031': 570, '9pm': 740, 'command': 1909, 'draws': 2427, '09058094565': 182, '2stoptxt': 418, 'dehydrated': 2215, 'progress': 5418, 'continue': 1981, 'consider': 1966, 'excused': 2681, 'chillaxin': 1783, 'inner': 3645, 'tigress': 6852, '09058094594': 184, 'networks': 4721, 'predicte': 5344, 'nigeria': 4745, 'onto': 4913, 'urawinner': 7159, 'fantastic': 2751, 'issue': 3721, 'breathe': 1495, 'regret': 5643, 'lov': 4195, 'nevr': 4726, 'unrecognized': 7129, 'somone': 6284, 'often': 4872, 'mistakes': 4490, 'valuing': 7204, 'definitly': 2212, 'undrstnd': 7102, 'walls': 7324, 'hearts': 3353, 'cares': 1660, 'closer': 1847, '49': 513, 'cross': 2075, 'ntwk': 4816, 'bundle': 1556, 'deals': 2178, 'avble': 1157, '08001950382': 54, 'mf': 4432, 'generally': 3083, 'brothas': 1519, 'gayle': 3068, 'listed': 4111, 'bffs': 1343, 'carly': 1664, 'finishes': 2837, 'propose': 5434, 'seing': 5965, 'asssssholeeee': 1110, '09050003091': 172, 'c52': 1592, 'exhausted': 2687, 'cuddle': 2097, 'defer': 2208, 'admission': 825, '08717898035': 141, 'ga': 3034, 'taylor': 6683, 'assumed': 1112, 'worst': 7561, 'vip': 7253, 'tickets': 6846, 'blu': 1406, 'november': 4807, '09061104276': 193, '75max': 618, 'askd': 1096, 'tensed': 6725, 'rencontre': 5672, 'mountains': 4571, 'atleast': 1124, 'shakespeare': 6028, 'coat': 1868, 'invitation': 3688, 'apologise': 1017, 'cali': 1603, 'english': 2581, 'weddin': 7387, 'ukp': 7075, '09061790125': 209, 'onwords': 4916, 'mtnl': 4603, 'mumbai': 4615, 'dokey': 2385, 'sorting': 6306, 'ignorant': 3568, 'following': 2894, 'dining': 2320, 'experiencehttp': 2699, 'vouch4me': 7280, 'etlp': 2630, 'asp': 1103, 'pissed': 5190, 'changing': 1721, 'diapers': 2289, 'owed': 5003, 'consensus': 1964, 'get4an18th': 3095, 'wonders': 7538, '7th': 631, '6th': 606, 'style': 6510, '5th': 564, 'personality': 5132, 'nature': 4681, 'own': 5005, 'value': 7202, 'faith': 2735, 'choice': 1797, 'subs16': 6519, '1win150ppmx3': 343, 'sterm': 6444, 'resolved': 5709, 'fab': 2722, 'makin': 4294, 'weirdy': 7404, 'brownies': 1524, 'cookies': 1995, 'bar': 1225, 'konw': 3936, 'waht': 7307, 'rael': 5516, 'gving': 3263, 'yuo': 7683, 'exmpel': 2690, 'jsut': 3828, 'ese': 2620, 'tihs': 6853, 'evrey': 2665, 'splleing': 6369, 'wrnog': 7583, 'sitll': 6160, 'raed': 5515, 'wihtuot': 7466, 'ayn': 1181, 'mitsake': 4493, 'goodnight': 3171, 'optin': 4938, '80062': 635, 'bbc': 1257, 'charts': 1734, 'fav': 2767, 'restocked': 5721, 'easter': 2499, 'satsgettin': 5884, '47per': 509, 'nothin': 4799, 'hanger': 3298, 'doggy': 2379, 'keen': 3875, 'shouldn': 6091, 'kavalan': 3870, '2find': 392, 'achan': 790, 'amma': 943, 'chief': 1775, 'blastin': 1389, 'tsunamis': 7022, 'occur': 4848, 'rajnikant': 5530, 'ocean': 4850, 'chinatown': 1786, 'porridge': 5284, 'claypot': 1827, 'rice': 5749, 'yam': 7625, 'cake': 1598, 'fishhead': 2847, 'beehoon': 1294, 'tok': 6901, 'floppy': 2875, 'snappy': 6240, 'photo': 5160, 'upload': 7150, '08718730666': 151, 'hhahhaahahah': 3394, 'nig': 4744, 'leonardo': 4052, 'orh': 4958, '125gift': 287, 'living': 4127, 'laughing': 4003, 'winning': 7486, 'tooo': 6932, 'resuming': 5728, 'minimum': 4461, 'reapply': 5585, 'september': 5992, 'uworld': 7193, 'qbank': 5487, 'assessment': 1106, 'classes': 1824, 'dodgey': 2371, 'expecting': 2696, 'recovery': 5617, 'retard': 5729, 'abroad': 763, 'xxsp': 7611, 'visionsms': 7259, 'stopcost': 6462, '08712400603': 106, 'broken': 1516, 'infront': 3640, 'wise': 7493, '9t': 741, '0906346330': 214, 'abta': 768, '47': 506, 'po19': 5237, '2ez': 391, 'file': 2815, 'environment': 2601, 'terrific': 6734, 'whens': 7436, 'radio': 5514, 'nan': 4663, 'bari': 1230, 'hudgi': 3504, 'yorge': 7661, 'pataistha': 5076, 'ertini': 2616, 'kano': 3862, 'slacking': 6182, 'nri': 4811, 'hm': 3419, 'headache': 3341, 'bunkers': 1557, 'peaceful': 5099, 'matter': 4354, 'sender': 5981, 'gauge': 3063, 'interest': 3669, 'applausestore': 1025, 'monthlysubscription': 4552, 'max6': 4361, 'csc': 2088, 'web': 7380, '2stop': 416, 'gifts': 3111, 'cliff': 1838, 'slurp': 6209, 'posting': 5302, 'gauti': 3065, 'sehwag': 5964, 'priority': 5388, 'constantly': 1971, 'grasp': 3208, 'outta': 4989, 'buzzzz': 1584, 'vibrator': 7235, 'shake': 6027, 'adsense': 833, 'approved': 1037, 'sculpture': 5932, 'mw': 4637, 'filled': 2818, 'tuth': 7036, 'epi': 2603, 'math': 4347, 'treated': 6987, 'digi': 2309, 'coupla': 2030, 'wks': 7518, 'stuffed': 6505, 'pig': 5179, 'bleh': 1391, 'writhing': 7577, 'surya': 6598, 'vijay': 7245, 'pokkiri': 5260, 'anybody': 996, 'asks': 1100, 'spoiled': 6371, 'ooooooh': 4919, 'yoville': 7674, 'california': 1605, 'manageable': 4303, 'activate': 803, '80488': 642, 'tarot': 6671, '85555': 680, '08702490080': 84, '09066358152': 230, 'prompts': 5427, 'careful': 1658, 'toyota': 6961, 'camry': 1628, 'olayiwola': 4890, 'mileage': 4445, 'landing': 3973, 'practicing': 5326, 'ajith': 890, 'invaders': 3684, 'orig': 4959, 'console': 1969, 'terms': 6730, 'sundayish': 6562, '09066350750': 229, 'ppm': 5318, 'blankets': 1388, 'sufficient': 6541, 'thx': 6842, 'tolerat': 6907, 'bcs': 1266, 'comfort': 1905, 'definitely': 2211, 'dollar': 2387, 'tenerife': 6724, '09061743806': 204, 'tcs': 6689, 'box326': 1462, 'cw25wx': 2127, 'snickering': 6244, 'chords': 1801, 'setting': 6004, 'filling': 2819, 'belly': 1319, 'honesty': 3445, 'road': 5770, 'decisions': 2193, 'fo': 2889, 'senor': 5983, 'jazz': 3770, 'zoom': 7696, 'yetty': 7650, 'ktv': 3941, 'arts': 1082, 'converter': 1989, 'concentration': 1941, 'torture': 6946, 'helens': 3366, 'princes': 5381, 'tb': 6685, 'children': 1780, 'gastroenteritis': 3061, 'replace': 5682, 'reduce': 5623, 'limiting': 4091, 'illness': 3576, 'ha': 3266, 'db': 2170, 'ps': 5447, 'grown': 3235, 'cabin': 1594, 'felt': 2790, 'apartment': 1011, 'hottest': 3480, 'wet': 7423, 'wanting': 7335, '89555': 712, 'textoperator': 6753, 'g696ga': 3033, 'data': 2160, 'analysis': 960, 'thesis': 6794, 'daddy': 2136, 'arranging': 1073, 'fetch': 2793, 'action': 801, '80608': 643, 'movietrivia': 4579, '08712405022': 114, 'debating': 2184, 'football': 2906, 'ringing': 5759, 'houseful': 3485, 'screaming': 5927, 'brats': 1484, 'pulling': 5462, 'quickly': 5502, 'wavering': 7366, 'coping': 2002, 'heal': 3346, 'factory': 2726, 'nitros': 4759, 'dartboard': 2158, 'condition': 1946, 'doubles': 2411, 'trebles': 6989, 'leg': 4039, 'musta': 4631, 'overdid': 4993, 'gdeve': 3075, 'pansy': 5031, 'jungle': 3838, 'coccooning': 1870, 'helloooo': 3371, 'welcomes': 7406, 'subscribed': 6521, '83435': 664, 'helpline': 3378, '08706091795': 89, 'everyso': 2652, 'panicks': 5029, 'mths': 4599, 'callback': 1609, 'orno': 4961, 'r836': 5511, '09065069154': 224, 'housewives': 3486, '0871750': 136, '77': 620, 'landlines': 3976, 'waited': 7309, 'repent': 5681, 'velly': 7221, 'abi': 754, 'ammae': 944, 'sit': 6158, 'steering': 6440, 'pt2': 5454, '87575': 695, 'programs': 5417, 'simpsons': 6140, 'released': 5652, '2007': 355, 'band': 1215, 'lanre': 3983, 'fakeye': 2737, 'eckankar': 2508, 'mila': 4444, 'age23': 865, 'blonde': 1401, 'mtalk': 4597, '69866': 592, '30pp': 435, '5free': 557, 'increments': 3620, 'help08718728876': 3375, 'suggestion': 6547, 'lands': 3978, 'helps': 3379, 'forgt': 2925, 'previous': 5373, 'favorite': 2770, 'oyster': 5008, 'sashimi': 5877, 'rumbling': 5819, 'bull': 1554, 'floating': 2873, 'mess': 4423, 't4get2text': 6636, 'imin': 3586, 'dontmatter': 2398, 'urgoin': 7166, 'outl8r': 4982, 'reallyneed': 5583, '2docd': 389, 'dontplease': 2399, 'dontignore': 2397, 'mycalls': 4640, 'thecd': 6777, 'isv': 3723, 'tome': 6911, 'wipro': 7490, 'conditions': 1947, '07781482378': 33, 'empty': 2565, 'punish': 5466, 'ebay': 2505, 'pickle': 5171, 'neshanth': 4713, '07xxxxxxxxx': 46, '06': 20, '09066362231': 233, 'box97n7qp': 1470, 'hellogorgeous': 3370, 'nitw': 4760, 'texd': 6743, 'hopeu': 3462, 'wkend': 7513, 'lookin': 4168, '4ward': 532, 'jaz': 3769, 'leanne': 4028, 'gentle': 3086, 'sonetimes': 6287, 'rough': 5793, 'protect': 5439, 'sib': 6116, 'sensitive': 5987, 'passwords': 5074, 'share': 6038, 'password': 5073, 'uniform': 7113, 'dip': 2324, 'egg': 2530, 'potato': 5305, 'ratio': 5548, 'tortilla': 6945, 'needed': 4700, 'prabha': 5321, 'soryda': 6309, 'sory': 6308, 'rt': 5806, 'pro': 5397, 'ringtoneking': 5762, '08701237397': 77, 'redeemable': 5621, 'harish': 3318, 'transfred': 6976, 'acnt': 794, '09050001808': 171, 'm95': 4253, 'valid12hrs': 7200, 'sq825': 6392, 'arrival': 1075, 'realise': 5575, 'semiobscure': 5978, 'logoff': 4150, 'actor': 806, 'unemployed': 7104, 'fps': 2945, 'cooked': 1994, 'rather': 5547, 'salmon': 5854, 'vivek': 7267, 'jot': 3819, 'drunkard': 2454, 'okors': 4886, 'cherish': 1765, 'mojibiola': 4532, '09061790126': 210, 'snatch': 6241, 'purse': 5476, 'hillsborough': 3403, 'th': 6757, 'mobsi': 4522, '391784': 459, 'dawns': 2165, 'refreshed': 5631, 'shore': 6080, 'gandhipuram': 3048, 'bluray': 1412, 'female': 2791, 'netcollex': 4715, '08700621170150p': 75, 'taka': 6649, 'bcaz': 1261, 'disastrous': 2337, 'wld': 7520, 'tank': 6667, 'stressed': 6480, 'thanksgiving': 6764, 'jacket': 3746, 'multis': 4613, 'postponed': 5303, 'stocked': 6452, 'professional': 5412, 'tiger': 6849, 'woods': 7542, '400': 479, '087104711148': 99, 'lacking': 3958, 'particular': 5058, 'dramastorm': 2423, 'plate': 5207, 'leftovers': 4038, 'operate': 4927, '4goten': 521, 'scammers': 5902, 'prem': 5350, 'nos': 4793, 'beware': 1340, 'tis': 6869, 'including': 3612, 'relation': 5648, 'luvs': 4236, 'praying': 5340, 'literally': 4119, 'hype': 3537, 'studio': 6500, 'taken': 6652, 'bedrm': 1291, 'def': 2206, 'agree': 870, 'ipad': 3698, 'flavour': 2861, '09058094507': 181, '09058094455': 180, 'kickboxing': 3895, 'swan': 6606, 'gave': 3066, 'boston': 1446, 'nyc': 4832, 'signin': 6128, 'page': 5017, 'catches': 1683, 'heehee': 3361, 'adewale': 819, 'egbon': 2529, 'vikky': 7247, 'olave': 4889, 'mandara': 4309, 'trishul': 6998, 'mesages': 4422, 'karnan': 3865, '6pm': 605, 'goto': 3186, 'costume': 2018, 'transfer': 6973, 'withdraw': 7503, 'anyhow': 997, 'shelf': 6048, 'jolly': 3813, 'north': 4791, 'carolina': 1665, 'texas': 6742, 'gre': 3213, '09090204448': 244, 'minded': 4456, 'minapn': 4454, 'ls278bb': 4217, 'brum': 1529, '0871277810710p': 117, 'discuss': 2341, 'secured': 5953, 'unsecured': 7131, '195': 326, '6669': 584, 'openings': 4926, 'upcharge': 7142, 'flatter': 2860, 'pints': 5187, 'carlin': 1662, 'ideas': 3558, 'clever': 1836, 'guesses': 3250, 'aiya': 886, 'attach': 1126, 'mix': 4496, '85069': 676, 'usher': 7182, 'britney': 1512, '5249': 550, 'mk17': 4498, '92h': 726, '450ppw': 503, 'function': 3016, 'al': 894, 'ofice': 4870, 'cn': 1861, 'duffer': 2469, 'pump': 5464, 'petrol': 5143, 'complain': 1923, 'num': 4820, 'bettr': 1337, 'bsnl': 1533, 'offc': 4857, 'nd': 4686, 'anythin': 1003, 'hor': 3464, 'map': 4316, 'semi': 5977, 'apart': 1010, 'significance': 6126, 'seeking': 5958, 'sheets': 6046, 'edison': 2514, 'rightly': 5755, 'viva': 7266, 'gnt': 3138, 'tallent': 6665, 'wasting': 7352, 'dr': 2420, 'ee': 2521, 'poortiyagi': 5278, 'odalebeku': 4852, 'hanumanji': 3303, 'hanuman': 3302, 'bajarangabali': 1207, 'maruti': 4332, 'pavanaputra': 5084, 'sankatmochan': 5865, 'ramaduth': 5534, 'mahaveer': 4280, 'janarige': 3757, 'ivatte': 3736, 'kalisidare': 3856, 'olage': 4888, 'ondu': 4903, 'keluviri': 3880, 'maretare': 4321, 'inde': 3621, 'dodda': 2370, 'problum': 5404, 'nalli': 4656, 'siguviri': 6130, 'idu': 3565, 'matra': 4351, 'neglet': 4706, '4mths': 524, 'mobilesdirect': 4517, '08000938767': 53, 'or2stoptxt': 4943, 'meetin': 4393, 'santa': 5866, '09058094583': 183, '7548': 617, '4041': 483, 'firmware': 2844, 'responding': 5714, 'sinco': 6143, 'payee': 5090, 'icicibank': 3550, 'urn': 7170, 'frauds': 2952, 'disclose': 2338, 'ideal': 3557, 'path': 5078, 'appear': 1023, 'front': 2996, 'paths': 5080, 'cld': 1828, 'nosh': 4795, '0a': 256, 'companies': 1915, 'responsible': 5717, 'suppliers': 6576, 'guarantee': 3242, 'inside': 3654, 'salam': 5848, 'wahleykkum': 7306, 'sharing': 6040, 'grace': 3197, 'inshah': 3653, 'sometime': 6277, 'visitor': 7262, 'rang': 5540, 'bags': 1203, 'blanket': 1387, 'giving': 3125, 'woul': 7565, 'lead': 4021, 'curfew': 2108, 'gibe': 3108, 'getsleep': 3099, 'studdying': 6496, 'ear': 2487, 'surfing': 6589, 'ahhhh': 874, 'theres': 6791, 'screwd': 5929, 'alfie': 903, 'm8s': 4252, 'charity': 1730, 'nokias': 4775, 'zed': 7690, '08701417012': 78, 'profit': 5415, 'noisy': 4770, 'reckon': 5610, 'eightish': 2537, 'carpark': 1667, 'si': 6114, 'oreo': 4953, 'truffles': 7007, 'torch': 6943, 'offline': 4869, 'anjola': 970, 'restock': 5720, 'dumb': 2471, 'maggi': 4275, 'mee': 4391, 'wrks': 7581, 'yeesh': 7638, 'report': 5690, 'foot': 2905, 'barring': 1236, 'sudden': 6535, 'influx': 3634, 'shell': 6049, 'unconsciously': 7092, 'avoiding': 1165, 'unhappy': 7110, 'cosign': 2013, 'dippeditinadew': 2325, 'lovingly': 4208, 'touched': 6954, 'itwhichturnedinto': 3734, 'gifted': 3110, 'tomeandsaid': 6912, 'raji': 5527, 'visa': 7258, 'gucci': 3244, 'john': 3805, 'bills': 1358, 'famous': 2745, 'develop': 2271, 'unconditionally': 7090, 'temper': 6719, 'confidence': 1949, 'casualty': 1680, 'stuff42moro': 6504, 'includes': 3611, '3510i': 449, 'deliveredtomorrow': 2225, '300': 427, 'boat': 1415, '083': 64, '6089': 571, 'rdy': 5560, 'ship': 6061, 'jabo': 3744, 'toughest': 6956, 'acting': 800, 'unspoken': 7133, 'zoe': 7694, 'mys': 4643, 'gsoh': 3239, 'spam': 6328, 'gigolo': 3112, 'mens': 4412, 'oncall': 4901, 'mjzgroup': 4497, '08714342399': 120, '50rcvd': 546, 'kfc': 3889, 'meals': 4375, 'gravy': 3211, 'painting': 5023, 'wall': 7321, 'warner': 7342, '83118': 657, 'colin': 1882, 'farrell': 2755, 'swat': 6609, 'popcorn': 5280, 'kiosk': 3912, 'mre': 4584, 'excited': 2678, 'piss': 5189, 'backwards': 1197, 'hockey': 3427, 'elections': 2547, 'everyday': 2649, 'fatty': 2765, 'castor': 1679, 'rounder': 5795, 'required': 5695, 'pears': 5102, 'perfect': 5116, 'boyf': 1473, 'interviw': 3678, 'picture': 5173, 'violated': 7250, 'mumhas': 4616, 'beendropping': 1296, 'theplace': 6788, 'adress': 829, 'heavily': 3357, 'six': 6167, 'chances': 1717, 'csh11': 2089, '6days': 598, 'tsandcs': 7017, 'gang': 3050, 'practical': 5324, '07753741225': 31, '08715203677': 129, '42478': 492, 'arabian': 1048, 'steed': 6439, 'mmmmmm': 4505, 'bao': 1224, 'sugardad': 6545, 'funeral': 3020, 'shining': 6059, 'otside': 4972, 'maga': 4273, 'wearing': 7376, 'black': 1380, 'pants': 5034, 'loxahatchee': 4212, 'tree': 6990, 'burning': 1563, 'restaurant': 5719, 'quiteamuzing': 5506, 'scool': 5914, 'probpop': 5405, 'cu': 2094, 'satthen': 5885, '4brekkie': 515, 'psxtra': 5450, 'lrg': 4214, 'portions': 5286, 'sonathaya': 6286, 'soladha': 6262, 'skyped': 6180, 'kz': 3946, 'given': 3123, 'ultimatum': 7078, 'countin': 2026, 'aburo': 769, 'waheed': 7304, 'fathima': 2763, 'hvae': 3534, '09061701444': 199, 'earn': 2490, 'intention': 3667, 'visitors': 7263, 'embarassed': 2557, 'arrested': 1074, 'possession': 5292, 'specify': 6343, 'domain': 2390, 'nusstu': 4826, 'creep': 2066, 'x49': 7600, '09065989182': 228, 'txtstar': 7056, 'custom': 2117, 'officer': 4866, 'mcr': 4372, 'parkin': 5054, 'tht': 6837, 'incident': 3608, 'hint': 3406, 'ron': 5786, 'videos': 7242, 'shsex': 6107, 'netun': 4717, 'fgkslpopw': 2802, 'fgkslpo': 2801, 'amy': 957, 'parties': 5060, 'salt': 5856, 'rub': 5810, 'wounds': 7569, 'timi': 6859, 'clearing': 1834, '3230': 443, 'textbook': 6747, 'algorithms': 906, 'edition': 2515, 'sacrifice': 5838, 'compliments': 1931, 'grandma': 3203, 'parade': 5041, 'audrey': 1138, 'status': 6429, 'loo': 4164, 'ed': 2511, 'nìte': 4837, 'yuou': 7684, 'spot': 6383, 'perhaps': 5121, 'identification': 3559, 'presnts': 5364, 'bcz': 1269, 'mis': 4474, 'jeevithathile': 3777, 'irulinae': 3711, 'neekunna': 4704, 'prakasamanu': 5331, 'sneham': 6243, 'prakasam': 5330, 'ennal': 2587, 'mns': 4508, 'huiming': 3512, 'stability': 6399, 'tranquility': 6970, 'vibrant': 7233, 'colourful': 1894, 'pressies': 5366, 'vco': 7214, 'tncs': 6887, 'win150ppmx3age16': 7475, 'dealer': 2176, '09061743386': 203, 'drama': 2422, 'struggling': 6491, 'strange': 6475, 'ego': 2532, 'necessity': 4695, 'reppurcussions': 5691, 'remains': 5659, 'bro': 1513, 'amongst': 948, 'bros': 1518, 'nationwide': 4678, 'newport': 4730, 'ball': 1212, 'moving': 4580, 'spin': 6357, 'bat': 1244, 'prone': 5428, 'falls': 2741, 'dorothy': 2406, 'kiefer': 3902, 'granite': 3205, 'explosive': 2706, 'members': 4407, 'nasdaq': 4669, 'symbol': 6629, 'cdgt': 1696, 'grumble': 3237, 'wa': 7297, 'openin': 4924, 'formal': 2927, 'aint': 882, 'cl': 1815, 'shanil': 6035, 'exchanged': 2677, 'uncut': 7095, 'diamond': 2287, 'dino': 2322, 'doc': 2365, 'woot': 7543, 'stuffing': 6506, 'panther': 5032, 'sugababes': 6542, 'zebra': 7689, 'badass': 1199, 'hoody': 3452, 'watever': 7360, 'built': 1552, 'atlast': 1123, 'lonlines': 4163, 'lotz': 4190, 'memories': 4409, 'finn': 2839, 'romcapspam': 5785, 'presence': 5360, 'outgoing': 4981, 'aluable': 931, 'ffectionate': 2797, 'oveable': 4991, 'ternal': 6732, 'oble': 4843, 'ruthful': 5827, 'ntimate': 4814, 'atural': 1134, 'namous': 4662, 'valentines': 7198, 'annoncement': 974, '07046744435': 23, 'continent': 1980, 'luckily': 4225, 'starring': 6415, '09058091854': 177, 'box385': 1465, 'm6': 4250, '6wu': 608, 'harri': 3320, 'aah': 746, 'lush': 4234, 'fumbling': 3014, 'drinking': 2437, 'mandan': 4308, 'hadn': 3270, 'clocks': 1842, 'shouted': 6092, 'realised': 5576, 'wahay': 7303, 'lodge': 4144, 'grooved': 3228, 'aiyar': 888, 'spouse': 6384, 'pmt': 5235, 'sumthin': 6558, '4give': 520, 'shldxxxx': 6070, 'airtel': 885, 'studies': 6499, 'anyones': 1000, '2waxsto': 421, 'deliver': 2223, 'guide': 3253, 'quiet': 5503, 'beth': 1334, 'aunts': 1144, 'charlie': 1732, 'helen': 3365, 'shola': 6074, 'academic': 773, 'department': 2241, 'sagamu': 5844, 'lautech': 4007, 'vital': 7264, 'completes': 1928, 'education': 2517, 'zealand': 7688, 'hoped': 3458, 'regretted': 5644, 'chasing': 1736, 'nosy': 4796, 'reacting': 5566, 'freaked': 2954, 'dearer': 2181, 'dem': 2229, 'noworriesloans': 4810, '08717111821': 134, 'calculation': 1602, 'units': 7118, 'accent': 775, '4years': 534, 'dental': 2236, 'nmde': 4762, 'young': 7665, 'wrking': 7580, 'salad': 5847, 'desert': 2254, 'beers': 1299, 'bleak': 1390, 'dick': 2291, 'sez': 6018, 'arab': 1047, 'evry1': 2667, 'eshxxxxxxxxxxx': 2621, 'block': 1396, 'breaker': 1490, 'deluxe': 2228, 'format': 2928, 'features': 2776, 'graphics': 3207, 'bbdeluxe': 1258, 'challenge': 1714, 'exorcism': 2691, 'emily': 2562, 'sun0819': 6560, 'every1': 2646, 'ava': 1152, 'goodtime': 3175, 'oli': 4892, 'melnite': 4404, 'ifink': 3567, 'mite': 4492, 'explain': 2704, 'everythin': 2653, 'l8rs': 3950, 'fake': 2736, 'reffering': 5629, 'getiing': 3096, 'mas': 4335, 'mnths': 4510, 'color': 1892, 'musical': 4628, 'ding': 2319, 'tai': 6646, 'feng': 2792, 'reservations': 5700, 'stubborn': 6494, 'sucker': 6532, 'suckers': 6533, 'goodnite': 3172, 'gailxx': 3037, 'ana': 959, 'sathy': 5880, 'rto': 5808, 'thangam': 6760, '08714712394': 124, 'proper': 5431, 'tongued': 6922, 'gist': 3120, 'hitter': 3414, 'mmmmmmm': 4506, 'snuggles': 6251, 'contented': 1977, 'sigh': 6121, 'whispers': 7445, '3mobile': 469, 'chatlines': 1740, 'inclu': 3609, 'servs': 6002, 'sed': 5954, 'l8er': 3948, 'mega': 4398, 'bailiff': 1206, 'realized': 5580, 'absence': 764, 'stagwood': 6402, 'winterstone': 7488, 'victors': 7237, 'coulda': 2023, '07973788240': 45, '08715203649': 127, '08712101358': 100, 'liquor': 4109, 'loko': 4153, 'sky': 6177, 'gamestar': 3047, 'active': 804, '250k': 375, 'scoring': 5918, '88088': 699, 'dabooks': 2134, 'detailed': 2265, 'shortly': 6086, 'timings': 6861, 'xuhui': 7609, '8am': 714, 'nooooooo': 4782, 'cable': 1595, 'outage': 4977, 'ijust': 3571, 'talked': 6659, 'ew': 2669, 'legs': 4042, 'neck': 4696, 'killing': 3904, 'amigos': 941, 'burn': 1562, 'fell': 2788, 'dreading': 2428, 'thou': 6820, 'upto': 7156, 'gender': 3081, '24m': 371, 'shag': 6022, 'sextextuk': 6014, 'xxuk': 7612, '69876': 593, 'sports': 6380, 'fans': 2749, '0870141701216': 80, '120p': 282, '08719181259': 156, '26': 378, 'hooked': 3454, 'clearly': 1835, 'triple': 6996, 'echo': 2507, 'bread': 1487, 'lmao': 4132, 'forgiven': 2921, 'billion': 1357, 'raping': 5544, 'dudes': 2466, 'poker': 5258, 'dom': 2389, 'spoil': 6370, 'pocked': 5250, 'nor': 4784, 'convince': 1991, 'witot': 7508, 'pouch': 5308, '100p': 261, 'l8': 3947, 'buses': 1568, 'gon': 3159, 'thinked': 6803, 'stress': 6479, '125': 285, 'freeentry': 2961, 'xt': 7608, 'com1win150ppmx3age16': 1897, 'ambitious': 937, 'kadeem': 3850, 'hasn': 3324, 'paranoid': 5044, 'iouri': 3695, 'wylie': 7597, 'dealing': 2177, 'student': 6497, 'books': 1433, 'stoners': 6458, 'syllabus': 6628, '2yrs': 425, 'lik': 4080, 'belongs': 1320, 'fated': 2761, 'shoranur': 6079, 'fuelled': 3008, 'concern': 1942, 'prior': 5387, 'grief': 3222, 'violence': 7251, 'super': 6571, 'invention': 3685, '07732584351': 28, 'rodger': 5778, 'burns': 1564, 'tiime': 6854, 'fridge': 2976, 'deepest': 2203, 'darkest': 2152, '09094646631': 246, 'bigger': 1353, 'justify': 3842, 'needy': 4703, 'pouts': 5313, 'stomps': 6456, 'feet': 2787, 'incomm': 3614, 'manual': 4314, 'tech': 6701, 'reset': 5704, 'troubleshooting': 7002, 'scratches': 5924, 'grinder': 3223, 'callon': 1618, 'selflessness': 5971, 'forwarding': 2937, '2005': 353, 'url': 7168, 'hella': 3368, 'prayers': 5339, 'womdarfull': 7530, 'tues': 7025, 'crucify': 2079, 'chip': 1792, 'bawling': 1254, 'failure': 2733, 'failing': 2731, 'starshine': 6417, 'ache': 791, 'sips': 6152, 'attend': 1130, 'brand': 1481, 'hont': 3450, 'scenario': 5906, 'gota': 3183, 'surprised': 6594, 'french': 2969, 'fooled': 2904, 'phasing': 5146, 'fourth': 2941, 'dimension': 2314, 'plumbers': 5228, 'wrench': 7573, 'borrow': 1444, '09050000332': 166, 'xavier': 7602, 'joys': 3822, 'lifeis': 4072, 'daywith': 2169, 'somewheresomeone': 6282, 'tosend': 6947, 'greeting': 3220, '83600': 665, 'pocay': 5249, 'wocay': 7526, '2morrowxxxx': 406, 'score': 5916, 'motivating': 4567, 'nasty': 4671, 'cough': 2021, 'crying': 2085, 'imprtant': 3602, 'tomorw': 6916, 'shanghai': 6034, '21st': 362, 'cya': 2128, 'prevent': 5371, 'dehydration': 2216, 'fluids': 2881, 'poyyarikatur': 5315, 'kolathupalayam': 3935, 'unjalur': 7121, 'erode': 2612, '330': 447, '1120': 271, '1205': 281, 'flat': 2859, '50s': 547, 'alot': 923, 'murdered': 4623, 'questioned': 5499, 'cook': 1993, 'cooking': 1996, 'gardener': 3056, 'vegetables': 7218, 'maid': 4282, 'neighbour': 4709, 'murderer': 4624, 'brilliant': 1504, 'bathroom': 1250, 'indicate': 3627, 'compensation': 1920, 'accident': 781, '08717895698': 140, 'mobstorequiz10ppm': 4523, 'antha': 991, 'corrct': 2007, 'dane': 2146, 'useless': 7179, 'instant': 3659, '08715203028': 126, '9th': 742, 'amanda': 935, 'regard': 5637, 'renewing': 5674, 'upgrading': 7148, '0845': 68, '021': 13, '3680': 453, 'subject': 6514, 'decorating': 2197, 'resolution': 5708, 'frank': 2948, 'someday': 6269, 'poo': 5274, '09058097189': 189, 'ls15hb': 4216, 'clarification': 1819, 'deus': 2270, 'install': 3657, 'browse': 1525, 'artists': 1081, 'competition': 1921, 'tlk': 6877, 'meat': 4384, 'supreme': 6583, 'forgive': 2920, 'spelled': 6349, 'caps': 1646, 'among': 947, 'bullshit': 1555, 'rem': 5657, 'correctly': 2010, 'theoretically': 6786, 'buyer': 1578, 'jos': 3818, 'bec': 1280, 'temple': 6720, 'allowed': 918, 'lighters': 4078, 'ripped': 5765, 'clubmoby': 1854, '08717509990': 138, 'downloads': 2418, 'arms': 1066, 'afternon': 855, 'interviews': 3677, 'prediction': 5346, 'repeat': 5680, 'relieved': 5654, 'westonzoyland': 7421, 'objection': 4842, 'boye': 1472, 'faded': 2728, 'glory': 3132, 'ralphs': 5533, 'shitin': 6067, 'defo': 2213, 'hardest': 3315, '2morow': 403, 'millions': 4450, 'lekdog': 4045, 'fassyole': 2756, 'blacko': 1382, 'londn': 4157, '30pm': 434, 'pure': 5472, 'hearted': 3352, 'enemies': 2573, 'smiley': 6225, 'gotten': 3188, 'begun': 1308, 'registration': 5642, 'permanent': 5124, 'residency': 5705, 'anythiing': 1002, '515': 548, 'wifi': 7465, 'carry': 1668, '98321561': 734, 'familiar': 2743, 'tool': 6931, 'gray': 3212, 'listn': 4116, 'watevr': 7361, 'mouse': 4572, 'desk': 2258, 'priscilla': 5389, 'necklace': 4697, 'token': 6902, 'liking': 4086, 'ecstasy': 2510, 'recpt': 5618, 'processed': 5409, '140': 297, '180': 322, 'aust': 1146, 'urgh': 7164, 'coach': 1866, 'smells': 6219, 'duvet': 2481, 'predictive': 5347, 'engalnd': 2578, 'telly': 6714, 'mia': 4436, 'elliot': 2550, 'kissing': 3916, 'companion': 1916, 'chef': 1762, 'listener': 4113, 'organizer': 4957, 'boyfriend': 1474, 'sympathetic': 6630, 'athletic': 1121, 'courageous': 2033, 'determined': 2268, 'dependable': 2242, 'intelligent': 3665, 'psychologist': 5453, 'pest': 5139, 'exterminator': 2713, 'psychiatrist': 5451, 'healer': 3347, 'stylist': 6512, 'aaniye': 747, 'pudunga': 5460, 'venaam': 7222, '69101': 588, 'rtf': 5807, 'sphosting': 6353, 'restrictions': 5723, 'buddys': 1543, 'arty': 1083, 'collages': 1883, 'tryin': 7014, 'attached': 1127, 'teach': 6691, 'grab': 3196, 'videosound': 7243, 'gold': 3154, 'videosounds': 7244, 'logos': 4152, 'musicnews': 4629, '09701213186': 255, 'mall': 4299, 'kaila': 3852, 'spook': 6376, 'halloween': 3285, 'eerie': 2523, '08701417012150p': 79, 'chloe': 1795, 'yun': 7681, 'nus': 4825, 'sc': 5900, 'specialise': 6340, 'wad': 7299, 'phony': 5159, 'recorder': 5614, 'canname': 1638, 'australia': 1147, 'mquiz': 4582, 'iraq': 3703, 'afghanistan': 849, 'stable': 6400, 'honest': 3444, 'traveling': 6981, '02072069400': 10, 'bx': 1586, '526': 551, 'enjoyed': 2583, '61610': 575, '08712400602450p': 105, 'provided': 5442, 'tones2you': 6920, 'gobi': 3145, 'evo': 2662, 'jealous': 3774, 'several': 6011, 'thinl': 6808, 'figures': 2814, 'piece': 5176, 'tension': 6726, 'innocent': 3647, 'terror': 6735, 'cruel': 2080, 'decent': 2187, 'joker': 3809, 'sapna': 5869, 'aunty': 1145, 'manege': 4312, 'hogidhe': 3428, 'chinnu': 1790, 'swalpa': 6605, 'agidhane': 868, 'certainly': 1709, 'puts': 5482, 'perspective': 5135, 'headstart': 3345, '30ish': 433, 'desperate': 2261, 'rummer': 5820, '087123002209am': 103, 'frying': 3000, 'pack': 5012, 'cereals': 1707, 'gari': 3057, '9ja': 739, 'clarify': 1820, 'preponed': 5357, 'windy': 7479, '08002888812': 55, 'sum': 6554, 'lucyxx': 4229, 'birth': 1368, '8lb': 716, '7oz': 629, 'brilliantly': 1505, '820554ad0a1705572711': 650, 'nuerologist': 4819, 'bookedthe': 1431, 'hut': 3531, 'taught': 6678, 'ranjith': 5542, 'becaus': 1281, 'verifying': 7226, 'prabu': 5322, 'matric': 4352, 'cts': 2092, 'employee': 2564, 'evenings': 2640, 'smiled': 6223, 'answered': 985, 'gudnite': 3247, 'zogtorius': 7695, 'deciding': 2190, 'thout': 6825, '09061749602': 207, '528': 552, 'hp20': 3494, '1yf': 347, 'demand': 2230, 'husband': 3528, 'musthu': 4632, 'disturbing': 2352, 'restrict': 5722, 'likes': 4084, 'drugdealer': 2451, 'workout': 7553, 'fats': 2764, 'recieve': 5609, '24hrs': 370, 'teletext': 6710, 'forgets': 2919, 'rahul': 5518, 'dengra': 2233, 'disappointment': 2335, '09096102316': 249, 'minmoremobsemspobox45po139wa': 4463, 'playin': 5213, 'non': 4777, 'breeze': 1499, 'fresh': 2972, 'twittering': 7045, 'wisdom': 7492, 'hidden': 3396, 'famamus': 2742, 'shoot': 6075, 'xclusive': 7604, 'clubsaisai': 1855, 'speciale': 6338, 'zouk': 7697, 'nichols': 4741, 'roses': 5792, '07946746291': 43, '07880867867': 42, 'dislikes': 2344, 'hiphop': 3408, 'filthy': 2823, 'stories': 6469, 'the4th': 6774, 'october': 4851, '08719839835': 159, 'mgs': 4434, 'billed': 1356, '89123': 710, 'shipped': 6062, 'followed': 2893, 'wither': 7504, '23f': 367, '23g': 368, 'treatin': 6988, 'treacle': 6983, 'such': 6531, 'worlds': 7556, 'oooooh': 4918, 'cab': 1593, 'steps': 6442, 'garments': 3058, 'apeshit': 1013, 'durban': 2476, 'smartcall': 6214, '68866': 587, 'subscriptn3gbp': 6525, '08448714184': 67, 'landlineonly': 3975, 'lays': 4013, 'cannot': 1639, 'remb': 5660, 'screamed': 5926, 'hallaq': 3284, 'owned': 5006, 'possessive': 5293, 'creative': 2061, 'review': 5741, 'monkeys': 4546, 'annoyin': 977, 'sue': 6537, 'lapdancer': 3985, 'g2': 3032, '1da': 331, '150ppmsg': 311, 'mahal': 4279, 'gran': 3201, 'onlyfound': 4912, 'afew': 843, 'cusoon': 2114, 'honi': 3449, 'inperialmusic': 3649, 'listening2the': 4115, 'weirdest': 7402, 'leafcutter': 4026, 'insects': 3651, 'molested': 4534, 'plumbing': 5229, 'remixed': 5669, 'evil': 2659, 'acid': 792, 'prof': 5411, 'papers': 5037, 'sem': 5975, 'enna': 2586, 'kalaachutaarama': 3854, '3750': 455, 'lips': 4108, 'strongly': 6489, 'promises': 5424, 'creativity': 2062, 'stifled': 6448, 'importantly': 3594, 'breather': 1497, 'granted': 3206, 'fulfil': 3011, 'boooo': 1435, 'poking': 5259, 'canada': 1630, 'goldviking': 3157, '29': 384, '762': 619, 'busetop': 1569, 'rats': 5549, 'themes': 6782, 'consistently': 1968, 'practicum': 5327, 'links': 4101, 'ears': 2492, 'thkin': 6813, 'parco': 5047, 'nb': 4685, 'asjesus': 1094, 'wrote': 7586, 'opinions': 4930, 'ujhhhhhhh': 7073, 'sandiago': 5862, 'parantella': 5045, 'stereo': 6443, 'mi': 4435, 'unknown': 7123, 'sunny': 6564, 'rays': 5553, 'bay': 1255, 'weed': 7392, 'deficient': 2209, 'grl': 3226, 'hogolo': 3430, 'kodstini': 3933, 'agalla': 862, 'madstini': 4270, 'hogli': 3429, 'mutai': 4634, 'eerulli': 2524, 'kodthini': 3934, 'interflora': 3672, 'flowers': 2879, '505060': 538, 'seventeen': 6010, 'hundred': 3517, 'ml': 4500, 'surly': 6591, 'sang': 5864, 'uptown': 7157, '80': 632, 'crab': 2044, 'waves': 7367, 'cleared': 1832, 'footprints': 2909, 'fox': 2944, 'frndsship': 2989, 'dwn': 2483, 'keeps': 3878, 'desparately': 2260, 'tlp': 6878, 'tiwary': 6873, 'rcb': 5554, 'battle': 1253, 'bang': 1216, 'kochi': 3932, 'dentists': 2238, 'lifetime': 4073, 'meaningless': 4379, 'moments': 4537, 'ic': 3547, 'mary': 4334, 'matthew': 4356, '09063440451': 211, 'lux': 4237, 'ppm150': 5319, 'box334': 1463, 'prometazine': 5422, 'syrup': 6633, '5mls': 561, 'feed': 2780, 'qet': 5488, 'mountain': 4570, 'deer': 2204, 'lined': 4096, 'wewa': 7424, '130': 293, 'iriver': 3705, '255': 376, '128': 288, 'brin': 1506, 'sheet': 6045, 'prasanth': 5335, 'ettans': 2631, 'ams': 954, 'frog': 2992, 'mad1': 4265, 'mad2': 4266, 'gbp': 3071, 'browser': 1526, 'surf': 6588, 'bangbabes': 1218, 'bangb': 1217, 'taj': 6648, 'lesser': 4054, 'known': 3928, 'facts': 2727, 'mumtaz': 4619, 'shahjahan': 6025, 'wifes': 7464, 'killed': 3903, 'arises': 1062, 'hari': 3317, 'eggs': 2531, 'harry': 3321, 'potter': 5307, 'phoenix': 5153, 'readers': 5569, 'whore': 7452, 'unbelievable': 7085, 'spatula': 6334, 'lap': 3984, 'textand': 6746, '08002988890': 58, 'bbq': 1259, '6ish': 601, 'yeh': 7639, 'kane': 3861, 'shud': 6108, 'spacebucks': 6325, 'text82228': 6745, 'txt82228': 7050, 'fan': 2746, 'sparkling': 6333, 'breaks': 1493, '45': 501, '0121': 5, '2025050': 357, 'shortbreaks': 6083, 'org': 4955, 'riley': 5757, 'pride': 5378, 'kid': 3898, 'grownup': 3236, 'coherently': 1877, 'twenty': 7040, 'mummy': 4617, 'unconscious': 7091, 'adults': 835, 'abnormally': 759, 'remembrs': 5664, 'everytime': 2655, 'banned': 1222, 'timing': 6860, 'forgotten': 2924, 'machines': 4261, '1405': 298, '1680': 318, '1843': 323, 'euro2004': 2633, 'kickoff': 3896, 'euro': 2632, '83222': 658, 'transport': 6977, 'problematic': 5401, 'definite': 2210, 'whos': 7453, 'wasnt': 7349, 'phoned': 5157, '____': 743, 'ths': 6836, 'ias': 3541, 'pai': 5019, 'seh': 5963, 'fondly': 2897, 'thot': 6819, 'gal': 3040, 'shhhhh': 6054, '09066660100': 241, '2309': 366, 'samus': 5861, 'shoulders': 6090, '3000': 428, 'mca': 4369, 'conform': 1954, 'thet': 6796, 'skinny': 6173, 'casting': 1678, 'geeee': 3078, 'scold': 5913, 'gokila': 3153, 'bw': 1585, 'rude': 5812, '01223585334': 7, '2c': 386, 'shagged': 6023, '8552': 679, '2end': 390, 'curious': 2109, 'ovulation': 5000, 'strips': 6487, 'postal': 5298, 'tunji': 7032, 'mike': 4443, 'hussey': 3529, 'tip': 6862, '83355': 661, 'ibhltd': 3543, 'ldnw15h': 4019, 'mtmsgrcvd18': 4602, 'unintentionally': 7115, 'trains': 6969, 'warning': 7343, 'bare': 1228, 'whr': 7455, 'buyers': 1579, 'charles': 1731, 'packing': 5014, 'grandmas': 3204, 'hungover': 3519, 'lip': 4107, 'synced': 6632, 'shangela': 6033, 'yoyyooo': 7675, 'permissions': 5125, 'mac': 4257, 'rob': 5773, 'mack': 4263, 'theater': 6775, 'realize': 5579, 'goin2bed': 3151, 'only1more': 4911, '6230': 577, '83383': 663, 'pobox114': 5240, '14tcr': 301, 'panasonic': 5027, 'bluetoothhdset': 1409, 'doublemins': 2410, 'doubletxt': 2412, '09066362220': 232, '09061743810': 205, '326': 445, 'shant': 6036, 'jia': 3791, 'rules': 5817, 'bend': 1324, 'rule': 5816, 'thia': 6799, 'inlude': 3644, 'previews': 5372, 'meive': 4401, 'gotany': 3184, 'lightly': 4079, 'checkboxes': 1749, 'chiong': 1791, 'miles': 4446, 'jaya': 3768, 'fundamentals': 3019, 'whoever': 7449, 'disagreeable': 2334, 'uv': 7190, 'causes': 1688, 'mutations': 4635, 'sunscreen': 6567, 'essential': 2626, 'thesedays': 6793, 'disconnect': 2339, 'terrorist': 6736, 'itz': 3735, 'confirmd': 1952, 'verified': 7224, 'cnn': 1863, 'ibn': 3545, 'classmates': 1826, 'arestaurant': 1055, 'squid': 6394, 'dosomething': 2407, 'stuck': 6495, 'middle': 4439, 'fish': 2846, 'swimsuit': 6619, 'nigh': 4746, 'somewhr': 6283, 'crushes': 2083, 'tahan': 6645, 'anot': 980, 'lo': 4134, 'clover': 1850, '28th': 383, 'chosen': 1803, '09066364311': 234, 'uncountable': 7094, 'pieces': 5177, 'somerset': 6273, 'nauseous': 4684, 'dieting': 2303, '674': 585, 'allday': 914, 'silver': 6134, 'perf': 5115, 'baaaaabe': 1188, 'misss': 4486, 'youuuuu': 7673, 'lnly': 4133, 'farm': 2754, '95': 731, 'pax': 5085, 'deposit': 2245, 'avatar': 1156, 'nigro': 4751, 'tbs': 6686, 'persolvo': 5129, 'sept': 5991, '38': 457, 'kath': 3869, 'manchester': 4306, 'fa': 2721, 'tkts': 6876, '08452810075over18': 72, 'free2day': 2959, 'george': 3090, '89080': 708, 'saucy': 5887, '0870241182716': 83, 'crashed': 2051, 'cuddled': 2098, 'rr': 5803, 'cheque': 1764, 'electricity': 2548, 'keys': 3888, 'scrumptious': 5931, 'accomodations': 785, 'cave': 1690, 'offered': 4862, 'embarassing': 2558, 'learned': 4030, 'jeans': 3775, 'advise': 840, 'recent': 5604, '1500': 305, '09066364589': 236, 'wi': 7457, 'nz': 4836, 'highest': 3401, 'maximum': 4363, '71': 611, 'fair': 2734, 'weaknesses': 7374, 'pushes': 5479, 'knee': 3921, 'exposes': 2708, 'pulls': 5463, 'wicked': 7458, 'cried': 2072, 'dled': 2358, 'imp': 3591, '8000930705': 634, 'contacted': 1973, '09064017305': 220, 'pobox75ldns7': 5246, 'chic': 1772, 'declare': 2196, '077xxx': 35, '09066362206': 231, 'dot': 2408, 'boost': 1436, 'sry': 6397, 'computerless': 1936, 'arnt': 1069, 'xxxxxxxxxxxxxx': 7618, 'bold2': 1422, 'forgiveness': 2922, 'fruit': 2999, 'stone': 6457, 'burgundy': 1560, 'captaining': 1648, 'narcotics': 4668, 'baig': 1205, 'watches': 7356, 'pei': 5105, 'convinced': 1992, 'conversations': 1987, 'senses': 5985, 'overemphasise': 4995, 'cooped': 1998, 'necessary': 4694, 'shared': 6039, 'nokia6650': 4774, 'ctxt': 2093, 'mtmsg': 4600, 'bookshelf': 1434, '09064017295': 219, 'strt': 6490, 'ltdhelpdesk': 4221, '02085076972': 12, 'flip': 2868, 'impressively': 3600, 'sensible': 5986, 'stairs': 6403, 'phews': 5148, 'flippin': 2869, 'thanx4': 6768, 'cer': 1706, 'garden': 3055, 'bulbs': 1553, 'seeds': 5956, 'scotsman': 5921, 'go2': 3141, 'notxt': 4804, '07801543489': 36, 'latests': 3999, 'llc': 4130, 'usa': 7173, 'mt': 4596, 'msgrcvd18': 4592, 'disturbance': 2351, 'dlf': 2359, 'premarica': 5351, 'kindly': 3908, 'rgds': 5746, 'inconvenient': 3616, 'adjustable': 821, 'cooperative': 1999, 'allows': 919, 'bits': 1377, '4719': 507, '523': 549, 'wuld': 7593, 'everyboy': 2648, 'xxxxxxxx': 7617, 'waheeda': 7305, 'administrator': 823, 'hep': 3383, 'immunisation': 3590, 'kidz': 3901, 'rhode': 5748, 'bong': 1426, 'html': 3500, 'gbp4': 3073, 'mfl': 4433, '1146': 274, 'oic': 4877, 'tight': 6850, 'occurs': 4849, 'go2sri': 3142, 'lanka': 3982, 'ax': 1177, 'footie': 2908, 'phil': 5149, 'neville': 4725, 'bitching': 1374, 'actual': 807, 'claire': 1818, '09099725823': 250, 'axis': 1179, 'born': 1443, 'freinds': 2967, 'webadres': 7382, 'geting': 3097, 'suffers': 6540, 'silence': 6131, 'aslamalaikkum': 1101, 'tohar': 6899, 'beeen': 1293, 'muht': 4611, 'albi': 897, 'mufti': 4609, 'mahfuuz': 4281, 'burger': 1559, 'greatness': 3217, 'typical': 7062, 'flurries': 2883, 'ground': 3231, 'eek': 2522, 'dileep': 2313, 'muchand': 4607, 'contacts': 1974, 'venugopal': 7223, 'mentioned': 4415, 'jetton': 3787, 'doubt': 2413, 'handsome': 3295, 'finding': 2829, 'ummma': 7081, 'tonght': 6921, 'mostly': 4564, 'lyk': 4243, 'footbl': 2907, 'crckt': 2058, 'ashley': 1090, 'optimistic': 4937, '84025': 668, 'web2mobile': 7381, 'txt250': 7049, 'box139': 1459, 'la32wu': 3954, 'txtx': 7059, 'motivate': 4566, 'darkness': 2153, 'sexiest': 6013, 'dirtiest': 2331, '89070': 707, 'nte': 4813, 'exposed': 2707, 'vomiting': 7277, 'cat': 1681, 'watts': 7365, 'cards': 1653, 'marvel': 4333, 'ultimate': 7077, 'spider': 6355, '83338': 660, '8ball': 715, 'appeal': 1022, 'thriller': 6830, 'director': 2328, 'calicut': 1604, 'predicting': 5345, 'inch': 3606, 'accumulation': 789, 'cocksuckers': 1873, 'ipads': 3700, 'worthless': 7563, 'garbage': 3054, 'novelty': 4806, 'items': 3727, 'jack': 3745, 'helpful': 3376, 'pretend': 5369, 'response': 5715, 'hypotheticalhuagauahahuagahyuhagga': 3539, 'upstairs': 7155, 'btwn': 1538, 'dock': 2366, 'rolled': 5783, 'newscaster': 4733, 'dabbles': 2133, 'flute': 2884, 'wheel': 7431, 'wouldn': 7568, 'impressed': 3599, 'funs': 3024, 'playng': 5215, 'racing': 5512, 'totes': 6952, 'x2': 7598, '08715203656': 128, '42049': 490, 'zhong': 7692, 'qing': 5490, 'act': 797, 'lag': 3963, 'vewy': 7231, 'lubly': 4223, 'detroit': 2269, 'frequently': 2971, 'folks': 2891, 'bootydelious': 1438, '32': 441, 'spirit': 6360, 'docs': 2368, 'appointments': 1033, 'shoving': 6094, 'stuffs': 6507, 'rv': 5828, 'hol': 3431, 'ages': 867, 'rvx': 5829, 'expert': 2700, 'vill': 7248, 'orc': 4947, 'sptv': 6389, 'jersey': 3783, 'devils': 2275, 'wings': 7482, 'incorrect': 3617, 'vday': 7215, 'parachute': 5040, 'useful': 7178, 'specialisation': 6339, 'labor': 3956, 'shakara': 6026, 'beggar': 1304, 'peach': 5100, 'tasts': 6673, 'webpage': 7384, '09050000878': 169, 'pobox45w2tg150p': 5245, 'ahold': 876, '07808247860': 38, '08719899229': 161, '40411': 484, 'public': 5457, 'govt': 3190, 'instituitions': 3662, 'closed': 1846, '85233': 678, 'dismissial': 2346, 'lovly': 4209, 'dust': 2480, 'ubi': 7067, '67441233': 586, 'irene': 3704, 'ere': 2608, 'bus8': 1567, '22': 363, '61': 573, '66': 583, '382': 458, 'cres': 2068, '6ph': 604, '5wkg': 567, 'èn': 7699, 'newquay': 4731, '1im': 333, 'talkin': 6660, 'west': 7418, 'haiz': 3279, 'jon': 3815, 'spain': 6327, 'dinero': 2318, '000pes': 2, '48': 510, 'james': 3753, 'colours': 1895, '3lions': 465, 'cherthala': 1766, 'cochin': 1871, 'bfore': 1344, 'accordingly': 786, 'tmorow': 6881, 'engaged': 2577, 'excuses': 2682, 'steam': 6437, 'flaky': 2856, 'parent': 5048, 'snot': 6246, 'unintentional': 7114, 'nonetheless': 4780, 'resent': 5699, 'error': 2614, 'queries': 5496, 'customersqueries': 2120, 'netvision': 4718, 'basket': 1243, 'hlday': 3417, 'camp': 1626, 'amrca': 952, 'serena': 5993, 'dull': 2470, 'lotta': 4189, 'childporn': 1779, 'clas': 1822, 'andre': 963, 'virgil': 7254, 'leads': 4024, 'pence': 5107, '0844': 65, '861': 682, '85': 673, 'prepayment': 5356, 'telediscount': 6708, 'oi': 4876, 'southern': 6319, 'payments': 5093, 'fedex': 2779, 'uhhhhrmm': 7071, 'intend': 3666, 'iwas': 3738, 'marine': 4324, 'itried2tell': 3731, 'urmom': 7169, 'careabout': 1655, 'thread': 6826, 'wishlist': 7499, 'section': 5950, 'forums': 2934, 'nitro': 4758, 'bottom': 1451, 'speaking': 6336, 'eastenders': 2498, 'compare': 1918, 'herself': 3389, 'violet': 7252, 'tulip': 7029, 'lily': 4088, 'wkent': 7514, '150p16': 307, '730': 614, '09066612661': 239, 'eh74rr': 2534, 'badrith': 1201, 'gsex': 3238, '2667': 379, 'wc1n': 7370, '3xx': 477, 'nearby': 4689, 'cliffs': 1839, 'pubs': 5459, 'frankie': 2949, 'bennys': 1327, 'donno': 2394, 'scorable': 5915, 'affectionate': 847, 'follows': 2895, 'subsequent': 6527, 'spaces': 6326, 'embassy': 2560, 'washob': 7347, 'nobbing': 4765, 'nickey': 4742, 'platt': 5208, 'dogbreath': 2376, 'sounding': 6312, 'obedient': 4840, 'eviction': 2658, 'spiral': 6359, 'michael': 4437, 'riddance': 5751, 'gloucesterroad': 3133, 'uup': 7189, 'chapel': 1723, 'frontierville': 2997, 'tall': 6663, 'speedchat': 6346, '80155': 640, 'swap': 6607, 'chatter': 1741, 'chat80155': 1739, 'rcd': 5555, 'shun': 6111, 'bian': 1348, 'glass': 3128, 'exhibition': 2688, 'subtoitles': 6528, '87131': 691, '0870737910216yrs': 90, 'cashto': 1676, '08000407165': 49, 'getstop': 3100, '88222': 700, 'php': 5163, 'cashed': 1675, 'announced': 975, 'blog': 1398, 'table': 6639, 'occupied': 4846, 'bsn': 1532, 'advising': 841, 'woo': 7540, 'hoo': 3451, 'mc': 4368, 'thankyou': 6766, 'relaxing': 5651, '7am': 626, '5ish': 558, 'glo': 3129, 'delete': 2219, 'tag': 6643, 'messy': 4430, 'laundry': 4005, 'underwear': 7101, 'bras': 1483, 'strewn': 6483, 'pillows': 5183, 'tooth': 6934, 'or2optout': 4942, 'hv9d': 3533, 'lately': 3995, 'raglan': 5517, 'edward': 2519, 'cricket': 2069, 'gimme': 3113, 'closeby': 1845, 'peoples': 5112, 'configure': 1950, 'swashbuckling': 6608, 'slower': 6205, 'maniac': 4313, '08712402972': 111, 'revealing': 5739, 'prasad': 5334, '8pm': 718, 't91': 6637, '09057039994': 176, 'ello': 2551, 'cupboard': 2107, 'lyricalladie': 4244, '910': 723, 'hmmross': 3423, 'wildlife': 7470, 'want2come': 7333, 'that2worzels': 6771, 'wizzle': 7511, '449050000301': 500, '09050000301': 165, 'formatting': 2929, 'cozy': 2040, 'meg': 4397, 'goodmate': 3169, 'sary': 5876, 'asusual': 1118, 'cheered': 1756, 'franyxxxxx': 2951, 'surgical': 6590, 'emergency': 2561, 'unfolds': 7106, 'shadow': 6021, 'spring': 6387, '09050001295': 170, 'a21': 744, 'mini': 4460, 'invoices': 3693, 'cheetos': 1761, 'pert': 5136, 'drastic': 2425, 'fffff': 2798, 'squishy': 6395, 'mwahs': 4638, 'immed': 3588, 'spice': 6354, 'scenery': 5907, 'wondar': 7533, 'flim': 2867, 'punto': 5468, 'woulda': 7567, 'samantha': 5858, 'guitar': 3256, 'impress': 3598, 'doug': 2414, 'realizes': 5581, 'brison': 1510, 'language': 3981, '0871277810910p': 119, 'allo': 916, 'braved': 1485, 'triumphed': 6999, 'guessing': 3252, 'jb': 3771, 'slippery': 6200, 'chgs': 1771, 'yck': 7634, 'apes': 1012, 'horniest': 3465, '69888': 594, 'pleassssssseeeeee': 5220, 'avent': 1160, 'sportsx': 6381, 'tacos': 6642, 'rajas': 5526, 'burrito': 1565, 'nighters': 4748, 'persevered': 5127, '09066368470': 237, '7ish': 627, 'sane': 5863, 'helping': 3377, 'reminded': 5666, 'perpetual': 5126, 'dd': 2172, 'ou': 4973, 'shattered': 6041, 'uploaded': 7151, 'staff': 6401, 'placement': 5199, 'amrita': 953, 'habba': 3267, 'prices': 5377, '0796xxxxxx': 44, 'prizeawaiting': 5395, 'minuts': 4471, 'latr': 4000, 'dudette': 2467, 'rubber': 5811, 'dedicated': 2199, 'dedicate': 2198, 'owe': 5002, 'handed': 3290, 'adventure': 837, 'predict': 5343, 'perumbavoor': 5137, 'cumming': 2105, 'showr': 6100, 'prescribed': 5359, 'africa': 851, 'avin': 1162, '9755': 732, 'mallika': 4300, 'sherawat': 6051, 'fetching': 2794, 'shocking': 6072, 'crash': 2050, 'weirdo': 7403, '2mro': 407, 'hectic': 3359, 'swoop': 6624, 'infact': 3631, 'durham': 2477, 'reserved': 5702, 'seat': 5941, 'lunsford': 4233, 'huge': 3506, 'marking': 4327, 'splashmobile': 6366, 'subscrition': 6526, 'costing': 2016, 'shoppin': 6077, 'abbey': 751, 'punj': 5467, 'infra': 3639, 'en': 2566, 'nange': 4664, 'bakra': 1209, 'kalstiya': 3858, '44': 495, '7732584351': 621, 'celebrations': 1701, 'missionary': 4485, 'fucks': 3006, 'brolly': 1517, 'franxx': 2950, 'vibrate': 7234, 'lambda': 3968, 'upping': 7153, 'grams': 3200, 'portal': 5285, 'passport': 5072, 'alwys': 933, 'popping': 5282, 'ibuprofens': 3546, 'breathing': 1498, 'kitty': 3918, 'shaved': 6042, 'yeovil': 7643, 'motor': 4568, 'waaaat': 7298, 'lololo': 4156, 'xam': 7601, 'hall': 3282, 'manage': 4302, 'hesitation': 3391, 'intha': 3679, 'ponnungale': 5273, 'ipaditan': 3699, '07099833605': 25, '9280114': 725, '84484': 672, '08712402779': 109, 'showers': 6098, 'possessiveness': 5294, 'poured': 5311, 'golden': 3156, '2price': 414, '100txt': 263, 'mth': 4598, 'd3wv': 2131, 'bomb': 1424, 'lennon': 4049, 'thirtyeight': 6809, 'copies': 2001, 'dramatic': 2424, '08452810071': 70, '7250': 612, 'lifting': 4076, 'success': 6529, 'cme': 1859, 'hos': 3469, 'tog': 6897, 'oga': 4873, 'tunde': 7030, 'offering': 4863, 'memory': 4410, 'chit': 1793, 'logon': 4151, '8883': 703, 'cm': 1857, '4217': 491, 'w1a': 7290, '6zf': 609, '118p': 277, 'pending': 5108, '945': 729, 'animal': 968, 'adoring': 828, 'maturity': 4358, '9996': 736, '14thmarch': 302, 'availa': 1153, 'ger': 3092, 'toking': 6903, 'syd': 6627, 'sarasota': 5872, 'chez': 1770, 'jules': 3832, 'bowls': 1456, 'rounds': 5796, 'pee': 5103, 'outsider': 4986, 'tick': 6844, 'wenever': 7410, 'copied': 2000, 'compass': 1919, 'gnun': 3139, 'way2sms': 7369, 'palm': 5025, 'sac': 5835, 'batsman': 1251, 'muchxxlove': 4608, 'locaxx': 4141, 'ayo': 1182, 'travelled': 6982, 'el': 2540, 'nino': 4755, 'himself': 3405, 'base': 1239, 'thesmszone': 6795, 'anonymous': 979, 'masked': 4336, 'abuse': 770, 'students': 6498, '1thing': 341, 'answr': 989, '850': 674, '650': 582, 'tats': 6676, 'kvb': 3945, 'smsservices': 6235, 'yourinclusive': 7669, '220': 364, 'cm2': 1858, 'ilol': 3578, 'personally': 5133, 'wuldnt': 7594, 'lolnice': 4155, 'audiitions': 1136, 'relocate': 5655, 'reserve': 5701, 'thirunelvali': 6810, 'tirunelvali': 6867, 'tackle': 6641, 'yah': 7621, 'increase': 3618, 'stil': 6449, 'tobed': 6891, '430': 493, '630': 580, '08714712388': 123, '2hrs': 398, 'roommates': 5789, 'rumour': 5821, 'porn': 5283, 'vat': 7211, 'teresa': 6727, 'dec': 2185, 'ld': 4016, 'bam': 1214, 'aid': 877, 'usmle': 7184, 'sitter': 6161, 'kaitlyn': 3853, 'minus': 4468, 'paragraphs': 5043, 'jackson': 3748, 'rec': 5596, 'reception': 5606, 'ploughing': 5225, 'pile': 5182, 'ironing': 3707, 'chinky': 1789, 'pool': 5275, 'jacuzzi': 3749, 'becausethey': 1283, '09058098002': 191, 'pobox1': 5239, 'w14rg': 7289, 'toledo': 6905, '08719181513': 158, '1apple': 328, '1tulsi': 342, 'leaf': 4025, '1lemon': 334, '1cup': 330, 'problms': 5403, 'litres': 4120, 'watr': 7363, 'diseases': 2342, 'snd': 6242, 'prepared': 5355, 'finalise': 2825, '2marrow': 401, 'x29': 7599, '09065989180': 227, 'underdtand': 7097, 'fireplace': 2843, 'icon': 3553, 'fried': 2977, 'spares': 6331, 'looovvve': 4173, 'spending': 6351, 'nver': 4827, 'somtimes': 6285, 'occupy': 4847, 'secure': 5952, 'mittelschmertz': 4494, 'paracetamol': 5039, 'fellow': 2789, 'warwick': 7345, 'tmw': 6885, 'canceled': 1634, 'havn': 3336, 'tp': 6962, 'stands': 6411, 'nitz': 4761, 'mising': 4478, 'donate': 2392, 'unicef': 7112, 'asian': 1093, 'tsunami': 7021, 'disaster': 2336, 'fund': 3018, '864233': 683, 'varaya': 7205, 'elaya': 2545, '09058095107': 187, 's3xy': 5833, 'gate': 3062, 'cuddling': 2099, 'sleeps': 6189, 'fortune': 2932, 'humanities': 3514, 'requirements': 5696, 'gam': 3043, 'innings': 3646, 'fwiw': 3030, 'afford': 848, 'half8th': 3281, 'hundreds': 3518, 'handsomes': 3296, 'beauties': 1277, 'aunties': 1143, 'ganesh': 3049, 'caveboy': 1691, 'heater': 3355, 'degrees': 2214, 'dentist': 2237, '0825': 63, 'mention': 4414, 'served': 5997, 'chachi': 1712, 'pl': 5196, 'tiz': 6874, 'kanagu': 3860, 'watched': 7355, '0089': 4, 'digits': 2311, '09063442151': 212, 'thus': 6841, 'tightly': 6851, 'lasting': 3993, 'drizzling': 2443, 'dracula': 2421, 'ghost': 3106, 'addamsfa': 812, 'munsters': 4621, 'exorcist': 2692, 'twilight': 7042, 'julianaland': 3834, 'oblivious': 4844, 'youdoing': 7663, 'easiest': 2495, 'barcelona': 1227, 'lamp': 3970, 'unsubscribed': 7136, 'hunks': 3521, 'gotbabes': 3185, 'subscriptions': 6524, 'loneliness': 4159, 'propsd': 5436, 'gv': 3262, 'lv': 4239, 'lttrs': 4222, 'threw': 6829, 'thm': 6814, 'aproach': 1043, 'dt': 2459, 'truck': 7004, 'speeding': 6347, 'wn': 7522, 'instantly': 3660, 'thy': 6843, 'lived': 4123, 'happily': 3310, '2gthr': 396, 'evrydy': 2668, 'ciao': 1809, '3miles': 467, 'diwali': 2356, 'alle': 915, 'mone': 4541, 'eppolum': 2604, 'allalo': 913, 'thasa': 6769, 'messed': 4428, 'shudvetold': 6109, 'urgran': 7167, 'illspeak': 3577, 'u2moro': 7064, 'arngd': 1068, 'walkin': 7319, 'unfortuntly': 7108, 'bites': 1376, 'dancing': 2145, 'frnt': 2991, 'sayin': 5897, 'bite': 1375, 'miserable': 4476, 'okday': 4881, 'chop': 1800, 'indyarocks': 3629, 'phonebook': 5156, 'burial': 1561, 'axel': 1178, 'akon': 893, 'eyed': 2719, 'alaikkum': 895, 'respectful': 5711, 'expressoffer': 2711, 'drpd': 2449, 'deeraj': 2205, 'deepak': 2202, 'evry': 2666, 'emotion': 2563, 'dsn': 2458, 'prayrs': 5341, 'othrwise': 4971, 'expression': 2710, 'depression': 2248, 'lambu': 3969, 'ji': 3790, 'batchlor': 1246, 'complacent': 1922, 'despite': 2262, 'cramps': 2048, 'related': 5647, 'trade': 6964, 'arul': 1084, 'dark': 2151, 'teenager': 6704, 'hopeing': 3460, 'sisters': 6157, 'horse': 3468, 'categories': 1685, 'measure': 4383, 'ethnicity': 2629, 'census': 1703, 'transcribing': 6972, 'denis': 2234, 'mina': 4453, 'downs': 2419, 'fletcher': 2863, 'dessert': 2263, 'anti': 993, 'bcum': 1267, 'yalrigu': 7623, 'heltini': 3380, 'iyo': 3739, 'uttered': 7188, 'trusting': 7011, 'noncomittal': 4778, 'aftr': 858, 'sections': 5951, 'clearer': 1833, 'fones': 2900, 'wild': 7469, 'stop2stop': 6461, 'sian': 6115, 'supervisor': 6573, 'purple': 5474, 'yelow': 7642, 'brown': 1522, 'involve': 3694, 'imposed': 3595, 'hang': 3297, 'alcohol': 899, 'heaven': 3356, 'prince': 5380, 'haiyoh': 3278, 'million': 4449, 'diesel': 2301, 'deltomorrow': 2227, 'suppose': 6581, 'ericsson': 2610, 'salesman': 5852, 'cashbin': 1674, 'outbid': 4978, 'simonwatson5120': 6136, 'shinco': 6057, 'plyr': 5232, 'smsrewards': 6234, 'notifications': 4802, 'agent': 866, 'goodies': 3168, 'mat': 4341, 'pisces': 5188, 'aquarius': 1045, 'natwest': 4682, 'effects': 2526, 'massive': 4339, 'gut': 3259, 'wrenching': 7574, 'emailed': 2556, 'yifeng': 7653, 'brownie': 1523, 'cantdo': 1641, 'anythingtomorrow': 1005, 'myparents': 4642, 'aretaking': 1056, 'outfor': 4980, 'katexxx': 3868, 'weightloss': 7400, 'fancies': 2747, '09058097218': 190, 'spiritual': 6361, 'mag': 4272, 'avo': 1163, '86888': 685, 'subscribe6gbp': 6520, 'mnth': 4509, '3hrs': 464, 'txtstop': 7057, 'gamb': 3044, 'coincidence': 1879, 'sooo': 6296, 'settling': 6008, 'happenin': 3307, 'toilet': 6900, 'stolen': 6454, 'cops': 2003, 'sporadically': 6378, 'height': 3363, 'recycling': 5619, 'earning': 2491, 'hairdressers': 3277, 'beforehand': 1302, 'perform': 5117, 'ducking': 2464, 'chinchillas': 1787, 'somewhat': 6280, 'event': 2641, 'laden': 3960, 'wrecked': 7572, 'mushy': 4626, 'embarrassed': 2559, 'deserve': 2255, 'proze': 5445, 'norcorp': 4785, 'virgins': 7256, '4fil': 518, 'sexual': 6015, 'theirs': 6779, '69911': 596, 'muhommad': 4610, 'penny': 5110, 'specific': 6342, 'intrude': 3683, '24th': 372, 'concerned': 1943, 'accessible': 779, '08709501522': 97, '139': 295, 'la3': 3953, '2wu': 423, 'sliding': 6196, 'ingredients': 3642, 'comingdown': 1908, 'mandy': 4310, 'sullivan': 6553, 'hotmix': 3479, 'fm': 2886, '09041940223': 164, 'transferred': 6975, 'tirunelvai': 6866, 'length': 4047, 'wikipedia': 7467, 'yunny': 7682, 'citylink': 1814, '09058095201': 188, 'prsn': 5446, 'saves': 5892, 'eveb': 2637, 'bridgwater': 1501, 'banter': 1223, 'vpod': 7283, '81303': 647, 'blessed': 1393, 'christmassy': 1806, 'meets': 4396, 'lasagna': 3991, 'petey': 5142, 'noi': 4768, 'js': 3824, 'sexychat': 6017, 'urfeeling': 7161, 'bettersn': 1336, 'probthat': 5407, 'overdose': 4994, 'offense': 4860, 'evey': 2657, 'corporation': 2006, 'reassuring': 5591, 'shiny': 6060, 'warming': 7340, 'jap': 3762, 'appy': 1041, 'fizz': 2853, 'contains': 1975, 'causing': 1689, '08718726970': 147, 'up4': 7141, 'payed2day': 5089, 'havbeen': 3329, 'rise': 5766, '4my': 525, 'havebeen': 3331, 'preschoolco': 5358, 'ordinator': 4951, '2i': 399, 'feelingood': 2784, 'guai': 3241, 'gage': 3035, 'deck': 2194, 'cnupdates': 1864, 'newsletter': 4734, 'alerts': 901, 'stalk': 6404, 'profiles': 5414, '83039': 655, '62735': 579, '450': 502, 'accommodationvouchers': 784, 'mustprovide': 4633, '15541': 314, 'ft': 3001, 'combination': 1900, 'designation': 2256, 'developer': 2273, 'nelson': 4711, 'rct': 5556, 'thnq': 6816, 'adrian': 830, 'vatian': 7212, 'daytime': 2168, 'busty': 1571, '09099726429': 252, 'janinexx': 3759, 'pull': 5461, 'chastity': 1737, 'device': 2274, 'beatings': 1276, 'europe': 2635, '10th': 269, '09050000555': 168, 'ba128nnfwfly150ppm': 1186, 'gopalettan': 3177, 'participate': 5057, 'olympics': 4895, '20m12aq': 358, 'above': 762, 'opps': 4935, 'entertaining': 2592, 'hugh': 3508, 'laurie': 4006, 'stick': 6446, 'throwing': 6834, 'needing': 4701, 'calm': 1621, 'reassurance': 5590, 'connections': 1962, 'sday': 5934, 'khelate': 3891, 'kintu': 3911, 'opponenter': 4931, 'dhorte': 2282, 'lage': 3964, '0721072': 27, 'tops': 6942, '45pm': 505, 'witin': 7507, 'northampton': 4792, 'skyving': 6181, 'image': 3580, 'rg21': 5745, '4jx': 523, 'payed': 5088, 'suganya': 6543, 'heat': 3354, 'applyed': 1030, 'enc': 2567, 'creepy': 2067, 'inever': 3630, 'inpersonation': 3650, 'flea': 2862, 'wining': 7483, '946': 730, 'vitamin': 7265, 'crammed': 2047, 'vid': 7238, 'finishd': 2835, 'gumby': 3257, 'cheese': 1759, 'saeed': 5841, 'payasam': 5087, 'rinu': 5764, 'dizzamn': 2357, 'suitemates': 6551, '6times': 607, 'ami': 940, 'parchi': 5046, 'kicchu': 3893, 'kaaj': 3849, 'korte': 3938, 'iccha': 3548, 'korche': 3937, 'tul': 7028, 'wined': 7481, 'dined': 2317, 'cudnt': 2100, 'drove': 2448, 'ctla': 2091, 'ente': 2589, 'ishtamayoo': 3716, 'bakrid': 1210, 'sold': 6263, 'lil': 4087, 'beverage': 1339, 'pist': 5191, 'nhs': 4737, '2b': 385, 'terminated': 6729, 'inconvenience': 3615, '08712402578': 108, 'envy': 2602, '09077818151': 243, 'calls1': 1620, '50ppm': 545, '30s': 436, 'santacalling': 5867, 'jsco': 3825, '2channel': 387, 'leadership': 4022, 'skills': 6172, 'psychic': 5452, 'chile': 1781, 'subletting': 6515, 'a30': 745, 'divert': 2354, 'wadebridge': 7300, 'glorious': 3131, 'anniversary': 973, 'finds': 2830, 'coaxing': 1869, 'images': 3581, 'fond': 2896, 'souveniers': 6320, 'cougar': 2020, 'borderline': 1439, 'snap': 6239, 'quizclub': 5508, '80122300p': 639, 'rwm': 5830, '08704050406': 86, 'ofcourse': 4855, 'river': 5769, 'knock': 3924, 'tkls': 6875, 'stoptxtstop': 6466, 'hearing': 3350, 'breadstick': 1488, 'torrents': 6944, 'particularly': 5059, 'slowing': 6206, 'asda': 1089, 'counts': 2029, 'limited': 4090, '9061100010': 722, 'wire3': 7491, '1st4terms': 339, 'mobcudb': 4514, 'shouting': 6093, 'didntgive': 2298, 'bellearlier': 1317, 'bedbut': 1289, 'thepub': 6789, 'uwana': 7191, 'jenxxx': 3781, '08718738002': 153, '48922': 512, '09058099801': 192, 'b4190604': 1184, '7876150ppm': 624, 'wrongly': 7585, 'gmw': 3135, 'connected': 1960, '69888nyt': 595, '31p': 440, 'shortcode': 6084, '83332': 659, '08081263000': 61, 'refunded': 5633, 'avoid': 1164, 'guides': 3254, 'gained': 3039, 'pressure': 5367, 'limits': 4092, 'board': 1414, 'overheating': 4996, 'reslove': 5707, 'inst': 3656, 'jam': 3752, 'hannaford': 3301, 'wheat': 7430, 'chex': 1769, 'oral': 4944, 'lord': 4177, 'rings': 5760, 'lotr': 4185, 'soundtrack': 6314, 'stdtxtrate': 6436, 'wlcome': 7519}\n"
     ]
    }
   ],
   "source": [
    "print(v.vocabulary_)"
   ]
  },
  {
   "cell_type": "code",
   "execution_count": 55,
   "metadata": {},
   "outputs": [
    {
     "data": {
      "text/plain": [
       "(array([ 258,  354,  694, 1271, 2106, 2568, 2805, 3364, 5687, 5980, 5999,\n",
       "        6460, 6773, 6888, 7396, 7437, 7471, 7474, 7555], dtype=int64),)"
      ]
     },
     "execution_count": 55,
     "metadata": {},
     "output_type": "execute_result"
    }
   ],
   "source": [
    "np.where(x_trainNP[0] != 0)"
   ]
  },
  {
   "cell_type": "code",
   "execution_count": 56,
   "metadata": {},
   "outputs": [],
   "source": [
    "## Now we shall be training our naive bayes model"
   ]
  },
  {
   "cell_type": "code",
   "execution_count": 57,
   "metadata": {},
   "outputs": [
    {
     "data": {
      "text/html": [
       "<style>#sk-container-id-2 {\n",
       "  /* Definition of color scheme common for light and dark mode */\n",
       "  --sklearn-color-text: black;\n",
       "  --sklearn-color-line: gray;\n",
       "  /* Definition of color scheme for unfitted estimators */\n",
       "  --sklearn-color-unfitted-level-0: #fff5e6;\n",
       "  --sklearn-color-unfitted-level-1: #f6e4d2;\n",
       "  --sklearn-color-unfitted-level-2: #ffe0b3;\n",
       "  --sklearn-color-unfitted-level-3: chocolate;\n",
       "  /* Definition of color scheme for fitted estimators */\n",
       "  --sklearn-color-fitted-level-0: #f0f8ff;\n",
       "  --sklearn-color-fitted-level-1: #d4ebff;\n",
       "  --sklearn-color-fitted-level-2: #b3dbfd;\n",
       "  --sklearn-color-fitted-level-3: cornflowerblue;\n",
       "\n",
       "  /* Specific color for light theme */\n",
       "  --sklearn-color-text-on-default-background: var(--sg-text-color, var(--theme-code-foreground, var(--jp-content-font-color1, black)));\n",
       "  --sklearn-color-background: var(--sg-background-color, var(--theme-background, var(--jp-layout-color0, white)));\n",
       "  --sklearn-color-border-box: var(--sg-text-color, var(--theme-code-foreground, var(--jp-content-font-color1, black)));\n",
       "  --sklearn-color-icon: #696969;\n",
       "\n",
       "  @media (prefers-color-scheme: dark) {\n",
       "    /* Redefinition of color scheme for dark theme */\n",
       "    --sklearn-color-text-on-default-background: var(--sg-text-color, var(--theme-code-foreground, var(--jp-content-font-color1, white)));\n",
       "    --sklearn-color-background: var(--sg-background-color, var(--theme-background, var(--jp-layout-color0, #111)));\n",
       "    --sklearn-color-border-box: var(--sg-text-color, var(--theme-code-foreground, var(--jp-content-font-color1, white)));\n",
       "    --sklearn-color-icon: #878787;\n",
       "  }\n",
       "}\n",
       "\n",
       "#sk-container-id-2 {\n",
       "  color: var(--sklearn-color-text);\n",
       "}\n",
       "\n",
       "#sk-container-id-2 pre {\n",
       "  padding: 0;\n",
       "}\n",
       "\n",
       "#sk-container-id-2 input.sk-hidden--visually {\n",
       "  border: 0;\n",
       "  clip: rect(1px 1px 1px 1px);\n",
       "  clip: rect(1px, 1px, 1px, 1px);\n",
       "  height: 1px;\n",
       "  margin: -1px;\n",
       "  overflow: hidden;\n",
       "  padding: 0;\n",
       "  position: absolute;\n",
       "  width: 1px;\n",
       "}\n",
       "\n",
       "#sk-container-id-2 div.sk-dashed-wrapped {\n",
       "  border: 1px dashed var(--sklearn-color-line);\n",
       "  margin: 0 0.4em 0.5em 0.4em;\n",
       "  box-sizing: border-box;\n",
       "  padding-bottom: 0.4em;\n",
       "  background-color: var(--sklearn-color-background);\n",
       "}\n",
       "\n",
       "#sk-container-id-2 div.sk-container {\n",
       "  /* jupyter's `normalize.less` sets `[hidden] { display: none; }`\n",
       "     but bootstrap.min.css set `[hidden] { display: none !important; }`\n",
       "     so we also need the `!important` here to be able to override the\n",
       "     default hidden behavior on the sphinx rendered scikit-learn.org.\n",
       "     See: https://github.com/scikit-learn/scikit-learn/issues/21755 */\n",
       "  display: inline-block !important;\n",
       "  position: relative;\n",
       "}\n",
       "\n",
       "#sk-container-id-2 div.sk-text-repr-fallback {\n",
       "  display: none;\n",
       "}\n",
       "\n",
       "div.sk-parallel-item,\n",
       "div.sk-serial,\n",
       "div.sk-item {\n",
       "  /* draw centered vertical line to link estimators */\n",
       "  background-image: linear-gradient(var(--sklearn-color-text-on-default-background), var(--sklearn-color-text-on-default-background));\n",
       "  background-size: 2px 100%;\n",
       "  background-repeat: no-repeat;\n",
       "  background-position: center center;\n",
       "}\n",
       "\n",
       "/* Parallel-specific style estimator block */\n",
       "\n",
       "#sk-container-id-2 div.sk-parallel-item::after {\n",
       "  content: \"\";\n",
       "  width: 100%;\n",
       "  border-bottom: 2px solid var(--sklearn-color-text-on-default-background);\n",
       "  flex-grow: 1;\n",
       "}\n",
       "\n",
       "#sk-container-id-2 div.sk-parallel {\n",
       "  display: flex;\n",
       "  align-items: stretch;\n",
       "  justify-content: center;\n",
       "  background-color: var(--sklearn-color-background);\n",
       "  position: relative;\n",
       "}\n",
       "\n",
       "#sk-container-id-2 div.sk-parallel-item {\n",
       "  display: flex;\n",
       "  flex-direction: column;\n",
       "}\n",
       "\n",
       "#sk-container-id-2 div.sk-parallel-item:first-child::after {\n",
       "  align-self: flex-end;\n",
       "  width: 50%;\n",
       "}\n",
       "\n",
       "#sk-container-id-2 div.sk-parallel-item:last-child::after {\n",
       "  align-self: flex-start;\n",
       "  width: 50%;\n",
       "}\n",
       "\n",
       "#sk-container-id-2 div.sk-parallel-item:only-child::after {\n",
       "  width: 0;\n",
       "}\n",
       "\n",
       "/* Serial-specific style estimator block */\n",
       "\n",
       "#sk-container-id-2 div.sk-serial {\n",
       "  display: flex;\n",
       "  flex-direction: column;\n",
       "  align-items: center;\n",
       "  background-color: var(--sklearn-color-background);\n",
       "  padding-right: 1em;\n",
       "  padding-left: 1em;\n",
       "}\n",
       "\n",
       "\n",
       "/* Toggleable style: style used for estimator/Pipeline/ColumnTransformer box that is\n",
       "clickable and can be expanded/collapsed.\n",
       "- Pipeline and ColumnTransformer use this feature and define the default style\n",
       "- Estimators will overwrite some part of the style using the `sk-estimator` class\n",
       "*/\n",
       "\n",
       "/* Pipeline and ColumnTransformer style (default) */\n",
       "\n",
       "#sk-container-id-2 div.sk-toggleable {\n",
       "  /* Default theme specific background. It is overwritten whether we have a\n",
       "  specific estimator or a Pipeline/ColumnTransformer */\n",
       "  background-color: var(--sklearn-color-background);\n",
       "}\n",
       "\n",
       "/* Toggleable label */\n",
       "#sk-container-id-2 label.sk-toggleable__label {\n",
       "  cursor: pointer;\n",
       "  display: block;\n",
       "  width: 100%;\n",
       "  margin-bottom: 0;\n",
       "  padding: 0.5em;\n",
       "  box-sizing: border-box;\n",
       "  text-align: center;\n",
       "}\n",
       "\n",
       "#sk-container-id-2 label.sk-toggleable__label-arrow:before {\n",
       "  /* Arrow on the left of the label */\n",
       "  content: \"▸\";\n",
       "  float: left;\n",
       "  margin-right: 0.25em;\n",
       "  color: var(--sklearn-color-icon);\n",
       "}\n",
       "\n",
       "#sk-container-id-2 label.sk-toggleable__label-arrow:hover:before {\n",
       "  color: var(--sklearn-color-text);\n",
       "}\n",
       "\n",
       "/* Toggleable content - dropdown */\n",
       "\n",
       "#sk-container-id-2 div.sk-toggleable__content {\n",
       "  max-height: 0;\n",
       "  max-width: 0;\n",
       "  overflow: hidden;\n",
       "  text-align: left;\n",
       "  /* unfitted */\n",
       "  background-color: var(--sklearn-color-unfitted-level-0);\n",
       "}\n",
       "\n",
       "#sk-container-id-2 div.sk-toggleable__content.fitted {\n",
       "  /* fitted */\n",
       "  background-color: var(--sklearn-color-fitted-level-0);\n",
       "}\n",
       "\n",
       "#sk-container-id-2 div.sk-toggleable__content pre {\n",
       "  margin: 0.2em;\n",
       "  border-radius: 0.25em;\n",
       "  color: var(--sklearn-color-text);\n",
       "  /* unfitted */\n",
       "  background-color: var(--sklearn-color-unfitted-level-0);\n",
       "}\n",
       "\n",
       "#sk-container-id-2 div.sk-toggleable__content.fitted pre {\n",
       "  /* unfitted */\n",
       "  background-color: var(--sklearn-color-fitted-level-0);\n",
       "}\n",
       "\n",
       "#sk-container-id-2 input.sk-toggleable__control:checked~div.sk-toggleable__content {\n",
       "  /* Expand drop-down */\n",
       "  max-height: 200px;\n",
       "  max-width: 100%;\n",
       "  overflow: auto;\n",
       "}\n",
       "\n",
       "#sk-container-id-2 input.sk-toggleable__control:checked~label.sk-toggleable__label-arrow:before {\n",
       "  content: \"▾\";\n",
       "}\n",
       "\n",
       "/* Pipeline/ColumnTransformer-specific style */\n",
       "\n",
       "#sk-container-id-2 div.sk-label input.sk-toggleable__control:checked~label.sk-toggleable__label {\n",
       "  color: var(--sklearn-color-text);\n",
       "  background-color: var(--sklearn-color-unfitted-level-2);\n",
       "}\n",
       "\n",
       "#sk-container-id-2 div.sk-label.fitted input.sk-toggleable__control:checked~label.sk-toggleable__label {\n",
       "  background-color: var(--sklearn-color-fitted-level-2);\n",
       "}\n",
       "\n",
       "/* Estimator-specific style */\n",
       "\n",
       "/* Colorize estimator box */\n",
       "#sk-container-id-2 div.sk-estimator input.sk-toggleable__control:checked~label.sk-toggleable__label {\n",
       "  /* unfitted */\n",
       "  background-color: var(--sklearn-color-unfitted-level-2);\n",
       "}\n",
       "\n",
       "#sk-container-id-2 div.sk-estimator.fitted input.sk-toggleable__control:checked~label.sk-toggleable__label {\n",
       "  /* fitted */\n",
       "  background-color: var(--sklearn-color-fitted-level-2);\n",
       "}\n",
       "\n",
       "#sk-container-id-2 div.sk-label label.sk-toggleable__label,\n",
       "#sk-container-id-2 div.sk-label label {\n",
       "  /* The background is the default theme color */\n",
       "  color: var(--sklearn-color-text-on-default-background);\n",
       "}\n",
       "\n",
       "/* On hover, darken the color of the background */\n",
       "#sk-container-id-2 div.sk-label:hover label.sk-toggleable__label {\n",
       "  color: var(--sklearn-color-text);\n",
       "  background-color: var(--sklearn-color-unfitted-level-2);\n",
       "}\n",
       "\n",
       "/* Label box, darken color on hover, fitted */\n",
       "#sk-container-id-2 div.sk-label.fitted:hover label.sk-toggleable__label.fitted {\n",
       "  color: var(--sklearn-color-text);\n",
       "  background-color: var(--sklearn-color-fitted-level-2);\n",
       "}\n",
       "\n",
       "/* Estimator label */\n",
       "\n",
       "#sk-container-id-2 div.sk-label label {\n",
       "  font-family: monospace;\n",
       "  font-weight: bold;\n",
       "  display: inline-block;\n",
       "  line-height: 1.2em;\n",
       "}\n",
       "\n",
       "#sk-container-id-2 div.sk-label-container {\n",
       "  text-align: center;\n",
       "}\n",
       "\n",
       "/* Estimator-specific */\n",
       "#sk-container-id-2 div.sk-estimator {\n",
       "  font-family: monospace;\n",
       "  border: 1px dotted var(--sklearn-color-border-box);\n",
       "  border-radius: 0.25em;\n",
       "  box-sizing: border-box;\n",
       "  margin-bottom: 0.5em;\n",
       "  /* unfitted */\n",
       "  background-color: var(--sklearn-color-unfitted-level-0);\n",
       "}\n",
       "\n",
       "#sk-container-id-2 div.sk-estimator.fitted {\n",
       "  /* fitted */\n",
       "  background-color: var(--sklearn-color-fitted-level-0);\n",
       "}\n",
       "\n",
       "/* on hover */\n",
       "#sk-container-id-2 div.sk-estimator:hover {\n",
       "  /* unfitted */\n",
       "  background-color: var(--sklearn-color-unfitted-level-2);\n",
       "}\n",
       "\n",
       "#sk-container-id-2 div.sk-estimator.fitted:hover {\n",
       "  /* fitted */\n",
       "  background-color: var(--sklearn-color-fitted-level-2);\n",
       "}\n",
       "\n",
       "/* Specification for estimator info (e.g. \"i\" and \"?\") */\n",
       "\n",
       "/* Common style for \"i\" and \"?\" */\n",
       "\n",
       ".sk-estimator-doc-link,\n",
       "a:link.sk-estimator-doc-link,\n",
       "a:visited.sk-estimator-doc-link {\n",
       "  float: right;\n",
       "  font-size: smaller;\n",
       "  line-height: 1em;\n",
       "  font-family: monospace;\n",
       "  background-color: var(--sklearn-color-background);\n",
       "  border-radius: 1em;\n",
       "  height: 1em;\n",
       "  width: 1em;\n",
       "  text-decoration: none !important;\n",
       "  margin-left: 1ex;\n",
       "  /* unfitted */\n",
       "  border: var(--sklearn-color-unfitted-level-1) 1pt solid;\n",
       "  color: var(--sklearn-color-unfitted-level-1);\n",
       "}\n",
       "\n",
       ".sk-estimator-doc-link.fitted,\n",
       "a:link.sk-estimator-doc-link.fitted,\n",
       "a:visited.sk-estimator-doc-link.fitted {\n",
       "  /* fitted */\n",
       "  border: var(--sklearn-color-fitted-level-1) 1pt solid;\n",
       "  color: var(--sklearn-color-fitted-level-1);\n",
       "}\n",
       "\n",
       "/* On hover */\n",
       "div.sk-estimator:hover .sk-estimator-doc-link:hover,\n",
       ".sk-estimator-doc-link:hover,\n",
       "div.sk-label-container:hover .sk-estimator-doc-link:hover,\n",
       ".sk-estimator-doc-link:hover {\n",
       "  /* unfitted */\n",
       "  background-color: var(--sklearn-color-unfitted-level-3);\n",
       "  color: var(--sklearn-color-background);\n",
       "  text-decoration: none;\n",
       "}\n",
       "\n",
       "div.sk-estimator.fitted:hover .sk-estimator-doc-link.fitted:hover,\n",
       ".sk-estimator-doc-link.fitted:hover,\n",
       "div.sk-label-container:hover .sk-estimator-doc-link.fitted:hover,\n",
       ".sk-estimator-doc-link.fitted:hover {\n",
       "  /* fitted */\n",
       "  background-color: var(--sklearn-color-fitted-level-3);\n",
       "  color: var(--sklearn-color-background);\n",
       "  text-decoration: none;\n",
       "}\n",
       "\n",
       "/* Span, style for the box shown on hovering the info icon */\n",
       ".sk-estimator-doc-link span {\n",
       "  display: none;\n",
       "  z-index: 9999;\n",
       "  position: relative;\n",
       "  font-weight: normal;\n",
       "  right: .2ex;\n",
       "  padding: .5ex;\n",
       "  margin: .5ex;\n",
       "  width: min-content;\n",
       "  min-width: 20ex;\n",
       "  max-width: 50ex;\n",
       "  color: var(--sklearn-color-text);\n",
       "  box-shadow: 2pt 2pt 4pt #999;\n",
       "  /* unfitted */\n",
       "  background: var(--sklearn-color-unfitted-level-0);\n",
       "  border: .5pt solid var(--sklearn-color-unfitted-level-3);\n",
       "}\n",
       "\n",
       ".sk-estimator-doc-link.fitted span {\n",
       "  /* fitted */\n",
       "  background: var(--sklearn-color-fitted-level-0);\n",
       "  border: var(--sklearn-color-fitted-level-3);\n",
       "}\n",
       "\n",
       ".sk-estimator-doc-link:hover span {\n",
       "  display: block;\n",
       "}\n",
       "\n",
       "/* \"?\"-specific style due to the `<a>` HTML tag */\n",
       "\n",
       "#sk-container-id-2 a.estimator_doc_link {\n",
       "  float: right;\n",
       "  font-size: 1rem;\n",
       "  line-height: 1em;\n",
       "  font-family: monospace;\n",
       "  background-color: var(--sklearn-color-background);\n",
       "  border-radius: 1rem;\n",
       "  height: 1rem;\n",
       "  width: 1rem;\n",
       "  text-decoration: none;\n",
       "  /* unfitted */\n",
       "  color: var(--sklearn-color-unfitted-level-1);\n",
       "  border: var(--sklearn-color-unfitted-level-1) 1pt solid;\n",
       "}\n",
       "\n",
       "#sk-container-id-2 a.estimator_doc_link.fitted {\n",
       "  /* fitted */\n",
       "  border: var(--sklearn-color-fitted-level-1) 1pt solid;\n",
       "  color: var(--sklearn-color-fitted-level-1);\n",
       "}\n",
       "\n",
       "/* On hover */\n",
       "#sk-container-id-2 a.estimator_doc_link:hover {\n",
       "  /* unfitted */\n",
       "  background-color: var(--sklearn-color-unfitted-level-3);\n",
       "  color: var(--sklearn-color-background);\n",
       "  text-decoration: none;\n",
       "}\n",
       "\n",
       "#sk-container-id-2 a.estimator_doc_link.fitted:hover {\n",
       "  /* fitted */\n",
       "  background-color: var(--sklearn-color-fitted-level-3);\n",
       "}\n",
       "</style><div id=\"sk-container-id-2\" class=\"sk-top-container\"><div class=\"sk-text-repr-fallback\"><pre>MultinomialNB()</pre><b>In a Jupyter environment, please rerun this cell to show the HTML representation or trust the notebook. <br />On GitHub, the HTML representation is unable to render, please try loading this page with nbviewer.org.</b></div><div class=\"sk-container\" hidden><div class=\"sk-item\"><div class=\"sk-estimator fitted sk-toggleable\"><input class=\"sk-toggleable__control sk-hidden--visually\" id=\"sk-estimator-id-2\" type=\"checkbox\" checked><label for=\"sk-estimator-id-2\" class=\"sk-toggleable__label fitted sk-toggleable__label-arrow fitted\">&nbsp;&nbsp;MultinomialNB<a class=\"sk-estimator-doc-link fitted\" rel=\"noreferrer\" target=\"_blank\" href=\"https://scikit-learn.org/1.4/modules/generated/sklearn.naive_bayes.MultinomialNB.html\">?<span>Documentation for MultinomialNB</span></a><span class=\"sk-estimator-doc-link fitted\">i<span>Fitted</span></span></label><div class=\"sk-toggleable__content fitted\"><pre>MultinomialNB()</pre></div> </div></div></div></div>"
      ],
      "text/plain": [
       "MultinomialNB()"
      ]
     },
     "execution_count": 57,
     "metadata": {},
     "output_type": "execute_result"
    }
   ],
   "source": [
    "from sklearn.naive_bayes import MultinomialNB\n",
    "\n",
    "model = MultinomialNB()\n",
    "model.fit(x_trainCV, y_train)"
   ]
  },
  {
   "cell_type": "code",
   "execution_count": 58,
   "metadata": {},
   "outputs": [],
   "source": [
    "prediction = model.predict(x_testCV)"
   ]
  },
  {
   "cell_type": "code",
   "execution_count": 59,
   "metadata": {},
   "outputs": [
    {
     "name": "stdout",
     "output_type": "stream",
     "text": [
      "The Accuracy is:  0.9919282511210762\n"
     ]
    }
   ],
   "source": [
    "from sklearn.metrics import classification_report, accuracy_score, confusion_matrix\n",
    "\n",
    "print(\"The Accuracy is: \", accuracy_score(y_test, prediction))"
   ]
  },
  {
   "cell_type": "code",
   "execution_count": 60,
   "metadata": {},
   "outputs": [
    {
     "name": "stdout",
     "output_type": "stream",
     "text": [
      "The classification report for this naive bayes model is: \n",
      "               precision    recall  f1-score   support\n",
      "\n",
      "           0       0.99      1.00      1.00       966\n",
      "           1       1.00      0.94      0.97       149\n",
      "\n",
      "    accuracy                           0.99      1115\n",
      "   macro avg       1.00      0.97      0.98      1115\n",
      "weighted avg       0.99      0.99      0.99      1115\n",
      "\n"
     ]
    }
   ],
   "source": [
    "print(\"The classification report for this naive bayes model is: \\n\", classification_report(y_test, prediction))"
   ]
  },
  {
   "cell_type": "code",
   "execution_count": 61,
   "metadata": {},
   "outputs": [
    {
     "name": "stdout",
     "output_type": "stream",
     "text": [
      "The confusion matrix for this is: \n",
      " [[966   0]\n",
      " [  9 140]]\n"
     ]
    }
   ],
   "source": [
    "print(\"The confusion matrix for this is: \\n\", confusion_matrix(y_test, prediction))"
   ]
  },
  {
   "cell_type": "code",
   "execution_count": 71,
   "metadata": {},
   "outputs": [
    {
     "data": {
      "text/plain": [
       "array([0, 1], dtype=int64)"
      ]
     },
     "execution_count": 71,
     "metadata": {},
     "output_type": "execute_result"
    }
   ],
   "source": [
    "emails = [\n",
    "    'Hey mohan, can we get together to watch footbal game tomorrow?',\n",
    "    'Upto 20 percent discount on parking, exclusive offer just for you. Dont miss this reward!',\n",
    "]\n",
    "emails_count = v.transform(emails)\n",
    "model.predict(emails_count)"
   ]
  },
  {
   "cell_type": "code",
   "execution_count": null,
   "metadata": {},
   "outputs": [],
   "source": []
  }
 ],
 "metadata": {
  "kernelspec": {
   "display_name": "Python 3",
   "language": "python",
   "name": "python3"
  },
  "language_info": {
   "codemirror_mode": {
    "name": "ipython",
    "version": 3
   },
   "file_extension": ".py",
   "mimetype": "text/x-python",
   "name": "python",
   "nbconvert_exporter": "python",
   "pygments_lexer": "ipython3",
   "version": "3.9.2rc1"
  }
 },
 "nbformat": 4,
 "nbformat_minor": 2
}
