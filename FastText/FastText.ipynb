{
 "cells": [
  {
   "cell_type": "code",
   "execution_count": 1,
   "metadata": {},
   "outputs": [
    {
     "name": "stderr",
     "output_type": "stream",
     "text": [
      "C:\\Users\\abhinav.aggarwal\\AppData\\Local\\Temp\\ipykernel_17632\\4062846399.py:3: DeprecationWarning: \n",
      "Pyarrow will become a required dependency of pandas in the next major release of pandas (pandas 3.0),\n",
      "(to allow more performant data types, such as the Arrow string type, and better interoperability with other libraries)\n",
      "but was not found to be installed on your system.\n",
      "If this would cause problems for you,\n",
      "please provide us feedback at https://github.com/pandas-dev/pandas/issues/54466\n",
      "        \n",
      "  import pandas as pd\n"
     ]
    }
   ],
   "source": [
    "import fasttext\n",
    "import numpy as np \n",
    "import pandas as pd"
   ]
  },
  {
   "cell_type": "code",
   "execution_count": null,
   "metadata": {},
   "outputs": [
    {
     "name": "stderr",
     "output_type": "stream",
     "text": [
      "Warning : `load_model` does not return WordVectorModel or SupervisedModel any more, but a `FastText` object which is very similar.\n"
     ]
    }
   ],
   "source": [
    "model_en = fasttext.load_model(\"D:\\\\Abhinav\\\\0FastText\\\\cc.en.300.bin\")"
   ]
  },
  {
   "cell_type": "code",
   "execution_count": null,
   "metadata": {},
   "outputs": [
    {
     "data": {
      "text/plain": [
       "[(0.7517593502998352, 'bad'),\n",
       " (0.7426098585128784, 'great'),\n",
       " (0.7299689054489136, 'decent'),\n",
       " (0.7123614549636841, 'nice'),\n",
       " (0.6796907186508179, 'Good'),\n",
       " (0.6737031936645508, 'excellent'),\n",
       " (0.669592022895813, 'goood'),\n",
       " (0.6602178812026978, 'ggod'),\n",
       " (0.6479219794273376, 'semi-good'),\n",
       " (0.6417751908302307, 'good.Good')]"
      ]
     },
     "execution_count": 3,
     "metadata": {},
     "output_type": "execute_result"
    }
   ],
   "source": [
    "model_en.get_nearest_neighbors(\"good\")"
   ]
  },
  {
   "cell_type": "code",
   "execution_count": null,
   "metadata": {},
   "outputs": [
    {
     "data": {
      "text/plain": [
       "array([-3.40000317e-02,  2.62233615e-02, -8.45608115e-02,  1.33211508e-01,\n",
       "        3.45896743e-02,  5.96102141e-02,  1.67065740e-01,  5.02214357e-02,\n",
       "        7.40520209e-02, -1.81369092e-02, -1.21006534e-01, -7.69907087e-02,\n",
       "        5.33584766e-02,  3.01079676e-02, -7.98598379e-02,  1.37059048e-01,\n",
       "       -7.58284032e-02,  7.06156865e-02, -1.15044110e-01,  8.88860226e-03,\n",
       "        1.07601389e-01,  1.08965293e-01, -1.83950394e-01,  7.37357419e-03,\n",
       "       -7.04888254e-02, -3.83751020e-02,  2.39846885e-01, -7.22047687e-02,\n",
       "        5.01522236e-02,  2.13155657e-01,  3.04845385e-02,  1.92998558e-01,\n",
       "       -1.16936211e-02, -8.09530020e-02,  9.85689089e-02, -1.25871092e-01,\n",
       "       -9.13329050e-02,  1.51397467e-01, -2.65981667e-02, -1.88718200e-01,\n",
       "       -1.69896245e-01,  1.52554736e-03,  1.25884160e-01,  1.01987287e-01,\n",
       "       -1.37047142e-01,  6.12826496e-02,  4.01559733e-02, -1.51150543e-02,\n",
       "        3.76351215e-02, -8.16103667e-02,  2.04905006e-03, -5.58851063e-02,\n",
       "        1.13868788e-01,  4.45136940e-03, -1.68231949e-01, -8.90622139e-02,\n",
       "       -6.69688657e-02, -1.11568764e-01, -1.66949928e-01, -1.39068201e-01,\n",
       "       -1.76462308e-02, -4.92667556e-02,  1.54283154e-03,  1.87487360e-02,\n",
       "       -1.75981373e-02,  4.85234484e-02, -5.96200824e-02,  7.00600818e-02,\n",
       "       -3.50676849e-02,  2.76727378e-02,  2.81607121e-04, -3.55291627e-02,\n",
       "       -4.03178744e-02, -4.00148742e-02, -1.19371340e-02,  1.55625328e-01,\n",
       "       -1.13546774e-02, -6.45760596e-02, -6.04579747e-02, -8.96552503e-02,\n",
       "        1.32588416e-01,  1.77205145e-01,  2.62840986e-02, -3.16996947e-02,\n",
       "       -4.70165126e-02,  5.26835993e-02, -1.52313365e-02,  2.45750062e-02,\n",
       "       -1.34302348e-01,  5.67845628e-03, -1.66658945e-02, -1.47971705e-01,\n",
       "        2.40736157e-02, -2.10715979e-02,  4.47465330e-02,  1.08601414e-01,\n",
       "        3.14477235e-02,  1.51748329e-01, -7.47191859e-03,  1.65653512e-01,\n",
       "       -4.91339639e-02, -8.17727000e-02, -4.40484844e-02, -3.81100886e-02,\n",
       "        6.61767051e-02, -2.30003893e-03, -1.63483024e-01, -3.94047052e-02,\n",
       "       -3.31849724e-01, -1.30450249e-01,  3.57508659e-04,  9.33221132e-02,\n",
       "       -1.44245386e-01,  5.66188954e-02,  5.92698269e-02, -1.42499745e-01,\n",
       "       -6.20328896e-02,  2.21338004e-01,  9.26669687e-02, -2.36382391e-02,\n",
       "        2.53816806e-02, -1.46002248e-01, -1.38727739e-01,  1.59179717e-01,\n",
       "       -4.54014800e-02,  1.53574213e-01,  5.76842502e-02,  8.08438212e-02,\n",
       "        2.71648228e-01, -7.02151954e-02,  1.55253131e-02, -3.46649550e-02,\n",
       "       -3.04005519e-02, -5.52296340e-02,  4.83841961e-03,  5.63460588e-02,\n",
       "        1.01047896e-01, -4.70121019e-02, -1.29474670e-01, -2.73492754e-01,\n",
       "       -4.94069383e-02, -1.95209086e-01,  4.60590646e-02, -3.84201631e-02,\n",
       "       -1.42277807e-01, -1.14363939e-01, -1.95793211e-01,  4.77872603e-02,\n",
       "        9.59578082e-02, -5.69132715e-02, -7.47416764e-02,  9.65163708e-02,\n",
       "       -3.76106054e-02,  1.53633878e-02, -1.02072649e-01, -9.45957303e-02,\n",
       "        8.07181969e-02,  3.25710289e-02, -2.80111935e-02,  1.32995136e-02,\n",
       "        1.02314383e-01,  1.38769776e-01,  1.51483074e-01, -1.57435969e-01,\n",
       "        1.36927277e-01, -1.32450402e-01, -6.49878904e-02, -1.12450063e-01,\n",
       "        1.12872384e-01, -1.28667846e-01, -5.75181246e-02,  1.35916278e-01,\n",
       "        7.00999498e-02, -1.27271220e-01, -1.22861445e-01, -2.47766316e-01,\n",
       "       -1.33890342e-02,  2.68814471e-02,  1.42627791e-01,  5.18938228e-02,\n",
       "        6.98736981e-02, -6.56151623e-02,  3.53911035e-02, -1.54230088e-01,\n",
       "        1.30658150e-02, -8.71157795e-02,  1.02490529e-01, -3.52080315e-02,\n",
       "        1.38560265e-01, -1.18601859e-01,  3.24061029e-02, -4.41904031e-02,\n",
       "       -7.95396417e-03, -1.81254059e-01,  4.62791324e-03, -8.61067697e-02,\n",
       "       -3.73766348e-02, -4.75990027e-02, -1.55890025e-02, -6.62540570e-02,\n",
       "        1.10714808e-01,  1.37502905e-02, -3.35684456e-02, -5.12855640e-03,\n",
       "       -9.51951370e-02,  8.32656249e-02, -9.07358062e-03,  5.43988347e-02,\n",
       "        9.39465165e-02,  7.67076761e-02, -7.37691522e-02,  2.05441803e-01,\n",
       "        1.41631570e-02, -2.34907568e-02,  1.11692427e-02,  1.14279613e-03,\n",
       "       -2.57748514e-02, -1.11828111e-01,  2.60682311e-02,  3.22622620e-02,\n",
       "       -1.08624958e-01, -1.55979274e-02,  7.16186538e-02,  7.58543834e-02,\n",
       "        3.91708128e-02, -7.04622567e-02, -6.00962620e-03,  1.25250518e-01,\n",
       "       -4.74592298e-02, -1.84199780e-01, -1.03265550e-02, -4.71931696e-03,\n",
       "        1.94159411e-02,  2.05801114e-01, -2.17567086e-02, -6.22522160e-02,\n",
       "        1.06216542e-01,  7.08835274e-02, -9.34870914e-04, -1.19642746e-02,\n",
       "        3.77804004e-02,  2.45734304e-02, -1.19729176e-01, -9.71120596e-02,\n",
       "        1.01499304e-01,  8.22968408e-03,  1.54765723e-02,  1.91205472e-01,\n",
       "       -1.84535891e-01,  4.52763438e-02,  5.03862612e-02,  2.97425762e-02,\n",
       "       -1.93904877e-01,  5.79589307e-02,  5.69933653e-02, -2.09558364e-02,\n",
       "       -1.37677729e-01, -4.98745814e-02, -6.83178306e-02,  8.47181380e-02,\n",
       "       -3.86357978e-02, -1.01328520e-02, -3.95564269e-03, -2.46678181e-02,\n",
       "       -1.13902323e-01, -8.09377283e-02,  2.12828100e-01, -2.01153994e-01,\n",
       "       -2.83137406e-03, -1.70704201e-02,  1.62043551e-03,  7.03432187e-02,\n",
       "       -7.53018558e-02,  1.25654284e-02,  7.27637634e-02,  4.33715656e-02,\n",
       "       -1.15666077e-01, -5.93623787e-04,  4.57273722e-02,  7.56816100e-03,\n",
       "        1.18473850e-01, -6.00348860e-02, -1.11487672e-01, -8.33582282e-02,\n",
       "       -9.45558399e-02, -2.34644376e-02,  1.11333421e-02, -1.32670552e-01,\n",
       "       -3.61528210e-02,  7.76757300e-02, -7.12183565e-02, -1.51152790e-01,\n",
       "       -9.26839039e-02, -1.00833885e-01,  1.39262993e-02,  1.74454898e-01,\n",
       "       -8.17547739e-02,  1.91316724e-01,  6.07368629e-03, -8.31410289e-02],\n",
       "      dtype=float32)"
      ]
     },
     "execution_count": 4,
     "metadata": {},
     "output_type": "execute_result"
    }
   ],
   "source": [
    "model_en.get_word_vector(\"cake\")"
   ]
  },
  {
   "cell_type": "code",
   "execution_count": null,
   "metadata": {},
   "outputs": [
    {
     "data": {
      "text/plain": [
       "[(0.6669325232505798, 'mumbai'),\n",
       " (0.6563901901245117, 'jaipur'),\n",
       " (0.6506325602531433, 'Delhi.'),\n",
       " (0.6465528607368469, 'gurgaon'),\n",
       " (0.6420154571533203, 'lucknow'),\n",
       " (0.6405102610588074, 'delhi.'),\n",
       " (0.63736891746521, 'chandigarh'),\n",
       " (0.6344822645187378, 'noida'),\n",
       " (0.6162404417991638, 'kolkata'),\n",
       " (0.6158050894737244, 'ghaziabad')]"
      ]
     },
     "execution_count": 5,
     "metadata": {},
     "output_type": "execute_result"
    }
   ],
   "source": [
    "model_en.get_analogies(\"berlin\", \"germany\", \"delhi\")\n",
    "## get_analogy brings out analogy from the given earlier words and then give the best analogy that it may refer to"
   ]
  },
  {
   "cell_type": "code",
   "execution_count": null,
   "metadata": {},
   "outputs": [
    {
     "data": {
      "text/plain": [
       "[(0.7626504302024841, 'milk.The'),\n",
       " (0.7596613168716431, 'milk.A'),\n",
       " (0.7522066831588745, 'milk.')]"
      ]
     },
     "execution_count": 6,
     "metadata": {},
     "output_type": "execute_result"
    }
   ],
   "source": [
    "model_en.get_nearest_neighbors(\"milk\", k = 3)"
   ]
  },
  {
   "cell_type": "code",
   "execution_count": 2,
   "metadata": {},
   "outputs": [],
   "source": [
    "df = pd.read_csv('Cleaned_Indian_Food_Dataset.csv')"
   ]
  },
  {
   "cell_type": "code",
   "execution_count": 3,
   "metadata": {},
   "outputs": [
    {
     "data": {
      "text/html": [
       "<div>\n",
       "<style scoped>\n",
       "    .dataframe tbody tr th:only-of-type {\n",
       "        vertical-align: middle;\n",
       "    }\n",
       "\n",
       "    .dataframe tbody tr th {\n",
       "        vertical-align: top;\n",
       "    }\n",
       "\n",
       "    .dataframe thead th {\n",
       "        text-align: right;\n",
       "    }\n",
       "</style>\n",
       "<table border=\"1\" class=\"dataframe\">\n",
       "  <thead>\n",
       "    <tr style=\"text-align: right;\">\n",
       "      <th></th>\n",
       "      <th>TranslatedRecipeName</th>\n",
       "      <th>TranslatedIngredients</th>\n",
       "      <th>TotalTimeInMins</th>\n",
       "      <th>Cuisine</th>\n",
       "      <th>TranslatedInstructions</th>\n",
       "      <th>URL</th>\n",
       "      <th>Cleaned-Ingredients</th>\n",
       "      <th>image-url</th>\n",
       "      <th>Ingredient-count</th>\n",
       "    </tr>\n",
       "  </thead>\n",
       "  <tbody>\n",
       "    <tr>\n",
       "      <th>0</th>\n",
       "      <td>Masala Karela Recipe</td>\n",
       "      <td>1 tablespoon Red Chilli powder,3 tablespoon Gr...</td>\n",
       "      <td>45</td>\n",
       "      <td>Indian</td>\n",
       "      <td>To begin making the Masala Karela Recipe,de-se...</td>\n",
       "      <td>https://www.archanaskitchen.com/masala-karela-...</td>\n",
       "      <td>salt,amchur (dry mango powder),karela (bitter ...</td>\n",
       "      <td>https://www.archanaskitchen.com/images/archana...</td>\n",
       "      <td>10</td>\n",
       "    </tr>\n",
       "    <tr>\n",
       "      <th>1</th>\n",
       "      <td>Spicy Tomato Rice (Recipe)</td>\n",
       "      <td>2 teaspoon cashew - or peanuts, 1/2 Teaspoon ...</td>\n",
       "      <td>15</td>\n",
       "      <td>South Indian Recipes</td>\n",
       "      <td>To make tomato puliogere, first cut the tomato...</td>\n",
       "      <td>https://www.archanaskitchen.com/spicy-tomato-r...</td>\n",
       "      <td>tomato,salt,chickpea lentils,green chilli,rice...</td>\n",
       "      <td>https://www.archanaskitchen.com/images/archana...</td>\n",
       "      <td>12</td>\n",
       "    </tr>\n",
       "    <tr>\n",
       "      <th>2</th>\n",
       "      <td>Ragi Semiya Upma Recipe - Ragi Millet Vermicel...</td>\n",
       "      <td>1 Onion - sliced,1 teaspoon White Urad Dal (Sp...</td>\n",
       "      <td>50</td>\n",
       "      <td>South Indian Recipes</td>\n",
       "      <td>To begin making the Ragi Vermicelli Recipe, fi...</td>\n",
       "      <td>https://www.archanaskitchen.com/ragi-vermicell...</td>\n",
       "      <td>salt,rice vermicelli noodles (thin),asafoetida...</td>\n",
       "      <td>https://www.archanaskitchen.com/images/archana...</td>\n",
       "      <td>12</td>\n",
       "    </tr>\n",
       "    <tr>\n",
       "      <th>3</th>\n",
       "      <td>Gongura Chicken Curry Recipe - Andhra Style Go...</td>\n",
       "      <td>1/2 teaspoon Turmeric powder (Haldi),1 tablesp...</td>\n",
       "      <td>45</td>\n",
       "      <td>Andhra</td>\n",
       "      <td>To begin making Gongura Chicken Curry Recipe f...</td>\n",
       "      <td>https://www.archanaskitchen.com/gongura-chicke...</td>\n",
       "      <td>tomato,salt,ginger,sorrel leaves (gongura),fen...</td>\n",
       "      <td>https://www.archanaskitchen.com/images/archana...</td>\n",
       "      <td>15</td>\n",
       "    </tr>\n",
       "    <tr>\n",
       "      <th>4</th>\n",
       "      <td>Andhra Style Alam Pachadi Recipe - Adrak Chutn...</td>\n",
       "      <td>oil - as per use, 1 tablespoon coriander seed...</td>\n",
       "      <td>30</td>\n",
       "      <td>Andhra</td>\n",
       "      <td>To make Andhra Style Alam Pachadi, first heat ...</td>\n",
       "      <td>https://www.archanaskitchen.com/andhra-style-a...</td>\n",
       "      <td>tomato,salt,ginger,red chillies,curry,asafoeti...</td>\n",
       "      <td>https://www.archanaskitchen.com/images/archana...</td>\n",
       "      <td>12</td>\n",
       "    </tr>\n",
       "  </tbody>\n",
       "</table>\n",
       "</div>"
      ],
      "text/plain": [
       "                                TranslatedRecipeName  \\\n",
       "0                               Masala Karela Recipe   \n",
       "1                         Spicy Tomato Rice (Recipe)   \n",
       "2  Ragi Semiya Upma Recipe - Ragi Millet Vermicel...   \n",
       "3  Gongura Chicken Curry Recipe - Andhra Style Go...   \n",
       "4  Andhra Style Alam Pachadi Recipe - Adrak Chutn...   \n",
       "\n",
       "                               TranslatedIngredients  TotalTimeInMins  \\\n",
       "0  1 tablespoon Red Chilli powder,3 tablespoon Gr...               45   \n",
       "1   2 teaspoon cashew - or peanuts, 1/2 Teaspoon ...               15   \n",
       "2  1 Onion - sliced,1 teaspoon White Urad Dal (Sp...               50   \n",
       "3  1/2 teaspoon Turmeric powder (Haldi),1 tablesp...               45   \n",
       "4   oil - as per use, 1 tablespoon coriander seed...               30   \n",
       "\n",
       "                Cuisine                             TranslatedInstructions  \\\n",
       "0                Indian  To begin making the Masala Karela Recipe,de-se...   \n",
       "1  South Indian Recipes  To make tomato puliogere, first cut the tomato...   \n",
       "2  South Indian Recipes  To begin making the Ragi Vermicelli Recipe, fi...   \n",
       "3                Andhra  To begin making Gongura Chicken Curry Recipe f...   \n",
       "4                Andhra  To make Andhra Style Alam Pachadi, first heat ...   \n",
       "\n",
       "                                                 URL  \\\n",
       "0  https://www.archanaskitchen.com/masala-karela-...   \n",
       "1  https://www.archanaskitchen.com/spicy-tomato-r...   \n",
       "2  https://www.archanaskitchen.com/ragi-vermicell...   \n",
       "3  https://www.archanaskitchen.com/gongura-chicke...   \n",
       "4  https://www.archanaskitchen.com/andhra-style-a...   \n",
       "\n",
       "                                 Cleaned-Ingredients  \\\n",
       "0  salt,amchur (dry mango powder),karela (bitter ...   \n",
       "1  tomato,salt,chickpea lentils,green chilli,rice...   \n",
       "2  salt,rice vermicelli noodles (thin),asafoetida...   \n",
       "3  tomato,salt,ginger,sorrel leaves (gongura),fen...   \n",
       "4  tomato,salt,ginger,red chillies,curry,asafoeti...   \n",
       "\n",
       "                                           image-url  Ingredient-count  \n",
       "0  https://www.archanaskitchen.com/images/archana...                10  \n",
       "1  https://www.archanaskitchen.com/images/archana...                12  \n",
       "2  https://www.archanaskitchen.com/images/archana...                12  \n",
       "3  https://www.archanaskitchen.com/images/archana...                15  \n",
       "4  https://www.archanaskitchen.com/images/archana...                12  "
      ]
     },
     "execution_count": 3,
     "metadata": {},
     "output_type": "execute_result"
    }
   ],
   "source": [
    "df.head()"
   ]
  },
  {
   "cell_type": "code",
   "execution_count": 4,
   "metadata": {},
   "outputs": [],
   "source": [
    "## use Regular expression to cater some spaces and other small punctuation marks"
   ]
  },
  {
   "cell_type": "code",
   "execution_count": 5,
   "metadata": {},
   "outputs": [
    {
     "data": {
      "text/plain": [
       "'To begin making the Masala Karela Recipe,de-seed the karela and slice.\\nDo not remove the skin as the skin has all the nutrients.\\nAdd the karela to the pressure cooker with 3 tablespoon of water, salt and turmeric powder and pressure cook for three whistles.\\nRelease the pressure immediately and open the lids.\\nKeep aside.Heat oil in a heavy bottomed pan or a kadhai.\\nAdd cumin seeds and let it sizzle.Once the cumin seeds have sizzled, add onions and saute them till it turns golden brown in color.Add the karela, red chilli powder, amchur powder, coriander powder and besan.\\nStir to combine the masalas into the karela.Drizzle a little extra oil on the top and mix again.\\nCover the pan and simmer Masala Karela stirring occasionally until everything comes together well.\\nTurn off the heat.Transfer Masala Karela into a serving bowl and serve.Serve Masala Karela along with Panchmel Dal and Phulka for a weekday meal with your family.\\n'"
      ]
     },
     "execution_count": 5,
     "metadata": {},
     "output_type": "execute_result"
    }
   ],
   "source": [
    "import re\n",
    "text = df['TranslatedInstructions'][0]\n",
    "re.sub(r'[^\\W\\S]', ' ', text, flags = re.MULTILINE)"
   ]
  },
  {
   "cell_type": "code",
   "execution_count": 6,
   "metadata": {},
   "outputs": [],
   "source": [
    "def preprocess(text):\n",
    "    text = re.sub(r'[^\\w\\s\\']',' ', text)\n",
    "    text = re.sub(r'[ \\n]+', ' ', text)\n",
    "    return text.strip().lower() "
   ]
  },
  {
   "cell_type": "code",
   "execution_count": 7,
   "metadata": {},
   "outputs": [
    {
     "data": {
      "text/plain": [
       "'to begin making the masala karela recipe de seed the karela and slice do not remove the skin as the skin has all the nutrients add the karela to the pressure cooker with 3 tablespoon of water salt and turmeric powder and pressure cook for three whistles release the pressure immediately and open the lids keep aside heat oil in a heavy bottomed pan or a kadhai add cumin seeds and let it sizzle once the cumin seeds have sizzled add onions and saute them till it turns golden brown in color add the karela red chilli powder amchur powder coriander powder and besan stir to combine the masalas into the karela drizzle a little extra oil on the top and mix again cover the pan and simmer masala karela stirring occasionally until everything comes together well turn off the heat transfer masala karela into a serving bowl and serve serve masala karela along with panchmel dal and phulka for a weekday meal with your family'"
      ]
     },
     "execution_count": 7,
     "metadata": {},
     "output_type": "execute_result"
    }
   ],
   "source": [
    "preprocess(text)"
   ]
  },
  {
   "cell_type": "code",
   "execution_count": 8,
   "metadata": {},
   "outputs": [],
   "source": [
    "df.TranslatedInstructions = df.TranslatedInstructions.map(preprocess)"
   ]
  },
  {
   "cell_type": "code",
   "execution_count": 9,
   "metadata": {},
   "outputs": [],
   "source": [
    "df.to_csv(\"food_receipes.txt\", columns=[\"TranslatedInstructions\"], header=None, index=False)"
   ]
  },
  {
   "cell_type": "code",
   "execution_count": 10,
   "metadata": {},
   "outputs": [],
   "source": [
    "## In the above step making a text file out of the instructions for training the model on food recipe"
   ]
  },
  {
   "cell_type": "code",
   "execution_count": 11,
   "metadata": {},
   "outputs": [],
   "source": [
    "model = fasttext.train_unsupervised(\"food_receipes.txt\")"
   ]
  },
  {
   "cell_type": "code",
   "execution_count": 12,
   "metadata": {},
   "outputs": [
    {
     "data": {
      "text/plain": [
       "[(0.7385936975479126, 'khoya'),\n",
       " (0.7326779365539551, 'sheera'),\n",
       " (0.6914404630661011, 'burfi'),\n",
       " (0.6817960143089294, 'rabri'),\n",
       " (0.6781460046768188, 'rawa'),\n",
       " (0.675316572189331, 'mohan'),\n",
       " (0.6707563996315002, 'badam'),\n",
       " (0.6646512150764465, 'nutty'),\n",
       " (0.651493489742279, 'sheer'),\n",
       " (0.6514676809310913, 'kheer')]"
      ]
     },
     "execution_count": 12,
     "metadata": {},
     "output_type": "execute_result"
    }
   ],
   "source": [
    "model.get_nearest_neighbors(\"halwa\")"
   ]
  },
  {
   "cell_type": "code",
   "execution_count": null,
   "metadata": {},
   "outputs": [],
   "source": []
  }
 ],
 "metadata": {
  "kernelspec": {
   "display_name": "Python 3",
   "language": "python",
   "name": "python3"
  },
  "language_info": {
   "codemirror_mode": {
    "name": "ipython",
    "version": 3
   },
   "file_extension": ".py",
   "mimetype": "text/x-python",
   "name": "python",
   "nbconvert_exporter": "python",
   "pygments_lexer": "ipython3",
   "version": "3.9.2rc1"
  }
 },
 "nbformat": 4,
 "nbformat_minor": 2
}
